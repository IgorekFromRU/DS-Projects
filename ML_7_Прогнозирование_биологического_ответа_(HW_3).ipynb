{
  "cells": [
    {
      "cell_type": "markdown",
      "metadata": {
        "id": "view-in-github",
        "colab_type": "text"
      },
      "source": [
        "<a href=\"https://colab.research.google.com/github/IgorekFromRU/HyperParametrOptimization/blob/master/ML_7_%D0%9F%D1%80%D0%BE%D0%B3%D0%BD%D0%BE%D0%B7%D0%B8%D1%80%D0%BE%D0%B2%D0%B0%D0%BD%D0%B8%D0%B5_%D0%B1%D0%B8%D0%BE%D0%BB%D0%BE%D0%B3%D0%B8%D1%87%D0%B5%D1%81%D0%BA%D0%BE%D0%B3%D0%BE_%D0%BE%D1%82%D0%B2%D0%B5%D1%82%D0%B0_(HW_3).ipynb\" target=\"_parent\"><img src=\"https://colab.research.google.com/assets/colab-badge.svg\" alt=\"Open In Colab\"/></a>"
      ]
    },
    {
      "cell_type": "markdown",
      "id": "AoeSkz4KaANH",
      "metadata": {
        "id": "AoeSkz4KaANH"
      },
      "source": [
        "# ML-7. Прогнозирование биологического ответа (HW-3)\n",
        "\n",
        "![Biomolecules](https://media.geeksforgeeks.org/wp-content/uploads/20220719115043/C581.png)\n",
        "\n",
        "## Задача\n",
        "\n",
        "Необходимо предсказать биологический ответ молекул (столбец 'Activity') по их химическому составу\n",
        "(столбцы D1-D1776).\n",
        "\n",
        "В качестве метрики будем использовать F1-score.\n",
        "\n",
        "Необходимо обучить две модели: логистическую регрессию и случайный лес. Далее нужно сделать подбор гиперпараметров с помощью базовых и продвинутых методов оптимизации. Важно использовать все четыре метода (GridSeachCV, RandomizedSearchCV, Hyperopt, Optuna) хотя бы по разу, максимальное количество итераций не должно превышать 50."
      ]
    },
    {
      "cell_type": "code",
      "execution_count": 9,
      "id": "d8q91-MSaAOG",
      "metadata": {
        "id": "d8q91-MSaAOG"
      },
      "outputs": [],
      "source": [
        "#импорт библиотек\n",
        "import numpy as np\n",
        "import pandas as pd #для анализа и предобработки данных\n",
        "\n",
        "from sklearn.linear_model import LogisticRegression\n",
        "#from sklearn.tree import DecisionTreeClassifier #деревья решений\n",
        "from sklearn.ensemble import RandomForestClassifier #ансамбли\n",
        "from sklearn import metrics #метрики\n",
        "from sklearn import preprocessing #предобработка\n",
        "from sklearn.model_selection import train_test_split, cross_val_score\n",
        "from sklearn.model_selection import GridSearchCV, RandomizedSearchCV\n",
        "\n",
        "import matplotlib.pyplot as plt #для визуализации\n",
        "import seaborn as sns #для визуализации\n",
        "%matplotlib inline\n",
        "\n",
        "import warnings\n",
        "warnings.filterwarnings('ignore')"
      ]
    },
    {
      "cell_type": "code",
      "source": [
        "RANDOMSTATE = 42\n",
        "MAX_ITER = 50\n",
        "name_lr = 'LogisticRegression'\n",
        "name_rf = 'RandomForestClassifier'\n",
        "\n",
        "# создадим таблицу для обобщения итогов\n",
        "score_table = pd.DataFrame(columns=['name_model','optimization', 'score_f1', 'best_params'])"
      ],
      "metadata": {
        "id": "edmpQUHEfNFm"
      },
      "id": "edmpQUHEfNFm",
      "execution_count": 10,
      "outputs": []
    },
    {
      "cell_type": "markdown",
      "id": "8lbyun1kaAOy",
      "metadata": {
        "id": "8lbyun1kaAOy",
        "tags": []
      },
      "source": [
        "---\n",
        "\n",
        "## 1. Знакомство с данными и их исследование\n",
        "\n",
        "Данные представлены в формате CSV.  Каждая строка представляет молекулу.\n",
        "\n",
        "Первый столбец Activity содержит экспериментальные данные, описывающие фактический биологический ответ [0, 1];\n",
        "Остальные столбцы D1-D1776 представляют собой молекулярные дескрипторы — это вычисляемые свойства, которые могут фиксировать некоторые характеристики молекулы, например размер, форму или состав элементов.\n",
        "\n",
        "Предварительная обработка не требуется, данные уже закодированы и нормализованы."
      ]
    },
    {
      "cell_type": "code",
      "execution_count": 11,
      "id": "p770SmlfaAO3",
      "metadata": {
        "colab": {
          "base_uri": "https://localhost:8080/",
          "height": 179
        },
        "id": "p770SmlfaAO3",
        "outputId": "b3f18e08-d983-44e1-a6a4-494447f35c78"
      },
      "outputs": [
        {
          "output_type": "stream",
          "name": "stdout",
          "text": [
            "Drive already mounted at /content/drive; to attempt to forcibly remount, call drive.mount(\"/content/drive\", force_remount=True).\n"
          ]
        },
        {
          "output_type": "execute_result",
          "data": {
            "text/plain": [
              "   Activity        D1        D2    D3   D4        D5        D6        D7  \\\n",
              "0         1  0.000000  0.497009  0.10  0.0  0.132956  0.678031  0.273166   \n",
              "1         1  0.366667  0.606291  0.05  0.0  0.111209  0.803455  0.106105   \n",
              "\n",
              "         D8        D9  ...  D1767  D1768  D1769  D1770  D1771  D1772  D1773  \\\n",
              "0  0.585445  0.743663  ...      0      0      0      0      0      0      0   \n",
              "1  0.411754  0.836582  ...      1      1      1      1      0      1      0   \n",
              "\n",
              "   D1774  D1775  D1776  \n",
              "0      0      0      0  \n",
              "1      0      1      0  \n",
              "\n",
              "[2 rows x 1777 columns]"
            ],
            "text/html": [
              "\n",
              "  <div id=\"df-1ae0ee7f-1e71-4b88-a3eb-320e1e664f2c\" class=\"colab-df-container\">\n",
              "    <div>\n",
              "<style scoped>\n",
              "    .dataframe tbody tr th:only-of-type {\n",
              "        vertical-align: middle;\n",
              "    }\n",
              "\n",
              "    .dataframe tbody tr th {\n",
              "        vertical-align: top;\n",
              "    }\n",
              "\n",
              "    .dataframe thead th {\n",
              "        text-align: right;\n",
              "    }\n",
              "</style>\n",
              "<table border=\"1\" class=\"dataframe\">\n",
              "  <thead>\n",
              "    <tr style=\"text-align: right;\">\n",
              "      <th></th>\n",
              "      <th>Activity</th>\n",
              "      <th>D1</th>\n",
              "      <th>D2</th>\n",
              "      <th>D3</th>\n",
              "      <th>D4</th>\n",
              "      <th>D5</th>\n",
              "      <th>D6</th>\n",
              "      <th>D7</th>\n",
              "      <th>D8</th>\n",
              "      <th>D9</th>\n",
              "      <th>...</th>\n",
              "      <th>D1767</th>\n",
              "      <th>D1768</th>\n",
              "      <th>D1769</th>\n",
              "      <th>D1770</th>\n",
              "      <th>D1771</th>\n",
              "      <th>D1772</th>\n",
              "      <th>D1773</th>\n",
              "      <th>D1774</th>\n",
              "      <th>D1775</th>\n",
              "      <th>D1776</th>\n",
              "    </tr>\n",
              "  </thead>\n",
              "  <tbody>\n",
              "    <tr>\n",
              "      <th>0</th>\n",
              "      <td>1</td>\n",
              "      <td>0.000000</td>\n",
              "      <td>0.497009</td>\n",
              "      <td>0.10</td>\n",
              "      <td>0.0</td>\n",
              "      <td>0.132956</td>\n",
              "      <td>0.678031</td>\n",
              "      <td>0.273166</td>\n",
              "      <td>0.585445</td>\n",
              "      <td>0.743663</td>\n",
              "      <td>...</td>\n",
              "      <td>0</td>\n",
              "      <td>0</td>\n",
              "      <td>0</td>\n",
              "      <td>0</td>\n",
              "      <td>0</td>\n",
              "      <td>0</td>\n",
              "      <td>0</td>\n",
              "      <td>0</td>\n",
              "      <td>0</td>\n",
              "      <td>0</td>\n",
              "    </tr>\n",
              "    <tr>\n",
              "      <th>1</th>\n",
              "      <td>1</td>\n",
              "      <td>0.366667</td>\n",
              "      <td>0.606291</td>\n",
              "      <td>0.05</td>\n",
              "      <td>0.0</td>\n",
              "      <td>0.111209</td>\n",
              "      <td>0.803455</td>\n",
              "      <td>0.106105</td>\n",
              "      <td>0.411754</td>\n",
              "      <td>0.836582</td>\n",
              "      <td>...</td>\n",
              "      <td>1</td>\n",
              "      <td>1</td>\n",
              "      <td>1</td>\n",
              "      <td>1</td>\n",
              "      <td>0</td>\n",
              "      <td>1</td>\n",
              "      <td>0</td>\n",
              "      <td>0</td>\n",
              "      <td>1</td>\n",
              "      <td>0</td>\n",
              "    </tr>\n",
              "  </tbody>\n",
              "</table>\n",
              "<p>2 rows × 1777 columns</p>\n",
              "</div>\n",
              "    <div class=\"colab-df-buttons\">\n",
              "\n",
              "  <div class=\"colab-df-container\">\n",
              "    <button class=\"colab-df-convert\" onclick=\"convertToInteractive('df-1ae0ee7f-1e71-4b88-a3eb-320e1e664f2c')\"\n",
              "            title=\"Convert this dataframe to an interactive table.\"\n",
              "            style=\"display:none;\">\n",
              "\n",
              "  <svg xmlns=\"http://www.w3.org/2000/svg\" height=\"24px\" viewBox=\"0 -960 960 960\">\n",
              "    <path d=\"M120-120v-720h720v720H120Zm60-500h600v-160H180v160Zm220 220h160v-160H400v160Zm0 220h160v-160H400v160ZM180-400h160v-160H180v160Zm440 0h160v-160H620v160ZM180-180h160v-160H180v160Zm440 0h160v-160H620v160Z\"/>\n",
              "  </svg>\n",
              "    </button>\n",
              "\n",
              "  <style>\n",
              "    .colab-df-container {\n",
              "      display:flex;\n",
              "      gap: 12px;\n",
              "    }\n",
              "\n",
              "    .colab-df-convert {\n",
              "      background-color: #E8F0FE;\n",
              "      border: none;\n",
              "      border-radius: 50%;\n",
              "      cursor: pointer;\n",
              "      display: none;\n",
              "      fill: #1967D2;\n",
              "      height: 32px;\n",
              "      padding: 0 0 0 0;\n",
              "      width: 32px;\n",
              "    }\n",
              "\n",
              "    .colab-df-convert:hover {\n",
              "      background-color: #E2EBFA;\n",
              "      box-shadow: 0px 1px 2px rgba(60, 64, 67, 0.3), 0px 1px 3px 1px rgba(60, 64, 67, 0.15);\n",
              "      fill: #174EA6;\n",
              "    }\n",
              "\n",
              "    .colab-df-buttons div {\n",
              "      margin-bottom: 4px;\n",
              "    }\n",
              "\n",
              "    [theme=dark] .colab-df-convert {\n",
              "      background-color: #3B4455;\n",
              "      fill: #D2E3FC;\n",
              "    }\n",
              "\n",
              "    [theme=dark] .colab-df-convert:hover {\n",
              "      background-color: #434B5C;\n",
              "      box-shadow: 0px 1px 3px 1px rgba(0, 0, 0, 0.15);\n",
              "      filter: drop-shadow(0px 1px 2px rgba(0, 0, 0, 0.3));\n",
              "      fill: #FFFFFF;\n",
              "    }\n",
              "  </style>\n",
              "\n",
              "    <script>\n",
              "      const buttonEl =\n",
              "        document.querySelector('#df-1ae0ee7f-1e71-4b88-a3eb-320e1e664f2c button.colab-df-convert');\n",
              "      buttonEl.style.display =\n",
              "        google.colab.kernel.accessAllowed ? 'block' : 'none';\n",
              "\n",
              "      async function convertToInteractive(key) {\n",
              "        const element = document.querySelector('#df-1ae0ee7f-1e71-4b88-a3eb-320e1e664f2c');\n",
              "        const dataTable =\n",
              "          await google.colab.kernel.invokeFunction('convertToInteractive',\n",
              "                                                    [key], {});\n",
              "        if (!dataTable) return;\n",
              "\n",
              "        const docLinkHtml = 'Like what you see? Visit the ' +\n",
              "          '<a target=\"_blank\" href=https://colab.research.google.com/notebooks/data_table.ipynb>data table notebook</a>'\n",
              "          + ' to learn more about interactive tables.';\n",
              "        element.innerHTML = '';\n",
              "        dataTable['output_type'] = 'display_data';\n",
              "        await google.colab.output.renderOutput(dataTable, element);\n",
              "        const docLink = document.createElement('div');\n",
              "        docLink.innerHTML = docLinkHtml;\n",
              "        element.appendChild(docLink);\n",
              "      }\n",
              "    </script>\n",
              "  </div>\n",
              "\n",
              "\n",
              "<div id=\"df-b3a8e517-fc2c-4082-8888-f3767b992793\">\n",
              "  <button class=\"colab-df-quickchart\" onclick=\"quickchart('df-b3a8e517-fc2c-4082-8888-f3767b992793')\"\n",
              "            title=\"Suggest charts.\"\n",
              "            style=\"display:none;\">\n",
              "\n",
              "<svg xmlns=\"http://www.w3.org/2000/svg\" height=\"24px\"viewBox=\"0 0 24 24\"\n",
              "     width=\"24px\">\n",
              "    <g>\n",
              "        <path d=\"M19 3H5c-1.1 0-2 .9-2 2v14c0 1.1.9 2 2 2h14c1.1 0 2-.9 2-2V5c0-1.1-.9-2-2-2zM9 17H7v-7h2v7zm4 0h-2V7h2v10zm4 0h-2v-4h2v4z\"/>\n",
              "    </g>\n",
              "</svg>\n",
              "  </button>\n",
              "\n",
              "<style>\n",
              "  .colab-df-quickchart {\n",
              "      --bg-color: #E8F0FE;\n",
              "      --fill-color: #1967D2;\n",
              "      --hover-bg-color: #E2EBFA;\n",
              "      --hover-fill-color: #174EA6;\n",
              "      --disabled-fill-color: #AAA;\n",
              "      --disabled-bg-color: #DDD;\n",
              "  }\n",
              "\n",
              "  [theme=dark] .colab-df-quickchart {\n",
              "      --bg-color: #3B4455;\n",
              "      --fill-color: #D2E3FC;\n",
              "      --hover-bg-color: #434B5C;\n",
              "      --hover-fill-color: #FFFFFF;\n",
              "      --disabled-bg-color: #3B4455;\n",
              "      --disabled-fill-color: #666;\n",
              "  }\n",
              "\n",
              "  .colab-df-quickchart {\n",
              "    background-color: var(--bg-color);\n",
              "    border: none;\n",
              "    border-radius: 50%;\n",
              "    cursor: pointer;\n",
              "    display: none;\n",
              "    fill: var(--fill-color);\n",
              "    height: 32px;\n",
              "    padding: 0;\n",
              "    width: 32px;\n",
              "  }\n",
              "\n",
              "  .colab-df-quickchart:hover {\n",
              "    background-color: var(--hover-bg-color);\n",
              "    box-shadow: 0 1px 2px rgba(60, 64, 67, 0.3), 0 1px 3px 1px rgba(60, 64, 67, 0.15);\n",
              "    fill: var(--button-hover-fill-color);\n",
              "  }\n",
              "\n",
              "  .colab-df-quickchart-complete:disabled,\n",
              "  .colab-df-quickchart-complete:disabled:hover {\n",
              "    background-color: var(--disabled-bg-color);\n",
              "    fill: var(--disabled-fill-color);\n",
              "    box-shadow: none;\n",
              "  }\n",
              "\n",
              "  .colab-df-spinner {\n",
              "    border: 2px solid var(--fill-color);\n",
              "    border-color: transparent;\n",
              "    border-bottom-color: var(--fill-color);\n",
              "    animation:\n",
              "      spin 1s steps(1) infinite;\n",
              "  }\n",
              "\n",
              "  @keyframes spin {\n",
              "    0% {\n",
              "      border-color: transparent;\n",
              "      border-bottom-color: var(--fill-color);\n",
              "      border-left-color: var(--fill-color);\n",
              "    }\n",
              "    20% {\n",
              "      border-color: transparent;\n",
              "      border-left-color: var(--fill-color);\n",
              "      border-top-color: var(--fill-color);\n",
              "    }\n",
              "    30% {\n",
              "      border-color: transparent;\n",
              "      border-left-color: var(--fill-color);\n",
              "      border-top-color: var(--fill-color);\n",
              "      border-right-color: var(--fill-color);\n",
              "    }\n",
              "    40% {\n",
              "      border-color: transparent;\n",
              "      border-right-color: var(--fill-color);\n",
              "      border-top-color: var(--fill-color);\n",
              "    }\n",
              "    60% {\n",
              "      border-color: transparent;\n",
              "      border-right-color: var(--fill-color);\n",
              "    }\n",
              "    80% {\n",
              "      border-color: transparent;\n",
              "      border-right-color: var(--fill-color);\n",
              "      border-bottom-color: var(--fill-color);\n",
              "    }\n",
              "    90% {\n",
              "      border-color: transparent;\n",
              "      border-bottom-color: var(--fill-color);\n",
              "    }\n",
              "  }\n",
              "</style>\n",
              "\n",
              "  <script>\n",
              "    async function quickchart(key) {\n",
              "      const quickchartButtonEl =\n",
              "        document.querySelector('#' + key + ' button');\n",
              "      quickchartButtonEl.disabled = true;  // To prevent multiple clicks.\n",
              "      quickchartButtonEl.classList.add('colab-df-spinner');\n",
              "      try {\n",
              "        const charts = await google.colab.kernel.invokeFunction(\n",
              "            'suggestCharts', [key], {});\n",
              "      } catch (error) {\n",
              "        console.error('Error during call to suggestCharts:', error);\n",
              "      }\n",
              "      quickchartButtonEl.classList.remove('colab-df-spinner');\n",
              "      quickchartButtonEl.classList.add('colab-df-quickchart-complete');\n",
              "    }\n",
              "    (() => {\n",
              "      let quickchartButtonEl =\n",
              "        document.querySelector('#df-b3a8e517-fc2c-4082-8888-f3767b992793 button');\n",
              "      quickchartButtonEl.style.display =\n",
              "        google.colab.kernel.accessAllowed ? 'block' : 'none';\n",
              "    })();\n",
              "  </script>\n",
              "</div>\n",
              "    </div>\n",
              "  </div>\n"
            ]
          },
          "metadata": {},
          "execution_count": 11
        }
      ],
      "source": [
        "\n",
        "#ЕСЛИ РАБОТАЕМ В IDE\n",
        "#data = pd.read_csv('data\\_train_sem09__1_.zip')\n",
        "\n",
        "#ЕСЛИ РАБОТАЕМ В GOOGLE COLAB\n",
        "# подключаем google диск, где у нас хранятся данные\n",
        "from google.colab import drive\n",
        "drive.mount('/content/drive')\n",
        "# # берем необходимый нам файл с диска, указав путь\n",
        "data = pd.read_csv('./drive/MyDrive/DS/data/_train_sem09__1_.zip')\n",
        "data.head(2)"
      ]
    },
    {
      "cell_type": "code",
      "execution_count": 12,
      "id": "f2ff79cb",
      "metadata": {
        "colab": {
          "base_uri": "https://localhost:8080/"
        },
        "id": "f2ff79cb",
        "outputId": "192be054-f9d9-4da8-9e25-29c80bcbe18a"
      },
      "outputs": [
        {
          "output_type": "stream",
          "name": "stdout",
          "text": [
            "Размер таблицы:  (3751, 1777)\n",
            "Наличие пропусков:  0\n"
          ]
        }
      ],
      "source": [
        "print('Размер таблицы: ', data.shape)\n",
        "print('Наличие пропусков: ', data.isnull().sum().sum())"
      ]
    },
    {
      "cell_type": "markdown",
      "id": "0jbyUoPlaAPc",
      "metadata": {
        "id": "0jbyUoPlaAPc"
      },
      "source": [
        "Смотрим на сбалансированность классов:"
      ]
    },
    {
      "cell_type": "code",
      "execution_count": 13,
      "id": "PPo2xmRdaAPf",
      "metadata": {
        "colab": {
          "base_uri": "https://localhost:8080/"
        },
        "id": "PPo2xmRdaAPf",
        "outputId": "49dc3880-3810-4791-d26b-ef6a6d5eadfd"
      },
      "outputs": [
        {
          "output_type": "execute_result",
          "data": {
            "text/plain": [
              "1    0.542255\n",
              "0    0.457745\n",
              "Name: Activity, dtype: float64"
            ]
          },
          "metadata": {},
          "execution_count": 13
        }
      ],
      "source": [
        "#sns.countplot(data=data, x='Activity');\n",
        "data['Activity'].value_counts(normalize=True)"
      ]
    },
    {
      "cell_type": "markdown",
      "id": "8p3eELnEaAQW",
      "metadata": {
        "id": "8p3eELnEaAQW"
      },
      "source": [
        "Создаем матрицу наблюдений $X$ и вектор ответов $y$\n",
        "\n",
        "Разделим выборку на тренировочную и тестовую в соотношении 80/20. Для сохранения соотношений целевого признака используем параметр stratify (стратифицированное разбиение)."
      ]
    },
    {
      "cell_type": "code",
      "execution_count": 14,
      "id": "_2GncsCbaAQY",
      "metadata": {
        "id": "_2GncsCbaAQY"
      },
      "outputs": [],
      "source": [
        "X, y = data.drop(['Activity'], axis=1), data['Activity']\n",
        "\n",
        "X_train, X_test, y_train, y_test = train_test_split(X, y, stratify=y, random_state = RANDOMSTATE, test_size = 0.2)"
      ]
    },
    {
      "cell_type": "markdown",
      "id": "ad310cf9",
      "metadata": {
        "id": "ad310cf9"
      },
      "source": [
        "---\n",
        "## 2. Базовая оптимизация"
      ]
    },
    {
      "cell_type": "code",
      "execution_count": 15,
      "id": "a4b42baf",
      "metadata": {
        "id": "a4b42baf"
      },
      "outputs": [],
      "source": [
        "def show_info(df, name_model, hpo, score, best_params=None):\n",
        "    df.loc[ len(df.index )] = [name_model, hpo, score, best_params]\n",
        "    print(f'Классификатор: {name_model}. Оптимизация гиперпараметров: {hpo}.')\n",
        "    print('Метрика f1_score на тестовом наборе: ', score)\n",
        "    print(\"Наилучшие значения гиперпараметров: \", best_params)\n"
      ]
    },
    {
      "cell_type": "markdown",
      "source": [
        "Параметры по умолчанию :\n",
        "- class sklearn.ensemble.RandomForestClassifier(n_estimators=100, criterion='gini', max_depth=None, min_samples_leaf=1)\n",
        "- class sklearn.linear_model.LogisticRegression(penalty='l2', C=1.0, solver='lbfgs )"
      ],
      "metadata": {
        "id": "GuzD7VwTYKWq"
      },
      "id": "GuzD7VwTYKWq"
    },
    {
      "cell_type": "markdown",
      "source": [
        "**LogisticRegression**"
      ],
      "metadata": {
        "id": "7jcBg79LXbbQ"
      },
      "id": "7jcBg79LXbbQ"
    },
    {
      "cell_type": "code",
      "execution_count": 16,
      "id": "0aMCHU3-aAQn",
      "metadata": {
        "colab": {
          "base_uri": "https://localhost:8080/"
        },
        "id": "0aMCHU3-aAQn",
        "outputId": "39412516-c896-4df1-d33f-5339eefc779a"
      },
      "outputs": [
        {
          "output_type": "stream",
          "name": "stdout",
          "text": [
            "Классификатор: LogisticRegression. Оптимизация гиперпараметров: default.\n",
            "Метрика f1_score на тестовом наборе:  0.7767\n",
            "Наилучшие значения гиперпараметров:  (penalty='l2', C=1.0, solver='lbfgs )\n"
          ]
        }
      ],
      "source": [
        "#Создаем объект класса логистическая регрессия и обучаем\n",
        "log_reg = LogisticRegression(random_state=RANDOMSTATE, max_iter=MAX_ITER).fit(X_train, y_train)\n",
        "\n",
        "score = metrics.f1_score(y_test, log_reg.predict(X_test)).round(4)\n",
        "show_info(score_table, name_lr, 'default', score,\n",
        "                best_params=\"(penalty='l2', C=1.0, solver='lbfgs )\")"
      ]
    },
    {
      "cell_type": "code",
      "source": [
        "score_table"
      ],
      "metadata": {
        "colab": {
          "base_uri": "https://localhost:8080/",
          "height": 81
        },
        "id": "XLsiP-9YCt8h",
        "outputId": "38031edd-6067-4e8f-b2aa-1d27cb1b24c1"
      },
      "id": "XLsiP-9YCt8h",
      "execution_count": 17,
      "outputs": [
        {
          "output_type": "execute_result",
          "data": {
            "text/plain": [
              "           name_model optimization score_f1  \\\n",
              "0  LogisticRegression      default   0.7767   \n",
              "\n",
              "                             best_params  \n",
              "0  (penalty='l2', C=1.0, solver='lbfgs )  "
            ],
            "text/html": [
              "\n",
              "  <div id=\"df-24053c2e-9eb7-4101-8e3f-485298a6408a\" class=\"colab-df-container\">\n",
              "    <div>\n",
              "<style scoped>\n",
              "    .dataframe tbody tr th:only-of-type {\n",
              "        vertical-align: middle;\n",
              "    }\n",
              "\n",
              "    .dataframe tbody tr th {\n",
              "        vertical-align: top;\n",
              "    }\n",
              "\n",
              "    .dataframe thead tr th {\n",
              "        text-align: left;\n",
              "    }\n",
              "</style>\n",
              "<table border=\"1\" class=\"dataframe\">\n",
              "  <thead>\n",
              "    <tr>\n",
              "      <th></th>\n",
              "      <th>name_model</th>\n",
              "      <th>optimization</th>\n",
              "      <th>score_f1</th>\n",
              "      <th>best_params</th>\n",
              "    </tr>\n",
              "  </thead>\n",
              "  <tbody>\n",
              "    <tr>\n",
              "      <th>0</th>\n",
              "      <td>LogisticRegression</td>\n",
              "      <td>default</td>\n",
              "      <td>0.7767</td>\n",
              "      <td>(penalty='l2', C=1.0, solver='lbfgs )</td>\n",
              "    </tr>\n",
              "  </tbody>\n",
              "</table>\n",
              "</div>\n",
              "    <div class=\"colab-df-buttons\">\n",
              "\n",
              "  <div class=\"colab-df-container\">\n",
              "    <button class=\"colab-df-convert\" onclick=\"convertToInteractive('df-24053c2e-9eb7-4101-8e3f-485298a6408a')\"\n",
              "            title=\"Convert this dataframe to an interactive table.\"\n",
              "            style=\"display:none;\">\n",
              "\n",
              "  <svg xmlns=\"http://www.w3.org/2000/svg\" height=\"24px\" viewBox=\"0 -960 960 960\">\n",
              "    <path d=\"M120-120v-720h720v720H120Zm60-500h600v-160H180v160Zm220 220h160v-160H400v160Zm0 220h160v-160H400v160ZM180-400h160v-160H180v160Zm440 0h160v-160H620v160ZM180-180h160v-160H180v160Zm440 0h160v-160H620v160Z\"/>\n",
              "  </svg>\n",
              "    </button>\n",
              "\n",
              "  <style>\n",
              "    .colab-df-container {\n",
              "      display:flex;\n",
              "      gap: 12px;\n",
              "    }\n",
              "\n",
              "    .colab-df-convert {\n",
              "      background-color: #E8F0FE;\n",
              "      border: none;\n",
              "      border-radius: 50%;\n",
              "      cursor: pointer;\n",
              "      display: none;\n",
              "      fill: #1967D2;\n",
              "      height: 32px;\n",
              "      padding: 0 0 0 0;\n",
              "      width: 32px;\n",
              "    }\n",
              "\n",
              "    .colab-df-convert:hover {\n",
              "      background-color: #E2EBFA;\n",
              "      box-shadow: 0px 1px 2px rgba(60, 64, 67, 0.3), 0px 1px 3px 1px rgba(60, 64, 67, 0.15);\n",
              "      fill: #174EA6;\n",
              "    }\n",
              "\n",
              "    .colab-df-buttons div {\n",
              "      margin-bottom: 4px;\n",
              "    }\n",
              "\n",
              "    [theme=dark] .colab-df-convert {\n",
              "      background-color: #3B4455;\n",
              "      fill: #D2E3FC;\n",
              "    }\n",
              "\n",
              "    [theme=dark] .colab-df-convert:hover {\n",
              "      background-color: #434B5C;\n",
              "      box-shadow: 0px 1px 3px 1px rgba(0, 0, 0, 0.15);\n",
              "      filter: drop-shadow(0px 1px 2px rgba(0, 0, 0, 0.3));\n",
              "      fill: #FFFFFF;\n",
              "    }\n",
              "  </style>\n",
              "\n",
              "    <script>\n",
              "      const buttonEl =\n",
              "        document.querySelector('#df-24053c2e-9eb7-4101-8e3f-485298a6408a button.colab-df-convert');\n",
              "      buttonEl.style.display =\n",
              "        google.colab.kernel.accessAllowed ? 'block' : 'none';\n",
              "\n",
              "      async function convertToInteractive(key) {\n",
              "        const element = document.querySelector('#df-24053c2e-9eb7-4101-8e3f-485298a6408a');\n",
              "        const dataTable =\n",
              "          await google.colab.kernel.invokeFunction('convertToInteractive',\n",
              "                                                    [key], {});\n",
              "        if (!dataTable) return;\n",
              "\n",
              "        const docLinkHtml = 'Like what you see? Visit the ' +\n",
              "          '<a target=\"_blank\" href=https://colab.research.google.com/notebooks/data_table.ipynb>data table notebook</a>'\n",
              "          + ' to learn more about interactive tables.';\n",
              "        element.innerHTML = '';\n",
              "        dataTable['output_type'] = 'display_data';\n",
              "        await google.colab.output.renderOutput(dataTable, element);\n",
              "        const docLink = document.createElement('div');\n",
              "        docLink.innerHTML = docLinkHtml;\n",
              "        element.appendChild(docLink);\n",
              "      }\n",
              "    </script>\n",
              "  </div>\n",
              "\n",
              "    </div>\n",
              "  </div>\n"
            ]
          },
          "metadata": {},
          "execution_count": 17
        }
      ]
    },
    {
      "cell_type": "markdown",
      "source": [
        "**RandomForestClassifier**"
      ],
      "metadata": {
        "id": "eGAf6FWBZs_G"
      },
      "id": "eGAf6FWBZs_G"
    },
    {
      "cell_type": "code",
      "execution_count": 18,
      "id": "100c437a",
      "metadata": {
        "colab": {
          "base_uri": "https://localhost:8080/"
        },
        "id": "100c437a",
        "outputId": "d3db7761-6548-4e00-d895-f3022dd1851a"
      },
      "outputs": [
        {
          "output_type": "stream",
          "name": "stdout",
          "text": [
            "Классификатор: RandomForestClassifier. Оптимизация гиперпараметров: default.\n",
            "Метрика f1_score на тестовом наборе:  0.8048\n",
            "Наилучшие значения гиперпараметров:  (n_estimators=100, criterion='gini', max_depth=None, min_samples_leaf=1)\n"
          ]
        }
      ],
      "source": [
        "#Создаем объект класса Случайный лес и обучаем\n",
        "# В RandomForestClassifier параметр MAX_ITER не применяется,\n",
        "# поскольку случайный лес (Random Forest) - это ансамблевая модель,\n",
        "# которая использует несколько решающих деревьев (Decision Trees) внутри себя.\n",
        "rf = RandomForestClassifier(random_state=RANDOMSTATE).fit(X_train, y_train)\n",
        "\n",
        "score = metrics.f1_score(y_test, rf.predict(X_test)).round(4)\n",
        "show_info(score_table, name_rf, 'default', score,\n",
        "          best_params=\"(n_estimators=100, criterion='gini', max_depth=None, min_samples_leaf=1)\")"
      ]
    },
    {
      "cell_type": "markdown",
      "id": "Q6PP7ObJp7WG",
      "metadata": {
        "id": "Q6PP7ObJp7WG"
      },
      "source": [
        "## 3. GridSearchCV"
      ]
    },
    {
      "cell_type": "markdown",
      "source": [
        "**LogisticRegression**"
      ],
      "metadata": {
        "id": "gQAywaEPXXx3"
      },
      "id": "gQAywaEPXXx3"
    },
    {
      "cell_type": "code",
      "execution_count": 19,
      "id": "gLkG_sbSkBcu",
      "metadata": {
        "colab": {
          "base_uri": "https://localhost:8080/"
        },
        "id": "gLkG_sbSkBcu",
        "outputId": "9b11897f-e1ca-44df-c584-d311482e60ea"
      },
      "outputs": [
        {
          "output_type": "stream",
          "name": "stdout",
          "text": [
            "CPU times: user 7.1 s, sys: 816 ms, total: 7.92 s\n",
            "Wall time: 4min 5s\n",
            "Классификатор: LogisticRegression. Оптимизация гиперпараметров: GridSearchCV.\n",
            "Метрика f1_score на тестовом наборе:  0.781\n",
            "Наилучшие значения гиперпараметров:  {'C': 0.01, 'penalty': 'l2', 'solver': 'sag'}\n"
          ]
        }
      ],
      "source": [
        "param_grid = [\n",
        "              {'penalty': ['l2', 'none'] , # тип регуляризации\n",
        "              'solver': ['lbfgs', 'sag'], # алгоритм оптимизации\n",
        "               'C': [0.01, 0.1, 0.3, 0.5, 0.7, 0.9, 1]}, # уровень силы регурялизации\n",
        "\n",
        "              # {'penalty': ['l1', 'l2'] ,\n",
        "              # 'solver': ['liblinear', 'saga'],\n",
        "              #  'C': [0.01, 0.1, 0.3, 0.5, 0.7, 0.9, 1]}\n",
        "]\n",
        "\n",
        "grid_search_lr = GridSearchCV(\n",
        "    estimator=LogisticRegression(random_state=RANDOMSTATE,max_iter=MAX_ITER)\n",
        "    , param_grid=param_grid\n",
        "    # For int/None inputs, if the estimator is a classifier and y is\n",
        "    # either binary or multiclass, StratifiedKFold is used. In all\n",
        "    # other cases, KFold is used.\n",
        "    , cv=5\n",
        "    , scoring='f1'\n",
        "    , n_jobs = -1\n",
        "    )\n",
        "\n",
        "%time grid_search_lr.fit(X_train, y_train)\n",
        "\n",
        "# Оба варианта вычисляют F1-меру на тестовом наборе данных\n",
        "# с использованием модели, обученной с лучшими гиперпараметрами.\n",
        "# Разница заключается в том, как это делается - через метод .score\n",
        "# или через явное предсказание и metrics.f1_score.\n",
        "#print(f\"f1 на тестовом наборе: {grid_search_lr.score(X_test, y_test):.4f}\")\n",
        "best_score = metrics.f1_score(y_test, grid_search_lr.predict(X_test)).round(4)\n",
        "show_info(score_table, name_lr, 'GridSearchCV', best_score, grid_search_lr.best_params_)"
      ]
    },
    {
      "cell_type": "code",
      "execution_count": 20,
      "id": "J8Fvuix4j1o5",
      "metadata": {
        "colab": {
          "base_uri": "https://localhost:8080/",
          "height": 472
        },
        "id": "J8Fvuix4j1o5",
        "outputId": "bbb5f506-c1bc-4ad8-dab8-7ab33b60d232"
      },
      "outputs": [
        {
          "output_type": "display_data",
          "data": {
            "text/plain": [
              "<Figure size 640x480 with 2 Axes>"
            ],
            "image/png": "[encoded data removed]"
          },
          "metadata": {}
        }
      ],
      "source": [
        "# отрисуем, как менялась метрика f1 при различных гиперпараметрах\n",
        "visual = pd.pivot_table(pd.DataFrame(grid_search_lr.cv_results_)\n",
        "                        , values='mean_test_score', index='param_C'\n",
        "                        # , columns='param_penalty'\n",
        "                        , columns='param_solver'\n",
        "                      )\n",
        "sns.heatmap(visual)\n",
        "plt.title('Тепловая карта зависимости метрики f1 от solver и С') # подпись графика\n",
        "sns.set(rc={'figure.figsize':(12, 8)}) #задаем размер графика"
      ]
    },
    {
      "cell_type": "markdown",
      "source": [
        "**RandomForestClassifier**"
      ],
      "metadata": {
        "id": "D5q5WF4GZyzP"
      },
      "id": "D5q5WF4GZyzP"
    },
    {
      "cell_type": "code",
      "execution_count": 21,
      "id": "d7345ff3",
      "metadata": {
        "colab": {
          "base_uri": "https://localhost:8080/"
        },
        "id": "d7345ff3",
        "outputId": "406b90c8-920d-4409-aab9-fdd4bf4e938e"
      },
      "outputs": [
        {
          "output_type": "stream",
          "name": "stdout",
          "text": [
            "CPU times: user 4.99 s, sys: 554 ms, total: 5.54 s\n",
            "Wall time: 2min 52s\n",
            "Классификатор: RandomForestClassifier. Оптимизация гиперпараметров: GridSearchCV.\n",
            "Метрика f1_score на тестовом наборе:  0.8005\n",
            "Наилучшие значения гиперпараметров:  {'max_depth': 17, 'min_samples_leaf': 5, 'n_estimators': 140}\n"
          ]
        }
      ],
      "source": [
        "param_grid = {'n_estimators': list(range(80, 200, 30))\n",
        "              , 'min_samples_leaf': [5] #list(np.linspace(2, 10, 2, dtype=int)\n",
        "              , 'max_depth': list(np.linspace(10, 40, 5, dtype=int))\n",
        "              }\n",
        "\n",
        "grid_search_rf = GridSearchCV(\n",
        "    estimator=RandomForestClassifier(random_state=42)\n",
        "    , param_grid=param_grid\n",
        "    , cv=5\n",
        "    , scoring= 'f1'\n",
        "    , n_jobs = -1\n",
        ")\n",
        "\n",
        "%time grid_search_rf.fit(X_train, y_train)\n",
        "\n",
        "best_score = metrics.f1_score(y_test, grid_search_rf.predict(X_test)).round(4)\n",
        "show_info(score_table, name_rf, 'GridSearchCV', best_score, grid_search_rf.best_params_)"
      ]
    },
    {
      "cell_type": "markdown",
      "id": "QOlWE5zSptj0",
      "metadata": {
        "id": "QOlWE5zSptj0"
      },
      "source": [
        "---\n",
        "## 4. RandomizedSearchCV"
      ]
    },
    {
      "cell_type": "markdown",
      "source": [
        "**LogisticRegression**"
      ],
      "metadata": {
        "id": "14F6VX4bXMmS"
      },
      "id": "14F6VX4bXMmS"
    },
    {
      "cell_type": "code",
      "execution_count": 22,
      "id": "4yjUJJKntcX7",
      "metadata": {
        "colab": {
          "base_uri": "https://localhost:8080/"
        },
        "id": "4yjUJJKntcX7",
        "outputId": "7a7e0a40-2cef-4399-c3d1-14e5c8230593"
      },
      "outputs": [
        {
          "output_type": "stream",
          "name": "stdout",
          "text": [
            "CPU times: user 2.37 s, sys: 577 ms, total: 2.95 s\n",
            "Wall time: 1min 38s\n",
            "Классификатор: LogisticRegression. Оптимизация гиперпараметров: RandomizedSearchCV.\n",
            "Метрика f1_score на тестовом наборе:  0.7876\n",
            "Наилучшие значения гиперпараметров:  {'solver': 'lbfgs', 'penalty': 'l2', 'C': 0.12}\n"
          ]
        }
      ],
      "source": [
        "param_distributions = {'penalty': ['l2', 'none'] ,\n",
        "                        'solver': ['lbfgs', 'sag'],\n",
        "                        'C': list(np.linspace(0.01, 1, 10, dtype=float))\n",
        "                      }\n",
        "\n",
        "random_search_lr = RandomizedSearchCV(\n",
        "    estimator=LogisticRegression(random_state=RANDOMSTATE, max_iter=MAX_ITER)\n",
        "    , param_distributions=param_distributions\n",
        "    , cv=5\n",
        "    , scoring='f1'\n",
        "    , n_iter = 10\n",
        "    , n_jobs = -1\n",
        ")\n",
        "%time random_search_lr.fit(X_train, y_train)\n",
        "\n",
        "best_score = metrics.f1_score(y_test, random_search_lr.predict(X_test)).round(4)\n",
        "show_info(score_table, name_lr, 'RandomizedSearchCV', best_score, random_search_lr.best_params_)"
      ]
    },
    {
      "cell_type": "markdown",
      "source": [
        "**RandomForestClassifier**"
      ],
      "metadata": {
        "id": "l9XbhlRPZ3KB"
      },
      "id": "l9XbhlRPZ3KB"
    },
    {
      "cell_type": "code",
      "execution_count": 26,
      "id": "TBSxQJ6JzS1f",
      "metadata": {
        "colab": {
          "base_uri": "https://localhost:8080/"
        },
        "id": "TBSxQJ6JzS1f",
        "outputId": "91aedd6a-5006-4f86-c9ee-0163b99ff4e7"
      },
      "outputs": [
        {
          "output_type": "stream",
          "name": "stdout",
          "text": [
            "CPU times: user 4.68 s, sys: 281 ms, total: 4.96 s\n",
            "Wall time: 1min 27s\n",
            "Классификатор: RandomForestClassifier. Оптимизация гиперпараметров: RandomizedSearchCV.\n",
            "Метрика f1_score на тестовом наборе:  0.7932\n",
            "Наилучшие значения гиперпараметров:  {'n_estimators': 191, 'min_samples_leaf': 5, 'max_depth': 10}\n"
          ]
        }
      ],
      "source": [
        "param_distributions = {'n_estimators': list(range(100, 200, 1))\n",
        "                       , 'min_samples_leaf': [5] #list(np.linspace(2, 10, 2, dtype=int)\n",
        "                       , 'max_depth': list(np.linspace(10, 40, 1, dtype=int))\n",
        "                      }\n",
        "\n",
        "random_search_rf = RandomizedSearchCV(\n",
        "    estimator=RandomForestClassifier(random_state=RANDOMSTATE)\n",
        "    , param_distributions=param_distributions\n",
        "    , cv=5\n",
        "    , scoring='f1'\n",
        "    , n_iter = 10\n",
        "    , n_jobs = -1\n",
        ")\n",
        "\n",
        "%time random_search_rf.fit(X_train, y_train)\n",
        "\n",
        "score = metrics.f1_score(y_test, random_search_rf.predict(X_test)).round(4)\n",
        "show_info(score_table, name_rf, 'RandomizedSearchCV', score, random_search_rf.best_params_)"
      ]
    },
    {
      "cell_type": "markdown",
      "id": "Kmo2b6kPChhN",
      "metadata": {
        "id": "Kmo2b6kPChhN"
      },
      "source": [
        "---\n",
        "## 5. Hyperopt"
      ]
    },
    {
      "cell_type": "code",
      "execution_count": 27,
      "id": "Ae44foDuCzke",
      "metadata": {
        "colab": {
          "base_uri": "https://localhost:8080/"
        },
        "id": "Ae44foDuCzke",
        "outputId": "e093082d-eb68-4992-d210-e42616798945"
      },
      "outputs": [
        {
          "output_type": "stream",
          "name": "stdout",
          "text": [
            "Версия Hyperopt :  0.2.7\n"
          ]
        }
      ],
      "source": [
        "#делаем импорт и выведем версию библиотеки\n",
        "\n",
        "import hyperopt\n",
        "from hyperopt import fmin, tpe, hp, STATUS_OK, Trials\n",
        "# fmin - основная функция, она будет минимизировать наш функционал\n",
        "# tpe - алгоритм оптимизации\n",
        "# hp - включает набор методов для объявления пространства поиска гиперпараметров\n",
        "# trails - используется для логирования результатов\n",
        "\n",
        "print(\"Версия Hyperopt : \", hyperopt.__version__)"
      ]
    },
    {
      "cell_type": "markdown",
      "source": [
        "**LogisticRegression**"
      ],
      "metadata": {
        "id": "S-UtZHmhCtkI"
      },
      "id": "S-UtZHmhCtkI"
    },
    {
      "cell_type": "code",
      "source": [
        "def hyperopt_lr(params):\n",
        "  estimator = LogisticRegression(\n",
        "            penalty=params['penalty']\n",
        "          , solver=params['solver']\n",
        "          , C=params['C']\n",
        "          , random_state=RANDOMSTATE\n",
        "          , max_iter=MAX_ITER\n",
        "  )\n",
        "\n",
        "  # Выполняем кросс-валидацию и используем F1-меру как метрику для оптимизации\n",
        "  mean_f1 = cross_val_score(estimator, X_train, y_train, cv=5, scoring=\"f1\", n_jobs = -1).mean()\n",
        "\n",
        "  # Возвращаем минус среднюю F1-меру, так как Hyperopt максимизирует функцию, а мы хотим минимизировать метрику\n",
        "  return {'loss': -mean_f1, 'status': STATUS_OK}\n",
        "  # score = metrics.f1_score(y_train, estimator.predict(X_train))\n",
        "  # return -1.0 * score\n",
        ""
      ],
      "metadata": {
        "id": "qI7uSD2NaVsA"
      },
      "id": "qI7uSD2NaVsA",
      "execution_count": 28,
      "outputs": []
    },
    {
      "cell_type": "code",
      "source": [
        "%%time\n",
        "# начинаем подбор гиперпараметров\n",
        "\n",
        "trials = Trials() # используется для логирования результатов\n",
        "\n",
        "space = {\n",
        "          'penalty': hp.choice('penalty', ['l2', 'none']),\n",
        "          'solver': hp.choice('solver', ['lbfgs', 'sag']),\n",
        "          'C': hp.uniform('C', 0.01, 1.0)\n",
        "}\n",
        "\n",
        "best = fmin(fn=hyperopt_lr, space=space, algo=tpe.suggest, max_evals=20, trials=trials,\n",
        "                rstate=np.random.default_rng(RANDOMSTATE))\n",
        "print(\"Лучшие параметры:\", best)"
      ],
      "metadata": {
        "id": "bCNobAUubD_b",
        "colab": {
          "base_uri": "https://localhost:8080/"
        },
        "outputId": "a528ef26-ed22-4cce-95cf-ff47edca58d3"
      },
      "id": "bCNobAUubD_b",
      "execution_count": 36,
      "outputs": [
        {
          "output_type": "stream",
          "name": "stdout",
          "text": [
            "100%|██████████| 20/20 [03:19<00:00,  9.95s/trial, best loss: -0.7906293975608462]\n",
            "Лучшие параметры: {'C': 0.05084775379720359, 'penalty': 0, 'solver': 0}\n",
            "CPU times: user 3.46 s, sys: 1.3 s, total: 4.75 s\n",
            "Wall time: 3min 19s\n"
          ]
        }
      ]
    },
    {
      "cell_type": "code",
      "source": [
        "\n",
        "#print(\"Лучшие параметры:\", best)\n",
        "best_params = hyperopt.space_eval(space, best)\n",
        "#print(\"Лучшие параметры (полные):\", best_params)\n",
        "best_estimator = LogisticRegression(**best_params, random_state=RANDOMSTATE, max_iter=MAX_ITER)\n",
        "best_estimator.fit(X_train, y_train)\n",
        "best_f1_score = metrics.f1_score(y_test, best_estimator.predict(X_test)).round(4)\n",
        "# print(\"Лучшая F1-мера:\", best_f1_score)\n",
        "\n",
        "show_info(score_table, name_lr, 'HyperOpt (CV)', best_f1_score, best_params)"
      ],
      "metadata": {
        "colab": {
          "base_uri": "https://localhost:8080/"
        },
        "id": "h9-_d0kziO1l",
        "outputId": "0745ed7d-2ae1-4e3e-9a28-24b5d0de91fe"
      },
      "id": "h9-_d0kziO1l",
      "execution_count": 39,
      "outputs": [
        {
          "output_type": "stream",
          "name": "stdout",
          "text": [
            "Классификатор: LogisticRegression. Оптимизация гиперпараметров: HyperOpt (CV).\n",
            "Метрика f1_score на тестовом наборе:  0.7834\n",
            "Наилучшие значения гиперпараметров:  {'C': 0.05084775379720359, 'penalty': 'l2', 'solver': 'lbfgs'}\n"
          ]
        }
      ]
    },
    {
      "cell_type": "markdown",
      "source": [
        "**RandomForestClassifier**"
      ],
      "metadata": {
        "id": "yfr2gnlBClZO"
      },
      "id": "yfr2gnlBClZO"
    },
    {
      "cell_type": "code",
      "execution_count": 40,
      "id": "t3JS7HXU8pd2",
      "metadata": {
        "id": "t3JS7HXU8pd2"
      },
      "outputs": [],
      "source": [
        "def hyperopt_rf(params):\n",
        "    estimator = RandomForestClassifier(\n",
        "        n_estimators=int(params['n_estimators']),\n",
        "        max_depth=int(params['max_depth']),\n",
        "        min_samples_leaf=int(params['min_samples_leaf']),\n",
        "        random_state=RANDOMSTATE\n",
        "    )\n",
        "\n",
        "    # Выполняем кросс-валидацию и используем F1-меру как метрику для оптимизации\n",
        "    mean_f1 = cross_val_score(estimator, X_train, y_train, cv=5, scoring=\"f1\", n_jobs=-1).mean()\n",
        "\n",
        "    # Возвращаем минус среднюю F1-меру, так как Hyperopt максимизирует функцию, а мы хотим минимизировать метрику\n",
        "    return {'loss': -mean_f1, 'status': STATUS_OK}\n",
        "\n",
        "    # score = metrics.f1_score(y_train, estimator.predict(X_train))\n",
        "    # return -1.0 * score\n"
      ]
    },
    {
      "cell_type": "code",
      "execution_count": 41,
      "id": "qxKIThc002O1",
      "metadata": {
        "colab": {
          "base_uri": "https://localhost:8080/"
        },
        "id": "qxKIThc002O1",
        "outputId": "9eb0e0c4-847c-49df-815d-10e6bee49c35"
      },
      "outputs": [
        {
          "output_type": "stream",
          "name": "stdout",
          "text": [
            "100%|██████████| 20/20 [03:12<00:00,  9.63s/trial, best loss: -0.8167179629614884]\n",
            "CPU times: user 3.28 s, sys: 1.26 s, total: 4.53 s\n",
            "Wall time: 3min 12s\n"
          ]
        }
      ],
      "source": [
        "%%time\n",
        "# начинаем подбор гиперпараметров\n",
        "\n",
        "trials = Trials() # используется для логирования результатов\n",
        "\n",
        "space={'n_estimators': hp.quniform('n_estimators', 80, 200, 1)\n",
        "        , 'max_depth' : hp.quniform('max_depth', 10, 40, 1)\n",
        "        , 'min_samples_leaf': hp.quniform('min_samples_leaf', 2, 10, 1)\n",
        "      }\n",
        "\n",
        "best=fmin(fn=hyperopt_rf, space=space, algo=tpe.suggest, max_evals=20, trials=trials,\n",
        "              rstate=np.random.default_rng(RANDOMSTATE)\n",
        ")"
      ]
    },
    {
      "cell_type": "code",
      "source": [
        "score_table"
      ],
      "metadata": {
        "colab": {
          "base_uri": "https://localhost:8080/",
          "height": 286
        },
        "id": "yO4__QufQIm3",
        "outputId": "4ced1258-6fb3-449b-c23c-55c078c06f66"
      },
      "id": "yO4__QufQIm3",
      "execution_count": 43,
      "outputs": [
        {
          "output_type": "execute_result",
          "data": {
            "text/plain": [
              "               name_model        optimization score_f1  \\\n",
              "0      LogisticRegression             default   0.7767   \n",
              "1  RandomForestClassifier             default   0.8048   \n",
              "2      LogisticRegression        GridSearchCV   0.7810   \n",
              "3  RandomForestClassifier        GridSearchCV   0.8005   \n",
              "4      LogisticRegression  RandomizedSearchCV   0.7876   \n",
              "5  RandomForestClassifier  RandomizedSearchCV   0.7932   \n",
              "6      LogisticRegression       HyperOpt (CV)   0.7834   \n",
              "\n",
              "                                                                best_params  \n",
              "0                                     (penalty='l2', C=1.0, solver='lbfgs )  \n",
              "1  (n_estimators=100, criterion='gini', max_depth=None, min_samples_leaf=1)  \n",
              "2                             {'C': 0.01, 'penalty': 'l2', 'solver': 'sag'}  \n",
              "3             {'max_depth': 17, 'min_samples_leaf': 5, 'n_estimators': 140}  \n",
              "4                           {'solver': 'lbfgs', 'penalty': 'l2', 'C': 0.12}  \n",
              "5             {'n_estimators': 191, 'min_samples_leaf': 5, 'max_depth': 10}  \n",
              "6            {'C': 0.05084775379720359, 'penalty': 'l2', 'solver': 'lbfgs'}  "
            ],
            "text/html": [
              "\n",
              "  <div id=\"df-b67780de-e1ab-4f31-aef6-ce056eb6d415\" class=\"colab-df-container\">\n",
              "    <div>\n",
              "<style scoped>\n",
              "    .dataframe tbody tr th:only-of-type {\n",
              "        vertical-align: middle;\n",
              "    }\n",
              "\n",
              "    .dataframe tbody tr th {\n",
              "        vertical-align: top;\n",
              "    }\n",
              "\n",
              "    .dataframe thead tr th {\n",
              "        text-align: left;\n",
              "    }\n",
              "</style>\n",
              "<table border=\"1\" class=\"dataframe\">\n",
              "  <thead>\n",
              "    <tr>\n",
              "      <th></th>\n",
              "      <th>name_model</th>\n",
              "      <th>optimization</th>\n",
              "      <th>score_f1</th>\n",
              "      <th>best_params</th>\n",
              "    </tr>\n",
              "  </thead>\n",
              "  <tbody>\n",
              "    <tr>\n",
              "      <th>0</th>\n",
              "      <td>LogisticRegression</td>\n",
              "      <td>default</td>\n",
              "      <td>0.7767</td>\n",
              "      <td>(penalty='l2', C=1.0, solver='lbfgs )</td>\n",
              "    </tr>\n",
              "    <tr>\n",
              "      <th>1</th>\n",
              "      <td>RandomForestClassifier</td>\n",
              "      <td>default</td>\n",
              "      <td>0.8048</td>\n",
              "      <td>(n_estimators=100, criterion='gini', max_depth=None, min_samples_leaf=1)</td>\n",
              "    </tr>\n",
              "    <tr>\n",
              "      <th>2</th>\n",
              "      <td>LogisticRegression</td>\n",
              "      <td>GridSearchCV</td>\n",
              "      <td>0.7810</td>\n",
              "      <td>{'C': 0.01, 'penalty': 'l2', 'solver': 'sag'}</td>\n",
              "    </tr>\n",
              "    <tr>\n",
              "      <th>3</th>\n",
              "      <td>RandomForestClassifier</td>\n",
              "      <td>GridSearchCV</td>\n",
              "      <td>0.8005</td>\n",
              "      <td>{'max_depth': 17, 'min_samples_leaf': 5, 'n_estimators': 140}</td>\n",
              "    </tr>\n",
              "    <tr>\n",
              "      <th>4</th>\n",
              "      <td>LogisticRegression</td>\n",
              "      <td>RandomizedSearchCV</td>\n",
              "      <td>0.7876</td>\n",
              "      <td>{'solver': 'lbfgs', 'penalty': 'l2', 'C': 0.12}</td>\n",
              "    </tr>\n",
              "    <tr>\n",
              "      <th>5</th>\n",
              "      <td>RandomForestClassifier</td>\n",
              "      <td>RandomizedSearchCV</td>\n",
              "      <td>0.7932</td>\n",
              "      <td>{'n_estimators': 191, 'min_samples_leaf': 5, 'max_depth': 10}</td>\n",
              "    </tr>\n",
              "    <tr>\n",
              "      <th>6</th>\n",
              "      <td>LogisticRegression</td>\n",
              "      <td>HyperOpt (CV)</td>\n",
              "      <td>0.7834</td>\n",
              "      <td>{'C': 0.05084775379720359, 'penalty': 'l2', 'solver': 'lbfgs'}</td>\n",
              "    </tr>\n",
              "  </tbody>\n",
              "</table>\n",
              "</div>\n",
              "    <div class=\"colab-df-buttons\">\n",
              "\n",
              "  <div class=\"colab-df-container\">\n",
              "    <button class=\"colab-df-convert\" onclick=\"convertToInteractive('df-b67780de-e1ab-4f31-aef6-ce056eb6d415')\"\n",
              "            title=\"Convert this dataframe to an interactive table.\"\n",
              "            style=\"display:none;\">\n",
              "\n",
              "  <svg xmlns=\"http://www.w3.org/2000/svg\" height=\"24px\" viewBox=\"0 -960 960 960\">\n",
              "    <path d=\"M120-120v-720h720v720H120Zm60-500h600v-160H180v160Zm220 220h160v-160H400v160Zm0 220h160v-160H400v160ZM180-400h160v-160H180v160Zm440 0h160v-160H620v160ZM180-180h160v-160H180v160Zm440 0h160v-160H620v160Z\"/>\n",
              "  </svg>\n",
              "    </button>\n",
              "\n",
              "  <style>\n",
              "    .colab-df-container {\n",
              "      display:flex;\n",
              "      gap: 12px;\n",
              "    }\n",
              "\n",
              "    .colab-df-convert {\n",
              "      background-color: #E8F0FE;\n",
              "      border: none;\n",
              "      border-radius: 50%;\n",
              "      cursor: pointer;\n",
              "      display: none;\n",
              "      fill: #1967D2;\n",
              "      height: 32px;\n",
              "      padding: 0 0 0 0;\n",
              "      width: 32px;\n",
              "    }\n",
              "\n",
              "    .colab-df-convert:hover {\n",
              "      background-color: #E2EBFA;\n",
              "      box-shadow: 0px 1px 2px rgba(60, 64, 67, 0.3), 0px 1px 3px 1px rgba(60, 64, 67, 0.15);\n",
              "      fill: #174EA6;\n",
              "    }\n",
              "\n",
              "    .colab-df-buttons div {\n",
              "      margin-bottom: 4px;\n",
              "    }\n",
              "\n",
              "    [theme=dark] .colab-df-convert {\n",
              "      background-color: #3B4455;\n",
              "      fill: #D2E3FC;\n",
              "    }\n",
              "\n",
              "    [theme=dark] .colab-df-convert:hover {\n",
              "      background-color: #434B5C;\n",
              "      box-shadow: 0px 1px 3px 1px rgba(0, 0, 0, 0.15);\n",
              "      filter: drop-shadow(0px 1px 2px rgba(0, 0, 0, 0.3));\n",
              "      fill: #FFFFFF;\n",
              "    }\n",
              "  </style>\n",
              "\n",
              "    <script>\n",
              "      const buttonEl =\n",
              "        document.querySelector('#df-b67780de-e1ab-4f31-aef6-ce056eb6d415 button.colab-df-convert');\n",
              "      buttonEl.style.display =\n",
              "        google.colab.kernel.accessAllowed ? 'block' : 'none';\n",
              "\n",
              "      async function convertToInteractive(key) {\n",
              "        const element = document.querySelector('#df-b67780de-e1ab-4f31-aef6-ce056eb6d415');\n",
              "        const dataTable =\n",
              "          await google.colab.kernel.invokeFunction('convertToInteractive',\n",
              "                                                    [key], {});\n",
              "        if (!dataTable) return;\n",
              "\n",
              "        const docLinkHtml = 'Like what you see? Visit the ' +\n",
              "          '<a target=\"_blank\" href=https://colab.research.google.com/notebooks/data_table.ipynb>data table notebook</a>'\n",
              "          + ' to learn more about interactive tables.';\n",
              "        element.innerHTML = '';\n",
              "        dataTable['output_type'] = 'display_data';\n",
              "        await google.colab.output.renderOutput(dataTable, element);\n",
              "        const docLink = document.createElement('div');\n",
              "        docLink.innerHTML = docLinkHtml;\n",
              "        element.appendChild(docLink);\n",
              "      }\n",
              "    </script>\n",
              "  </div>\n",
              "\n",
              "\n",
              "<div id=\"df-f03f8c9e-bf6e-42c4-b4a9-d78e0602de22\">\n",
              "  <button class=\"colab-df-quickchart\" onclick=\"quickchart('df-f03f8c9e-bf6e-42c4-b4a9-d78e0602de22')\"\n",
              "            title=\"Suggest charts.\"\n",
              "            style=\"display:none;\">\n",
              "\n",
              "<svg xmlns=\"http://www.w3.org/2000/svg\" height=\"24px\"viewBox=\"0 0 24 24\"\n",
              "     width=\"24px\">\n",
              "    <g>\n",
              "        <path d=\"M19 3H5c-1.1 0-2 .9-2 2v14c0 1.1.9 2 2 2h14c1.1 0 2-.9 2-2V5c0-1.1-.9-2-2-2zM9 17H7v-7h2v7zm4 0h-2V7h2v10zm4 0h-2v-4h2v4z\"/>\n",
              "    </g>\n",
              "</svg>\n",
              "  </button>\n",
              "\n",
              "<style>\n",
              "  .colab-df-quickchart {\n",
              "      --bg-color: #E8F0FE;\n",
              "      --fill-color: #1967D2;\n",
              "      --hover-bg-color: #E2EBFA;\n",
              "      --hover-fill-color: #174EA6;\n",
              "      --disabled-fill-color: #AAA;\n",
              "      --disabled-bg-color: #DDD;\n",
              "  }\n",
              "\n",
              "  [theme=dark] .colab-df-quickchart {\n",
              "      --bg-color: #3B4455;\n",
              "      --fill-color: #D2E3FC;\n",
              "      --hover-bg-color: #434B5C;\n",
              "      --hover-fill-color: #FFFFFF;\n",
              "      --disabled-bg-color: #3B4455;\n",
              "      --disabled-fill-color: #666;\n",
              "  }\n",
              "\n",
              "  .colab-df-quickchart {\n",
              "    background-color: var(--bg-color);\n",
              "    border: none;\n",
              "    border-radius: 50%;\n",
              "    cursor: pointer;\n",
              "    display: none;\n",
              "    fill: var(--fill-color);\n",
              "    height: 32px;\n",
              "    padding: 0;\n",
              "    width: 32px;\n",
              "  }\n",
              "\n",
              "  .colab-df-quickchart:hover {\n",
              "    background-color: var(--hover-bg-color);\n",
              "    box-shadow: 0 1px 2px rgba(60, 64, 67, 0.3), 0 1px 3px 1px rgba(60, 64, 67, 0.15);\n",
              "    fill: var(--button-hover-fill-color);\n",
              "  }\n",
              "\n",
              "  .colab-df-quickchart-complete:disabled,\n",
              "  .colab-df-quickchart-complete:disabled:hover {\n",
              "    background-color: var(--disabled-bg-color);\n",
              "    fill: var(--disabled-fill-color);\n",
              "    box-shadow: none;\n",
              "  }\n",
              "\n",
              "  .colab-df-spinner {\n",
              "    border: 2px solid var(--fill-color);\n",
              "    border-color: transparent;\n",
              "    border-bottom-color: var(--fill-color);\n",
              "    animation:\n",
              "      spin 1s steps(1) infinite;\n",
              "  }\n",
              "\n",
              "  @keyframes spin {\n",
              "    0% {\n",
              "      border-color: transparent;\n",
              "      border-bottom-color: var(--fill-color);\n",
              "      border-left-color: var(--fill-color);\n",
              "    }\n",
              "    20% {\n",
              "      border-color: transparent;\n",
              "      border-left-color: var(--fill-color);\n",
              "      border-top-color: var(--fill-color);\n",
              "    }\n",
              "    30% {\n",
              "      border-color: transparent;\n",
              "      border-left-color: var(--fill-color);\n",
              "      border-top-color: var(--fill-color);\n",
              "      border-right-color: var(--fill-color);\n",
              "    }\n",
              "    40% {\n",
              "      border-color: transparent;\n",
              "      border-right-color: var(--fill-color);\n",
              "      border-top-color: var(--fill-color);\n",
              "    }\n",
              "    60% {\n",
              "      border-color: transparent;\n",
              "      border-right-color: var(--fill-color);\n",
              "    }\n",
              "    80% {\n",
              "      border-color: transparent;\n",
              "      border-right-color: var(--fill-color);\n",
              "      border-bottom-color: var(--fill-color);\n",
              "    }\n",
              "    90% {\n",
              "      border-color: transparent;\n",
              "      border-bottom-color: var(--fill-color);\n",
              "    }\n",
              "  }\n",
              "</style>\n",
              "\n",
              "  <script>\n",
              "    async function quickchart(key) {\n",
              "      const quickchartButtonEl =\n",
              "        document.querySelector('#' + key + ' button');\n",
              "      quickchartButtonEl.disabled = true;  // To prevent multiple clicks.\n",
              "      quickchartButtonEl.classList.add('colab-df-spinner');\n",
              "      try {\n",
              "        const charts = await google.colab.kernel.invokeFunction(\n",
              "            'suggestCharts', [key], {});\n",
              "      } catch (error) {\n",
              "        console.error('Error during call to suggestCharts:', error);\n",
              "      }\n",
              "      quickchartButtonEl.classList.remove('colab-df-spinner');\n",
              "      quickchartButtonEl.classList.add('colab-df-quickchart-complete');\n",
              "    }\n",
              "    (() => {\n",
              "      let quickchartButtonEl =\n",
              "        document.querySelector('#df-f03f8c9e-bf6e-42c4-b4a9-d78e0602de22 button');\n",
              "      quickchartButtonEl.style.display =\n",
              "        google.colab.kernel.accessAllowed ? 'block' : 'none';\n",
              "    })();\n",
              "  </script>\n",
              "</div>\n",
              "    </div>\n",
              "  </div>\n"
            ]
          },
          "metadata": {},
          "execution_count": 43
        }
      ]
    },
    {
      "cell_type": "code",
      "execution_count": 53,
      "id": "GjN-n5J601hy",
      "metadata": {
        "colab": {
          "base_uri": "https://localhost:8080/"
        },
        "id": "GjN-n5J601hy",
        "outputId": "80b23000-3f77-475d-d902-d58893316363"
      },
      "outputs": [
        {
          "output_type": "stream",
          "name": "stdout",
          "text": [
            "Классификатор: RandomForestClassifier. Оптимизация гиперпараметров: HyperOpt (CV).\n",
            "Метрика f1_score на тестовом наборе:  0.8068\n",
            "Наилучшие значения гиперпараметров:  {'max_depth': 18, 'min_samples_leaf': 2, 'n_estimators': 84}\n"
          ]
        }
      ],
      "source": [
        "# рассчитаем метрику f1 для тестовой выборки\n",
        "#print(\"Лучшие параметры:\", best)\n",
        "best_params = hyperopt.space_eval(space, best)\n",
        "#print(\"Лучшие параметры (полные):\", best_params)\n",
        "best_params = {key: int(value) for key, value in best_params.items()}\n",
        "best_estimator = RandomForestClassifier(**best_params, random_state=RANDOMSTATE)\n",
        "best_estimator.fit(X_train, y_train)\n",
        "best_f1_score = metrics.f1_score(y_test, best_estimator.predict(X_test)).round(4)\n",
        "#print(\"Лучшая F1-мера:\", best_f1_score)\n",
        "\n",
        "show_info(score_table, name_rf, 'HyperOpt (CV)', best_f1_score, best_params)"
      ]
    },
    {
      "cell_type": "code",
      "source": [
        "# score_table = score_table.drop(score_table.index[-1])\n",
        "score_table\n"
      ],
      "metadata": {
        "colab": {
          "base_uri": "https://localhost:8080/",
          "height": 318
        },
        "id": "gx4qVaXsSb6x",
        "outputId": "979f37fd-8cd2-4d0c-f9d1-d2cdd65d4109"
      },
      "id": "gx4qVaXsSb6x",
      "execution_count": 54,
      "outputs": [
        {
          "output_type": "execute_result",
          "data": {
            "text/plain": [
              "               name_model        optimization score_f1  \\\n",
              "0      LogisticRegression             default   0.7767   \n",
              "1  RandomForestClassifier             default   0.8048   \n",
              "2      LogisticRegression        GridSearchCV   0.7810   \n",
              "3  RandomForestClassifier        GridSearchCV   0.8005   \n",
              "4      LogisticRegression  RandomizedSearchCV   0.7876   \n",
              "5  RandomForestClassifier  RandomizedSearchCV   0.7932   \n",
              "6      LogisticRegression       HyperOpt (CV)   0.7834   \n",
              "7  RandomForestClassifier       HyperOpt (CV)   0.8068   \n",
              "\n",
              "                                                                best_params  \n",
              "0                                     (penalty='l2', C=1.0, solver='lbfgs )  \n",
              "1  (n_estimators=100, criterion='gini', max_depth=None, min_samples_leaf=1)  \n",
              "2                             {'C': 0.01, 'penalty': 'l2', 'solver': 'sag'}  \n",
              "3             {'max_depth': 17, 'min_samples_leaf': 5, 'n_estimators': 140}  \n",
              "4                           {'solver': 'lbfgs', 'penalty': 'l2', 'C': 0.12}  \n",
              "5             {'n_estimators': 191, 'min_samples_leaf': 5, 'max_depth': 10}  \n",
              "6            {'C': 0.05084775379720359, 'penalty': 'l2', 'solver': 'lbfgs'}  \n",
              "7              {'max_depth': 18, 'min_samples_leaf': 2, 'n_estimators': 84}  "
            ],
            "text/html": [
              "\n",
              "  <div id=\"df-ebd9f12b-c21e-4046-8a1c-e064eac386a9\" class=\"colab-df-container\">\n",
              "    <div>\n",
              "<style scoped>\n",
              "    .dataframe tbody tr th:only-of-type {\n",
              "        vertical-align: middle;\n",
              "    }\n",
              "\n",
              "    .dataframe tbody tr th {\n",
              "        vertical-align: top;\n",
              "    }\n",
              "\n",
              "    .dataframe thead tr th {\n",
              "        text-align: left;\n",
              "    }\n",
              "</style>\n",
              "<table border=\"1\" class=\"dataframe\">\n",
              "  <thead>\n",
              "    <tr>\n",
              "      <th></th>\n",
              "      <th>name_model</th>\n",
              "      <th>optimization</th>\n",
              "      <th>score_f1</th>\n",
              "      <th>best_params</th>\n",
              "    </tr>\n",
              "  </thead>\n",
              "  <tbody>\n",
              "    <tr>\n",
              "      <th>0</th>\n",
              "      <td>LogisticRegression</td>\n",
              "      <td>default</td>\n",
              "      <td>0.7767</td>\n",
              "      <td>(penalty='l2', C=1.0, solver='lbfgs )</td>\n",
              "    </tr>\n",
              "    <tr>\n",
              "      <th>1</th>\n",
              "      <td>RandomForestClassifier</td>\n",
              "      <td>default</td>\n",
              "      <td>0.8048</td>\n",
              "      <td>(n_estimators=100, criterion='gini', max_depth=None, min_samples_leaf=1)</td>\n",
              "    </tr>\n",
              "    <tr>\n",
              "      <th>2</th>\n",
              "      <td>LogisticRegression</td>\n",
              "      <td>GridSearchCV</td>\n",
              "      <td>0.7810</td>\n",
              "      <td>{'C': 0.01, 'penalty': 'l2', 'solver': 'sag'}</td>\n",
              "    </tr>\n",
              "    <tr>\n",
              "      <th>3</th>\n",
              "      <td>RandomForestClassifier</td>\n",
              "      <td>GridSearchCV</td>\n",
              "      <td>0.8005</td>\n",
              "      <td>{'max_depth': 17, 'min_samples_leaf': 5, 'n_estimators': 140}</td>\n",
              "    </tr>\n",
              "    <tr>\n",
              "      <th>4</th>\n",
              "      <td>LogisticRegression</td>\n",
              "      <td>RandomizedSearchCV</td>\n",
              "      <td>0.7876</td>\n",
              "      <td>{'solver': 'lbfgs', 'penalty': 'l2', 'C': 0.12}</td>\n",
              "    </tr>\n",
              "    <tr>\n",
              "      <th>5</th>\n",
              "      <td>RandomForestClassifier</td>\n",
              "      <td>RandomizedSearchCV</td>\n",
              "      <td>0.7932</td>\n",
              "      <td>{'n_estimators': 191, 'min_samples_leaf': 5, 'max_depth': 10}</td>\n",
              "    </tr>\n",
              "    <tr>\n",
              "      <th>6</th>\n",
              "      <td>LogisticRegression</td>\n",
              "      <td>HyperOpt (CV)</td>\n",
              "      <td>0.7834</td>\n",
              "      <td>{'C': 0.05084775379720359, 'penalty': 'l2', 'solver': 'lbfgs'}</td>\n",
              "    </tr>\n",
              "    <tr>\n",
              "      <th>7</th>\n",
              "      <td>RandomForestClassifier</td>\n",
              "      <td>HyperOpt (CV)</td>\n",
              "      <td>0.8068</td>\n",
              "      <td>{'max_depth': 18, 'min_samples_leaf': 2, 'n_estimators': 84}</td>\n",
              "    </tr>\n",
              "  </tbody>\n",
              "</table>\n",
              "</div>\n",
              "    <div class=\"colab-df-buttons\">\n",
              "\n",
              "  <div class=\"colab-df-container\">\n",
              "    <button class=\"colab-df-convert\" onclick=\"convertToInteractive('df-ebd9f12b-c21e-4046-8a1c-e064eac386a9')\"\n",
              "            title=\"Convert this dataframe to an interactive table.\"\n",
              "            style=\"display:none;\">\n",
              "\n",
              "  <svg xmlns=\"http://www.w3.org/2000/svg\" height=\"24px\" viewBox=\"0 -960 960 960\">\n",
              "    <path d=\"M120-120v-720h720v720H120Zm60-500h600v-160H180v160Zm220 220h160v-160H400v160Zm0 220h160v-160H400v160ZM180-400h160v-160H180v160Zm440 0h160v-160H620v160ZM180-180h160v-160H180v160Zm440 0h160v-160H620v160Z\"/>\n",
              "  </svg>\n",
              "    </button>\n",
              "\n",
              "  <style>\n",
              "    .colab-df-container {\n",
              "      display:flex;\n",
              "      gap: 12px;\n",
              "    }\n",
              "\n",
              "    .colab-df-convert {\n",
              "      background-color: #E8F0FE;\n",
              "      border: none;\n",
              "      border-radius: 50%;\n",
              "      cursor: pointer;\n",
              "      display: none;\n",
              "      fill: #1967D2;\n",
              "      height: 32px;\n",
              "      padding: 0 0 0 0;\n",
              "      width: 32px;\n",
              "    }\n",
              "\n",
              "    .colab-df-convert:hover {\n",
              "      background-color: #E2EBFA;\n",
              "      box-shadow: 0px 1px 2px rgba(60, 64, 67, 0.3), 0px 1px 3px 1px rgba(60, 64, 67, 0.15);\n",
              "      fill: #174EA6;\n",
              "    }\n",
              "\n",
              "    .colab-df-buttons div {\n",
              "      margin-bottom: 4px;\n",
              "    }\n",
              "\n",
              "    [theme=dark] .colab-df-convert {\n",
              "      background-color: #3B4455;\n",
              "      fill: #D2E3FC;\n",
              "    }\n",
              "\n",
              "    [theme=dark] .colab-df-convert:hover {\n",
              "      background-color: #434B5C;\n",
              "      box-shadow: 0px 1px 3px 1px rgba(0, 0, 0, 0.15);\n",
              "      filter: drop-shadow(0px 1px 2px rgba(0, 0, 0, 0.3));\n",
              "      fill: #FFFFFF;\n",
              "    }\n",
              "  </style>\n",
              "\n",
              "    <script>\n",
              "      const buttonEl =\n",
              "        document.querySelector('#df-ebd9f12b-c21e-4046-8a1c-e064eac386a9 button.colab-df-convert');\n",
              "      buttonEl.style.display =\n",
              "        google.colab.kernel.accessAllowed ? 'block' : 'none';\n",
              "\n",
              "      async function convertToInteractive(key) {\n",
              "        const element = document.querySelector('#df-ebd9f12b-c21e-4046-8a1c-e064eac386a9');\n",
              "        const dataTable =\n",
              "          await google.colab.kernel.invokeFunction('convertToInteractive',\n",
              "                                                    [key], {});\n",
              "        if (!dataTable) return;\n",
              "\n",
              "        const docLinkHtml = 'Like what you see? Visit the ' +\n",
              "          '<a target=\"_blank\" href=https://colab.research.google.com/notebooks/data_table.ipynb>data table notebook</a>'\n",
              "          + ' to learn more about interactive tables.';\n",
              "        element.innerHTML = '';\n",
              "        dataTable['output_type'] = 'display_data';\n",
              "        await google.colab.output.renderOutput(dataTable, element);\n",
              "        const docLink = document.createElement('div');\n",
              "        docLink.innerHTML = docLinkHtml;\n",
              "        element.appendChild(docLink);\n",
              "      }\n",
              "    </script>\n",
              "  </div>\n",
              "\n",
              "\n",
              "<div id=\"df-a0594ab4-77d1-4535-87f8-610934f3709a\">\n",
              "  <button class=\"colab-df-quickchart\" onclick=\"quickchart('df-a0594ab4-77d1-4535-87f8-610934f3709a')\"\n",
              "            title=\"Suggest charts.\"\n",
              "            style=\"display:none;\">\n",
              "\n",
              "<svg xmlns=\"http://www.w3.org/2000/svg\" height=\"24px\"viewBox=\"0 0 24 24\"\n",
              "     width=\"24px\">\n",
              "    <g>\n",
              "        <path d=\"M19 3H5c-1.1 0-2 .9-2 2v14c0 1.1.9 2 2 2h14c1.1 0 2-.9 2-2V5c0-1.1-.9-2-2-2zM9 17H7v-7h2v7zm4 0h-2V7h2v10zm4 0h-2v-4h2v4z\"/>\n",
              "    </g>\n",
              "</svg>\n",
              "  </button>\n",
              "\n",
              "<style>\n",
              "  .colab-df-quickchart {\n",
              "      --bg-color: #E8F0FE;\n",
              "      --fill-color: #1967D2;\n",
              "      --hover-bg-color: #E2EBFA;\n",
              "      --hover-fill-color: #174EA6;\n",
              "      --disabled-fill-color: #AAA;\n",
              "      --disabled-bg-color: #DDD;\n",
              "  }\n",
              "\n",
              "  [theme=dark] .colab-df-quickchart {\n",
              "      --bg-color: #3B4455;\n",
              "      --fill-color: #D2E3FC;\n",
              "      --hover-bg-color: #434B5C;\n",
              "      --hover-fill-color: #FFFFFF;\n",
              "      --disabled-bg-color: #3B4455;\n",
              "      --disabled-fill-color: #666;\n",
              "  }\n",
              "\n",
              "  .colab-df-quickchart {\n",
              "    background-color: var(--bg-color);\n",
              "    border: none;\n",
              "    border-radius: 50%;\n",
              "    cursor: pointer;\n",
              "    display: none;\n",
              "    fill: var(--fill-color);\n",
              "    height: 32px;\n",
              "    padding: 0;\n",
              "    width: 32px;\n",
              "  }\n",
              "\n",
              "  .colab-df-quickchart:hover {\n",
              "    background-color: var(--hover-bg-color);\n",
              "    box-shadow: 0 1px 2px rgba(60, 64, 67, 0.3), 0 1px 3px 1px rgba(60, 64, 67, 0.15);\n",
              "    fill: var(--button-hover-fill-color);\n",
              "  }\n",
              "\n",
              "  .colab-df-quickchart-complete:disabled,\n",
              "  .colab-df-quickchart-complete:disabled:hover {\n",
              "    background-color: var(--disabled-bg-color);\n",
              "    fill: var(--disabled-fill-color);\n",
              "    box-shadow: none;\n",
              "  }\n",
              "\n",
              "  .colab-df-spinner {\n",
              "    border: 2px solid var(--fill-color);\n",
              "    border-color: transparent;\n",
              "    border-bottom-color: var(--fill-color);\n",
              "    animation:\n",
              "      spin 1s steps(1) infinite;\n",
              "  }\n",
              "\n",
              "  @keyframes spin {\n",
              "    0% {\n",
              "      border-color: transparent;\n",
              "      border-bottom-color: var(--fill-color);\n",
              "      border-left-color: var(--fill-color);\n",
              "    }\n",
              "    20% {\n",
              "      border-color: transparent;\n",
              "      border-left-color: var(--fill-color);\n",
              "      border-top-color: var(--fill-color);\n",
              "    }\n",
              "    30% {\n",
              "      border-color: transparent;\n",
              "      border-left-color: var(--fill-color);\n",
              "      border-top-color: var(--fill-color);\n",
              "      border-right-color: var(--fill-color);\n",
              "    }\n",
              "    40% {\n",
              "      border-color: transparent;\n",
              "      border-right-color: var(--fill-color);\n",
              "      border-top-color: var(--fill-color);\n",
              "    }\n",
              "    60% {\n",
              "      border-color: transparent;\n",
              "      border-right-color: var(--fill-color);\n",
              "    }\n",
              "    80% {\n",
              "      border-color: transparent;\n",
              "      border-right-color: var(--fill-color);\n",
              "      border-bottom-color: var(--fill-color);\n",
              "    }\n",
              "    90% {\n",
              "      border-color: transparent;\n",
              "      border-bottom-color: var(--fill-color);\n",
              "    }\n",
              "  }\n",
              "</style>\n",
              "\n",
              "  <script>\n",
              "    async function quickchart(key) {\n",
              "      const quickchartButtonEl =\n",
              "        document.querySelector('#' + key + ' button');\n",
              "      quickchartButtonEl.disabled = true;  // To prevent multiple clicks.\n",
              "      quickchartButtonEl.classList.add('colab-df-spinner');\n",
              "      try {\n",
              "        const charts = await google.colab.kernel.invokeFunction(\n",
              "            'suggestCharts', [key], {});\n",
              "      } catch (error) {\n",
              "        console.error('Error during call to suggestCharts:', error);\n",
              "      }\n",
              "      quickchartButtonEl.classList.remove('colab-df-spinner');\n",
              "      quickchartButtonEl.classList.add('colab-df-quickchart-complete');\n",
              "    }\n",
              "    (() => {\n",
              "      let quickchartButtonEl =\n",
              "        document.querySelector('#df-a0594ab4-77d1-4535-87f8-610934f3709a button');\n",
              "      quickchartButtonEl.style.display =\n",
              "        google.colab.kernel.accessAllowed ? 'block' : 'none';\n",
              "    })();\n",
              "  </script>\n",
              "</div>\n",
              "    </div>\n",
              "  </div>\n"
            ]
          },
          "metadata": {},
          "execution_count": 54
        }
      ]
    },
    {
      "cell_type": "markdown",
      "id": "b8734d51-d5d5-4424-b8a3-b341dde985b5",
      "metadata": {
        "id": "b8734d51-d5d5-4424-b8a3-b341dde985b5"
      },
      "source": [
        "---\n",
        "## 6. Optuna"
      ]
    },
    {
      "cell_type": "code",
      "source": [
        "!pip install optuna"
      ],
      "metadata": {
        "id": "mmK5faIbIX8s"
      },
      "id": "mmK5faIbIX8s",
      "execution_count": null,
      "outputs": []
    },
    {
      "cell_type": "code",
      "execution_count": 57,
      "id": "CQL0pyNGqQgR",
      "metadata": {
        "colab": {
          "base_uri": "https://localhost:8080/"
        },
        "id": "CQL0pyNGqQgR",
        "outputId": "b19b2173-bc18-4503-dca0-f28a3716cdf8"
      },
      "outputs": [
        {
          "output_type": "stream",
          "name": "stdout",
          "text": [
            "Версия Optuna:  3.3.0\n"
          ]
        }
      ],
      "source": [
        "import optuna\n",
        "\n",
        "print(\"Версия Optuna: \", optuna.__version__)"
      ]
    },
    {
      "cell_type": "code",
      "execution_count": 58,
      "id": "aSF_70FWu3T6",
      "metadata": {
        "id": "aSF_70FWu3T6"
      },
      "outputs": [],
      "source": [
        "###########   LogisticRegression   ################\n",
        "def optuna_lr(trial):\n",
        "\n",
        "  params = {'penalty': trial.suggest_categorical('penalty', ['l2', 'none'])\n",
        "            , 'solver': trial.suggest_categorical('solver', ['lbfgs', 'sag'])\n",
        "            , 'C': trial.suggest_float('C', 0.01, 1.0, log=True)\n",
        "          }\n",
        "\n",
        "  # создаем модель, обучаем на кросс-валидации и получаем оценку f1 на обучающем наборе\n",
        "  estimator = LogisticRegression(**params, random_state=RANDOMSTATE, max_iter=MAX_ITER)\n",
        "  mean_f1 = cross_val_score(estimator, X_train, y_train, cv=5, scoring=\"f1\", n_jobs=-1).mean()\n",
        "  return mean_f1\n",
        "\n",
        "###########   RandomForestClassifier   ################\n",
        "\n",
        "def optuna_rf(trial):\n",
        "  # задаем пространства поиска гиперпараметров\n",
        "  params = { 'n_estimators': trial.suggest_int('n_estimators', 80, 200, 1)\n",
        "            , 'max_depth': trial.suggest_int('max_depth', 10, 40, 1)\n",
        "            , 'min_samples_leaf': trial.suggest_int('min_samples_leaf', 2, 10, 1)\n",
        "  }\n",
        "\n",
        "  # создаем модель, обучаем на кросс-валидации и получаем оценку f1 на обучающем наборе\n",
        "  estimator = RandomForestClassifier(**params, random_state=RANDOMSTATE)\n",
        "  mean_f1 = cross_val_score(estimator, X_train, y_train, cv=5, scoring=\"f1\", n_jobs=-1).mean()\n",
        "  return mean_f1\n",
        "\n"
      ]
    },
    {
      "cell_type": "markdown",
      "source": [
        "**LogisticRegression**"
      ],
      "metadata": {
        "id": "TCLIowN7Qe1-"
      },
      "id": "TCLIowN7Qe1-"
    },
    {
      "cell_type": "code",
      "source": [
        "# cоздаем объект исследования\n",
        "study_lr = optuna.create_study(study_name=name_lr, direction=\"maximize\")\n",
        "# ищем лучшую комбинацию гиперпараметров n_trials раз\n",
        "%time study_lr.optimize(optuna_lr, n_trials=20)"
      ],
      "metadata": {
        "id": "kUEpHsGdQ5vH",
        "colab": {
          "base_uri": "https://localhost:8080/"
        },
        "outputId": "ff3c1832-9443-45c0-f7ba-f05280934632"
      },
      "id": "kUEpHsGdQ5vH",
      "execution_count": 59,
      "outputs": [
        {
          "output_type": "stream",
          "name": "stderr",
          "text": [
            "[I 2023-09-11 21:17:05,410] A new study created in memory with name: LogisticRegression\n",
            "[I 2023-09-11 21:17:10,355] Trial 0 finished with value: 0.7883246966790483 and parameters: {'penalty': 'l2', 'solver': 'lbfgs', 'C': 0.010865467767833726}. Best is trial 0 with value: 0.7883246966790483.\n",
            "[I 2023-09-11 21:17:13,430] Trial 1 finished with value: 0.7574579769635668 and parameters: {'penalty': 'none', 'solver': 'lbfgs', 'C': 0.06394896719859927}. Best is trial 0 with value: 0.7883246966790483.\n",
            "[I 2023-09-11 21:17:28,502] Trial 2 finished with value: 0.7800047475139786 and parameters: {'penalty': 'l2', 'solver': 'sag', 'C': 0.8848755710119456}. Best is trial 0 with value: 0.7883246966790483.\n",
            "[I 2023-09-11 21:17:43,554] Trial 3 finished with value: 0.7787206199228413 and parameters: {'penalty': 'l2', 'solver': 'sag', 'C': 0.3990276890033369}. Best is trial 0 with value: 0.7883246966790483.\n",
            "[I 2023-09-11 21:17:47,263] Trial 4 finished with value: 0.7809826249936587 and parameters: {'penalty': 'l2', 'solver': 'lbfgs', 'C': 0.28488882670817933}. Best is trial 0 with value: 0.7883246966790483.\n",
            "[I 2023-09-11 21:17:50,813] Trial 5 finished with value: 0.7574579769635668 and parameters: {'penalty': 'none', 'solver': 'lbfgs', 'C': 0.010167440156898867}. Best is trial 0 with value: 0.7883246966790483.\n",
            "[I 2023-09-11 21:18:05,698] Trial 6 finished with value: 0.7789014212164245 and parameters: {'penalty': 'none', 'solver': 'sag', 'C': 0.11824789875608194}. Best is trial 0 with value: 0.7883246966790483.\n",
            "[I 2023-09-11 21:18:08,785] Trial 7 finished with value: 0.7574579769635668 and parameters: {'penalty': 'none', 'solver': 'lbfgs', 'C': 0.32264913867914474}. Best is trial 0 with value: 0.7883246966790483.\n",
            "[I 2023-09-11 21:18:23,859] Trial 8 finished with value: 0.788313054873444 and parameters: {'penalty': 'l2', 'solver': 'sag', 'C': 0.0748781197764307}. Best is trial 0 with value: 0.7883246966790483.\n",
            "[I 2023-09-11 21:18:26,946] Trial 9 finished with value: 0.7946570623008766 and parameters: {'penalty': 'l2', 'solver': 'lbfgs', 'C': 0.018396936431750003}. Best is trial 9 with value: 0.7946570623008766.\n",
            "[I 2023-09-11 21:18:30,485] Trial 10 finished with value: 0.79324981927967 and parameters: {'penalty': 'l2', 'solver': 'lbfgs', 'C': 0.025914730890905437}. Best is trial 9 with value: 0.7946570623008766.\n",
            "[I 2023-09-11 21:18:34,094] Trial 11 finished with value: 0.7929462654548094 and parameters: {'penalty': 'l2', 'solver': 'lbfgs', 'C': 0.029889084036207412}. Best is trial 9 with value: 0.7946570623008766.\n",
            "[I 2023-09-11 21:18:37,263] Trial 12 finished with value: 0.7932248234419309 and parameters: {'penalty': 'l2', 'solver': 'lbfgs', 'C': 0.024267103376492377}. Best is trial 9 with value: 0.7946570623008766.\n",
            "[I 2023-09-11 21:18:40,371] Trial 13 finished with value: 0.7927683684219691 and parameters: {'penalty': 'l2', 'solver': 'lbfgs', 'C': 0.023517385922389587}. Best is trial 9 with value: 0.7946570623008766.\n",
            "[I 2023-09-11 21:18:43,695] Trial 14 finished with value: 0.7914516300711152 and parameters: {'penalty': 'l2', 'solver': 'lbfgs', 'C': 0.03789478001279909}. Best is trial 9 with value: 0.7946570623008766.\n",
            "[I 2023-09-11 21:18:47,545] Trial 15 finished with value: 0.7931061151055543 and parameters: {'penalty': 'l2', 'solver': 'lbfgs', 'C': 0.016616013635625905}. Best is trial 9 with value: 0.7946570623008766.\n",
            "[I 2023-09-11 21:18:50,677] Trial 16 finished with value: 0.7913161241811462 and parameters: {'penalty': 'l2', 'solver': 'lbfgs', 'C': 0.0393597128310355}. Best is trial 9 with value: 0.7946570623008766.\n",
            "[I 2023-09-11 21:18:53,834] Trial 17 finished with value: 0.7940737530062275 and parameters: {'penalty': 'l2', 'solver': 'lbfgs', 'C': 0.017338384169238323}. Best is trial 9 with value: 0.7946570623008766.\n",
            "[I 2023-09-11 21:19:08,864] Trial 18 finished with value: 0.7789014212164245 and parameters: {'penalty': 'none', 'solver': 'sag', 'C': 0.014457610754971272}. Best is trial 9 with value: 0.7946570623008766.\n",
            "[I 2023-09-11 21:19:12,070] Trial 19 finished with value: 0.7899211264447057 and parameters: {'penalty': 'l2', 'solver': 'lbfgs', 'C': 0.04647903238859203}. Best is trial 9 with value: 0.7946570623008766.\n"
          ]
        },
        {
          "output_type": "stream",
          "name": "stdout",
          "text": [
            "CPU times: user 2.58 s, sys: 1.08 s, total: 3.66 s\n",
            "Wall time: 2min 6s\n"
          ]
        }
      ]
    },
    {
      "cell_type": "code",
      "source": [
        "# рассчитаем метрику f1 для тестовой выборки\n",
        "best_estimator = LogisticRegression(**study_lr.best_params, random_state=RANDOMSTATE, max_iter=MAX_ITER)\n",
        "best_estimator.fit(X_train, y_train)\n",
        "\n",
        "best_f1_score = metrics.f1_score(y_test, best_estimator.predict(X_test)).round(4)\n",
        "show_info(score_table, name_lr, 'Optuna (CV)', best_f1_score, study_lr.best_params)\n"
      ],
      "metadata": {
        "id": "kRVBx_nTR1XC",
        "colab": {
          "base_uri": "https://localhost:8080/"
        },
        "outputId": "5a486630-2552-46fd-f93a-08b20b4b2212"
      },
      "id": "kRVBx_nTR1XC",
      "execution_count": 60,
      "outputs": [
        {
          "output_type": "stream",
          "name": "stdout",
          "text": [
            "Классификатор: LogisticRegression. Оптимизация гиперпараметров: Optuna (CV).\n",
            "Метрика f1_score на тестовом наборе:  0.7815\n",
            "Наилучшие значения гиперпараметров:  {'penalty': 'l2', 'solver': 'lbfgs', 'C': 0.018396936431750003}\n"
          ]
        }
      ]
    },
    {
      "cell_type": "markdown",
      "source": [
        "**RandomForestClassifier**"
      ],
      "metadata": {
        "id": "QkF4pNQYQxfJ"
      },
      "id": "QkF4pNQYQxfJ"
    },
    {
      "cell_type": "code",
      "execution_count": 61,
      "id": "ubC21yLQpYyF",
      "metadata": {
        "colab": {
          "base_uri": "https://localhost:8080/"
        },
        "id": "ubC21yLQpYyF",
        "outputId": "aacf2142-4fad-4e5f-f69f-f44933f37632"
      },
      "outputs": [
        {
          "output_type": "stream",
          "name": "stderr",
          "text": [
            "[I 2023-09-11 21:27:10,277] A new study created in memory with name: RandomForestClassifier\n",
            "[I 2023-09-11 21:27:21,081] Trial 0 finished with value: 0.8098020306108754 and parameters: {'n_estimators': 126, 'max_depth': 38, 'min_samples_leaf': 4}. Best is trial 0 with value: 0.8098020306108754.\n",
            "[I 2023-09-11 21:27:31,912] Trial 1 finished with value: 0.8015997608855642 and parameters: {'n_estimators': 175, 'max_depth': 14, 'min_samples_leaf': 10}. Best is trial 0 with value: 0.8098020306108754.\n",
            "[I 2023-09-11 21:27:37,320] Trial 2 finished with value: 0.8026704239791196 and parameters: {'n_estimators': 83, 'max_depth': 37, 'min_samples_leaf': 7}. Best is trial 0 with value: 0.8098020306108754.\n",
            "[I 2023-09-11 21:27:44,206] Trial 3 finished with value: 0.7992019429052959 and parameters: {'n_estimators': 108, 'max_depth': 20, 'min_samples_leaf': 10}. Best is trial 0 with value: 0.8098020306108754.\n",
            "[I 2023-09-11 21:27:50,498] Trial 4 finished with value: 0.8080793581754584 and parameters: {'n_estimators': 113, 'max_depth': 28, 'min_samples_leaf': 9}. Best is trial 0 with value: 0.8098020306108754.\n",
            "[I 2023-09-11 21:28:00,338] Trial 5 finished with value: 0.8159091701911665 and parameters: {'n_estimators': 116, 'max_depth': 28, 'min_samples_leaf': 2}. Best is trial 5 with value: 0.8159091701911665.\n",
            "[I 2023-09-11 21:28:12,490] Trial 6 finished with value: 0.8116693754054983 and parameters: {'n_estimators': 153, 'max_depth': 22, 'min_samples_leaf': 3}. Best is trial 5 with value: 0.8159091701911665.\n",
            "[I 2023-09-11 21:28:17,951] Trial 7 finished with value: 0.8000117970060534 and parameters: {'n_estimators': 103, 'max_depth': 33, 'min_samples_leaf': 10}. Best is trial 5 with value: 0.8159091701911665.\n",
            "[I 2023-09-11 21:28:30,892] Trial 8 finished with value: 0.8126073558088531 and parameters: {'n_estimators': 178, 'max_depth': 34, 'min_samples_leaf': 4}. Best is trial 5 with value: 0.8159091701911665.\n",
            "[I 2023-09-11 21:28:39,700] Trial 9 finished with value: 0.8148546552397937 and parameters: {'n_estimators': 109, 'max_depth': 17, 'min_samples_leaf': 4}. Best is trial 5 with value: 0.8159091701911665.\n",
            "[I 2023-09-11 21:28:51,472] Trial 10 finished with value: 0.8166496019156415 and parameters: {'n_estimators': 148, 'max_depth': 28, 'min_samples_leaf': 2}. Best is trial 10 with value: 0.8166496019156415.\n",
            "[I 2023-09-11 21:29:01,699] Trial 11 finished with value: 0.8172902612976483 and parameters: {'n_estimators': 140, 'max_depth': 27, 'min_samples_leaf': 2}. Best is trial 11 with value: 0.8172902612976483.\n",
            "[I 2023-09-11 21:29:13,595] Trial 12 finished with value: 0.8174589007965203 and parameters: {'n_estimators': 149, 'max_depth': 26, 'min_samples_leaf': 2}. Best is trial 12 with value: 0.8174589007965203.\n",
            "[I 2023-09-11 21:29:24,886] Trial 13 finished with value: 0.8111755503752557 and parameters: {'n_estimators': 161, 'max_depth': 24, 'min_samples_leaf': 6}. Best is trial 12 with value: 0.8174589007965203.\n",
            "[I 2023-09-11 21:29:33,403] Trial 14 finished with value: 0.8010733345556202 and parameters: {'n_estimators': 134, 'max_depth': 10, 'min_samples_leaf': 6}. Best is trial 12 with value: 0.8174589007965203.\n",
            "[I 2023-09-11 21:29:48,095] Trial 15 finished with value: 0.8143804866753361 and parameters: {'n_estimators': 191, 'max_depth': 31, 'min_samples_leaf': 2}. Best is trial 12 with value: 0.8174589007965203.\n",
            "[I 2023-09-11 21:29:56,654] Trial 16 finished with value: 0.8056144823524406 and parameters: {'n_estimators': 140, 'max_depth': 26, 'min_samples_leaf': 5}. Best is trial 12 with value: 0.8174589007965203.\n",
            "[I 2023-09-11 21:30:10,017] Trial 17 finished with value: 0.8132462025554676 and parameters: {'n_estimators': 167, 'max_depth': 19, 'min_samples_leaf': 3}. Best is trial 12 with value: 0.8174589007965203.\n",
            "[I 2023-09-11 21:30:22,742] Trial 18 finished with value: 0.8031807612806097 and parameters: {'n_estimators': 200, 'max_depth': 31, 'min_samples_leaf': 8}. Best is trial 12 with value: 0.8174589007965203.\n",
            "[I 2023-09-11 21:30:33,316] Trial 19 finished with value: 0.8111584710016994 and parameters: {'n_estimators': 129, 'max_depth': 24, 'min_samples_leaf': 3}. Best is trial 12 with value: 0.8174589007965203.\n"
          ]
        },
        {
          "output_type": "stream",
          "name": "stdout",
          "text": [
            "CPU times: user 3.62 s, sys: 1.35 s, total: 4.96 s\n",
            "Wall time: 3min 23s\n"
          ]
        }
      ],
      "source": [
        "# cоздаем объект исследования\n",
        "# можем напрямую указать, что нам необходимо максимизировать метрику direction=\"maximize\"\n",
        "study_rf = optuna.create_study(study_name=name_rf, direction=\"maximize\")\n",
        "# ищем лучшую комбинацию гиперпараметров n_trials раз\n",
        "%time study_rf.optimize(optuna_rf, n_trials=20)\n"
      ]
    },
    {
      "cell_type": "code",
      "source": [
        "# рассчитаем точность для тестовой выборки\n",
        "best_estimator = RandomForestClassifier(**study_rf.best_params, random_state=RANDOMSTATE).fit(X_train, y_train)\n",
        "\n",
        "best_f1_score = metrics.f1_score(y_test, best_estimator.predict(X_test)).round(4)\n",
        "show_info(score_table, name_rf, 'Optuna (CV)', best_f1_score, study_rf.best_params)\n"
      ],
      "metadata": {
        "id": "KlTEJ9IFQXDu",
        "colab": {
          "base_uri": "https://localhost:8080/"
        },
        "outputId": "848da097-5fd1-418e-bf62-927286426c38"
      },
      "id": "KlTEJ9IFQXDu",
      "execution_count": 62,
      "outputs": [
        {
          "output_type": "stream",
          "name": "stdout",
          "text": [
            "Классификатор: RandomForestClassifier. Оптимизация гиперпараметров: Optuna (CV).\n",
            "Метрика f1_score на тестовом наборе:  0.8\n",
            "Наилучшие значения гиперпараметров:  {'n_estimators': 149, 'max_depth': 26, 'min_samples_leaf': 2}\n"
          ]
        }
      ]
    },
    {
      "cell_type": "markdown",
      "source": [
        "---\n",
        "## Вывод"
      ],
      "metadata": {
        "id": "gnlGuqu0V5S6"
      },
      "id": "gnlGuqu0V5S6"
    },
    {
      "cell_type": "code",
      "execution_count": 86,
      "id": "1321b461",
      "metadata": {
        "colab": {
          "base_uri": "https://localhost:8080/",
          "height": 484
        },
        "id": "1321b461",
        "outputId": "eefc66ad-479f-4116-d999-a5066156a225"
      },
      "outputs": [
        {
          "output_type": "execute_result",
          "data": {
            "text/plain": [
              "               name_model        optimization  score_f1  \\\n",
              "0      LogisticRegression             default    0.7767   \n",
              "2      LogisticRegression        GridSearchCV    0.7810   \n",
              "8      LogisticRegression         Optuna (CV)    0.7815   \n",
              "6      LogisticRegression       HyperOpt (CV)    0.7834   \n",
              "4      LogisticRegression  RandomizedSearchCV    0.7876   \n",
              "5  RandomForestClassifier  RandomizedSearchCV    0.7932   \n",
              "9  RandomForestClassifier         Optuna (CV)    0.8000   \n",
              "3  RandomForestClassifier        GridSearchCV    0.8005   \n",
              "1  RandomForestClassifier             default    0.8048   \n",
              "7  RandomForestClassifier       HyperOpt (CV)    0.8068   \n",
              "\n",
              "                                                                best_params  \\\n",
              "0                                     (penalty='l2', C=1.0, solver='lbfgs )   \n",
              "2                             {'C': 0.01, 'penalty': 'l2', 'solver': 'sag'}   \n",
              "8           {'penalty': 'l2', 'solver': 'lbfgs', 'C': 0.018396936431750003}   \n",
              "6            {'C': 0.05084775379720359, 'penalty': 'l2', 'solver': 'lbfgs'}   \n",
              "4                           {'solver': 'lbfgs', 'penalty': 'l2', 'C': 0.12}   \n",
              "5             {'n_estimators': 191, 'min_samples_leaf': 5, 'max_depth': 10}   \n",
              "9             {'n_estimators': 149, 'max_depth': 26, 'min_samples_leaf': 2}   \n",
              "3             {'max_depth': 17, 'min_samples_leaf': 5, 'n_estimators': 140}   \n",
              "1  (n_estimators=100, criterion='gini', max_depth=None, min_samples_leaf=1)   \n",
              "7              {'max_depth': 18, 'min_samples_leaf': 2, 'n_estimators': 84}   \n",
              "\n",
              "   model_id  \n",
              "0         0  \n",
              "2         2  \n",
              "8         8  \n",
              "6         6  \n",
              "4         4  \n",
              "5         5  \n",
              "9         9  \n",
              "3         3  \n",
              "1         1  \n",
              "7         7  "
            ],
            "text/html": [
              "\n",
              "  <div id=\"df-f962010a-0a69-44af-8099-d0b1ea240355\" class=\"colab-df-container\">\n",
              "    <div>\n",
              "<style scoped>\n",
              "    .dataframe tbody tr th:only-of-type {\n",
              "        vertical-align: middle;\n",
              "    }\n",
              "\n",
              "    .dataframe tbody tr th {\n",
              "        vertical-align: top;\n",
              "    }\n",
              "\n",
              "    .dataframe thead th {\n",
              "        text-align: right;\n",
              "    }\n",
              "</style>\n",
              "<table border=\"1\" class=\"dataframe\">\n",
              "  <thead>\n",
              "    <tr style=\"text-align: right;\">\n",
              "      <th></th>\n",
              "      <th>name_model</th>\n",
              "      <th>optimization</th>\n",
              "      <th>score_f1</th>\n",
              "      <th>best_params</th>\n",
              "      <th>model_id</th>\n",
              "    </tr>\n",
              "  </thead>\n",
              "  <tbody>\n",
              "    <tr>\n",
              "      <th>0</th>\n",
              "      <td>LogisticRegression</td>\n",
              "      <td>default</td>\n",
              "      <td>0.7767</td>\n",
              "      <td>(penalty='l2', C=1.0, solver='lbfgs )</td>\n",
              "      <td>0</td>\n",
              "    </tr>\n",
              "    <tr>\n",
              "      <th>2</th>\n",
              "      <td>LogisticRegression</td>\n",
              "      <td>GridSearchCV</td>\n",
              "      <td>0.7810</td>\n",
              "      <td>{'C': 0.01, 'penalty': 'l2', 'solver': 'sag'}</td>\n",
              "      <td>2</td>\n",
              "    </tr>\n",
              "    <tr>\n",
              "      <th>8</th>\n",
              "      <td>LogisticRegression</td>\n",
              "      <td>Optuna (CV)</td>\n",
              "      <td>0.7815</td>\n",
              "      <td>{'penalty': 'l2', 'solver': 'lbfgs', 'C': 0.018396936431750003}</td>\n",
              "      <td>8</td>\n",
              "    </tr>\n",
              "    <tr>\n",
              "      <th>6</th>\n",
              "      <td>LogisticRegression</td>\n",
              "      <td>HyperOpt (CV)</td>\n",
              "      <td>0.7834</td>\n",
              "      <td>{'C': 0.05084775379720359, 'penalty': 'l2', 'solver': 'lbfgs'}</td>\n",
              "      <td>6</td>\n",
              "    </tr>\n",
              "    <tr>\n",
              "      <th>4</th>\n",
              "      <td>LogisticRegression</td>\n",
              "      <td>RandomizedSearchCV</td>\n",
              "      <td>0.7876</td>\n",
              "      <td>{'solver': 'lbfgs', 'penalty': 'l2', 'C': 0.12}</td>\n",
              "      <td>4</td>\n",
              "    </tr>\n",
              "    <tr>\n",
              "      <th>5</th>\n",
              "      <td>RandomForestClassifier</td>\n",
              "      <td>RandomizedSearchCV</td>\n",
              "      <td>0.7932</td>\n",
              "      <td>{'n_estimators': 191, 'min_samples_leaf': 5, 'max_depth': 10}</td>\n",
              "      <td>5</td>\n",
              "    </tr>\n",
              "    <tr>\n",
              "      <th>9</th>\n",
              "      <td>RandomForestClassifier</td>\n",
              "      <td>Optuna (CV)</td>\n",
              "      <td>0.8000</td>\n",
              "      <td>{'n_estimators': 149, 'max_depth': 26, 'min_samples_leaf': 2}</td>\n",
              "      <td>9</td>\n",
              "    </tr>\n",
              "    <tr>\n",
              "      <th>3</th>\n",
              "      <td>RandomForestClassifier</td>\n",
              "      <td>GridSearchCV</td>\n",
              "      <td>0.8005</td>\n",
              "      <td>{'max_depth': 17, 'min_samples_leaf': 5, 'n_estimators': 140}</td>\n",
              "      <td>3</td>\n",
              "    </tr>\n",
              "    <tr>\n",
              "      <th>1</th>\n",
              "      <td>RandomForestClassifier</td>\n",
              "      <td>default</td>\n",
              "      <td>0.8048</td>\n",
              "      <td>(n_estimators=100, criterion='gini', max_depth=None, min_samples_leaf=1)</td>\n",
              "      <td>1</td>\n",
              "    </tr>\n",
              "    <tr>\n",
              "      <th>7</th>\n",
              "      <td>RandomForestClassifier</td>\n",
              "      <td>HyperOpt (CV)</td>\n",
              "      <td>0.8068</td>\n",
              "      <td>{'max_depth': 18, 'min_samples_leaf': 2, 'n_estimators': 84}</td>\n",
              "      <td>7</td>\n",
              "    </tr>\n",
              "  </tbody>\n",
              "</table>\n",
              "</div>\n",
              "    <div class=\"colab-df-buttons\">\n",
              "\n",
              "  <div class=\"colab-df-container\">\n",
              "    <button class=\"colab-df-convert\" onclick=\"convertToInteractive('df-f962010a-0a69-44af-8099-d0b1ea240355')\"\n",
              "            title=\"Convert this dataframe to an interactive table.\"\n",
              "            style=\"display:none;\">\n",
              "\n",
              "  <svg xmlns=\"http://www.w3.org/2000/svg\" height=\"24px\" viewBox=\"0 -960 960 960\">\n",
              "    <path d=\"M120-120v-720h720v720H120Zm60-500h600v-160H180v160Zm220 220h160v-160H400v160Zm0 220h160v-160H400v160ZM180-400h160v-160H180v160Zm440 0h160v-160H620v160ZM180-180h160v-160H180v160Zm440 0h160v-160H620v160Z\"/>\n",
              "  </svg>\n",
              "    </button>\n",
              "\n",
              "  <style>\n",
              "    .colab-df-container {\n",
              "      display:flex;\n",
              "      gap: 12px;\n",
              "    }\n",
              "\n",
              "    .colab-df-convert {\n",
              "      background-color: #E8F0FE;\n",
              "      border: none;\n",
              "      border-radius: 50%;\n",
              "      cursor: pointer;\n",
              "      display: none;\n",
              "      fill: #1967D2;\n",
              "      height: 32px;\n",
              "      padding: 0 0 0 0;\n",
              "      width: 32px;\n",
              "    }\n",
              "\n",
              "    .colab-df-convert:hover {\n",
              "      background-color: #E2EBFA;\n",
              "      box-shadow: 0px 1px 2px rgba(60, 64, 67, 0.3), 0px 1px 3px 1px rgba(60, 64, 67, 0.15);\n",
              "      fill: #174EA6;\n",
              "    }\n",
              "\n",
              "    .colab-df-buttons div {\n",
              "      margin-bottom: 4px;\n",
              "    }\n",
              "\n",
              "    [theme=dark] .colab-df-convert {\n",
              "      background-color: #3B4455;\n",
              "      fill: #D2E3FC;\n",
              "    }\n",
              "\n",
              "    [theme=dark] .colab-df-convert:hover {\n",
              "      background-color: #434B5C;\n",
              "      box-shadow: 0px 1px 3px 1px rgba(0, 0, 0, 0.15);\n",
              "      filter: drop-shadow(0px 1px 2px rgba(0, 0, 0, 0.3));\n",
              "      fill: #FFFFFF;\n",
              "    }\n",
              "  </style>\n",
              "\n",
              "    <script>\n",
              "      const buttonEl =\n",
              "        document.querySelector('#df-f962010a-0a69-44af-8099-d0b1ea240355 button.colab-df-convert');\n",
              "      buttonEl.style.display =\n",
              "        google.colab.kernel.accessAllowed ? 'block' : 'none';\n",
              "\n",
              "      async function convertToInteractive(key) {\n",
              "        const element = document.querySelector('#df-f962010a-0a69-44af-8099-d0b1ea240355');\n",
              "        const dataTable =\n",
              "          await google.colab.kernel.invokeFunction('convertToInteractive',\n",
              "                                                    [key], {});\n",
              "        if (!dataTable) return;\n",
              "\n",
              "        const docLinkHtml = 'Like what you see? Visit the ' +\n",
              "          '<a target=\"_blank\" href=https://colab.research.google.com/notebooks/data_table.ipynb>data table notebook</a>'\n",
              "          + ' to learn more about interactive tables.';\n",
              "        element.innerHTML = '';\n",
              "        dataTable['output_type'] = 'display_data';\n",
              "        await google.colab.output.renderOutput(dataTable, element);\n",
              "        const docLink = document.createElement('div');\n",
              "        docLink.innerHTML = docLinkHtml;\n",
              "        element.appendChild(docLink);\n",
              "      }\n",
              "    </script>\n",
              "  </div>\n",
              "\n",
              "\n",
              "<div id=\"df-a6e51a0b-b1b1-48ac-b8f0-11ad8c76c4d8\">\n",
              "  <button class=\"colab-df-quickchart\" onclick=\"quickchart('df-a6e51a0b-b1b1-48ac-b8f0-11ad8c76c4d8')\"\n",
              "            title=\"Suggest charts.\"\n",
              "            style=\"display:none;\">\n",
              "\n",
              "<svg xmlns=\"http://www.w3.org/2000/svg\" height=\"24px\"viewBox=\"0 0 24 24\"\n",
              "     width=\"24px\">\n",
              "    <g>\n",
              "        <path d=\"M19 3H5c-1.1 0-2 .9-2 2v14c0 1.1.9 2 2 2h14c1.1 0 2-.9 2-2V5c0-1.1-.9-2-2-2zM9 17H7v-7h2v7zm4 0h-2V7h2v10zm4 0h-2v-4h2v4z\"/>\n",
              "    </g>\n",
              "</svg>\n",
              "  </button>\n",
              "\n",
              "<style>\n",
              "  .colab-df-quickchart {\n",
              "      --bg-color: #E8F0FE;\n",
              "      --fill-color: #1967D2;\n",
              "      --hover-bg-color: #E2EBFA;\n",
              "      --hover-fill-color: #174EA6;\n",
              "      --disabled-fill-color: #AAA;\n",
              "      --disabled-bg-color: #DDD;\n",
              "  }\n",
              "\n",
              "  [theme=dark] .colab-df-quickchart {\n",
              "      --bg-color: #3B4455;\n",
              "      --fill-color: #D2E3FC;\n",
              "      --hover-bg-color: #434B5C;\n",
              "      --hover-fill-color: #FFFFFF;\n",
              "      --disabled-bg-color: #3B4455;\n",
              "      --disabled-fill-color: #666;\n",
              "  }\n",
              "\n",
              "  .colab-df-quickchart {\n",
              "    background-color: var(--bg-color);\n",
              "    border: none;\n",
              "    border-radius: 50%;\n",
              "    cursor: pointer;\n",
              "    display: none;\n",
              "    fill: var(--fill-color);\n",
              "    height: 32px;\n",
              "    padding: 0;\n",
              "    width: 32px;\n",
              "  }\n",
              "\n",
              "  .colab-df-quickchart:hover {\n",
              "    background-color: var(--hover-bg-color);\n",
              "    box-shadow: 0 1px 2px rgba(60, 64, 67, 0.3), 0 1px 3px 1px rgba(60, 64, 67, 0.15);\n",
              "    fill: var(--button-hover-fill-color);\n",
              "  }\n",
              "\n",
              "  .colab-df-quickchart-complete:disabled,\n",
              "  .colab-df-quickchart-complete:disabled:hover {\n",
              "    background-color: var(--disabled-bg-color);\n",
              "    fill: var(--disabled-fill-color);\n",
              "    box-shadow: none;\n",
              "  }\n",
              "\n",
              "  .colab-df-spinner {\n",
              "    border: 2px solid var(--fill-color);\n",
              "    border-color: transparent;\n",
              "    border-bottom-color: var(--fill-color);\n",
              "    animation:\n",
              "      spin 1s steps(1) infinite;\n",
              "  }\n",
              "\n",
              "  @keyframes spin {\n",
              "    0% {\n",
              "      border-color: transparent;\n",
              "      border-bottom-color: var(--fill-color);\n",
              "      border-left-color: var(--fill-color);\n",
              "    }\n",
              "    20% {\n",
              "      border-color: transparent;\n",
              "      border-left-color: var(--fill-color);\n",
              "      border-top-color: var(--fill-color);\n",
              "    }\n",
              "    30% {\n",
              "      border-color: transparent;\n",
              "      border-left-color: var(--fill-color);\n",
              "      border-top-color: var(--fill-color);\n",
              "      border-right-color: var(--fill-color);\n",
              "    }\n",
              "    40% {\n",
              "      border-color: transparent;\n",
              "      border-right-color: var(--fill-color);\n",
              "      border-top-color: var(--fill-color);\n",
              "    }\n",
              "    60% {\n",
              "      border-color: transparent;\n",
              "      border-right-color: var(--fill-color);\n",
              "    }\n",
              "    80% {\n",
              "      border-color: transparent;\n",
              "      border-right-color: var(--fill-color);\n",
              "      border-bottom-color: var(--fill-color);\n",
              "    }\n",
              "    90% {\n",
              "      border-color: transparent;\n",
              "      border-bottom-color: var(--fill-color);\n",
              "    }\n",
              "  }\n",
              "</style>\n",
              "\n",
              "  <script>\n",
              "    async function quickchart(key) {\n",
              "      const quickchartButtonEl =\n",
              "        document.querySelector('#' + key + ' button');\n",
              "      quickchartButtonEl.disabled = true;  // To prevent multiple clicks.\n",
              "      quickchartButtonEl.classList.add('colab-df-spinner');\n",
              "      try {\n",
              "        const charts = await google.colab.kernel.invokeFunction(\n",
              "            'suggestCharts', [key], {});\n",
              "      } catch (error) {\n",
              "        console.error('Error during call to suggestCharts:', error);\n",
              "      }\n",
              "      quickchartButtonEl.classList.remove('colab-df-spinner');\n",
              "      quickchartButtonEl.classList.add('colab-df-quickchart-complete');\n",
              "    }\n",
              "    (() => {\n",
              "      let quickchartButtonEl =\n",
              "        document.querySelector('#df-a6e51a0b-b1b1-48ac-b8f0-11ad8c76c4d8 button');\n",
              "      quickchartButtonEl.style.display =\n",
              "        google.colab.kernel.accessAllowed ? 'block' : 'none';\n",
              "    })();\n",
              "  </script>\n",
              "</div>\n",
              "    </div>\n",
              "  </div>\n"
            ]
          },
          "metadata": {},
          "execution_count": 86
        }
      ],
      "source": [
        "pd.set_option('display.max_colwidth', None)\n",
        "score_table.sort_values(by=['name_model','score_f1'])\n"
      ]
    },
    {
      "cell_type": "code",
      "source": [
        "# compression_opts = dict(method='zip', archive_name='hpo.csv')\n",
        "# path_file = './drive/MyDrive/DS/data/hpo.zip'\n",
        "# score_table.to_csv(path_file, index=False, compression=compression_opts)\n",
        "# score_table = pd.read_csv(path_file)"
      ],
      "metadata": {
        "id": "PULsW7nYHC08"
      },
      "id": "PULsW7nYHC08",
      "execution_count": 87,
      "outputs": []
    },
    {
      "cell_type": "code",
      "source": [
        "rf_data = score_table[score_table['name_model'] == 'RandomForestClassifier']\n",
        "lr_data = score_table[score_table['name_model'] == 'LogisticRegression']\n",
        "\n",
        "# График для RandomForest\n",
        "plt.figure(figsize=(10, 6))\n",
        "sns.lineplot(data=rf_data, x='optimization', y='score_f1', label='RandomForest', marker='o')\n",
        "\n",
        "# График для LogisticRegression\n",
        "sns.lineplot(data=lr_data, x='optimization', y='score_f1', label='LogisticRegression', marker='o')\n",
        "\n",
        "# Внешний вид графика\n",
        "plt.title('Кривые оценки F1 для RandomForest и LogisticRegression')\n",
        "plt.xlabel('Оптимизация')\n",
        "plt.ylabel('Оценка F1')\n",
        "plt.xticks(rotation=45)\n",
        "plt.grid(True)\n",
        "plt.legend()\n",
        "\n",
        "plt.show()\n",
        "\n"
      ],
      "metadata": {
        "id": "f4DaX--Q5dOY",
        "colab": {
          "base_uri": "https://localhost:8080/",
          "height": 687
        },
        "outputId": "bbe21100-19d1-4f0e-fa38-a60c81767ad5"
      },
      "id": "f4DaX--Q5dOY",
      "execution_count": 88,
      "outputs": [
        {
          "output_type": "display_data",
          "data": {
            "text/plain": [
              "<Figure size 1000x600 with 1 Axes>"
            ],
            "image/png": "[encoded data removed]"
          },
          "metadata": {}
        }
      ]
    },
    {
      "cell_type": "markdown",
      "source": [
        "#### Вывод : Классификатор RandomForestClassifier выдает лучшие характеристики по предсказанию по сравнению с логистической регрессией. Разброс лучших параметров возможно либо из-за ограничения MAX_ITER, либо расширить поиск диапазона гиперпараметров"
      ],
      "metadata": {
        "id": "Y14LaAKs7q3U"
      },
      "id": "Y14LaAKs7q3U"
    }
  ],
  "metadata": {
    "colab": {
      "provenance": [],
      "include_colab_link": true
    },
    "kernelspec": {
      "display_name": "Python 3.8.13 64-bit",
      "language": "python",
      "name": "python3"
    },
    "language_info": {
      "codemirror_mode": {
        "name": "ipython",
        "version": 3
      },
      "file_extension": ".py",
      "mimetype": "text/x-python",
      "name": "python",
      "nbconvert_exporter": "python",
      "pygments_lexer": "ipython3",
      "version": "3.8.13"
    },
    "vscode": {
      "interpreter": {
        "hash": "2469a70536e4d2335a2ea8907942d0699c37342a371ac185bdb5b0aa6f073890"
      }
    }
  },
  "nbformat": 4,
  "nbformat_minor": 5
}