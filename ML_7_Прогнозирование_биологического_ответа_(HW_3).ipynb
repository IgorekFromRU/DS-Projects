{
  "cells": [
    {
      "cell_type": "markdown",
      "metadata": {
        "id": "view-in-github",
        "colab_type": "text"
      },
      "source": [
        "<a href=\"https://colab.research.google.com/github/IgorekFromRU/HyperParametrOptimization/blob/master/ML_7_%D0%9F%D1%80%D0%BE%D0%B3%D0%BD%D0%BE%D0%B7%D0%B8%D1%80%D0%BE%D0%B2%D0%B0%D0%BD%D0%B8%D0%B5_%D0%B1%D0%B8%D0%BE%D0%BB%D0%BE%D0%B3%D0%B8%D1%87%D0%B5%D1%81%D0%BA%D0%BE%D0%B3%D0%BE_%D0%BE%D1%82%D0%B2%D0%B5%D1%82%D0%B0_(HW_3).ipynb\" target=\"_parent\"><img src=\"https://colab.research.google.com/assets/colab-badge.svg\" alt=\"Open In Colab\"/></a>"
      ]
    },
    {
      "cell_type": "markdown",
      "id": "AoeSkz4KaANH",
      "metadata": {
        "id": "AoeSkz4KaANH"
      },
      "source": [
        "# ML-7. Прогнозирование биологического ответа (HW-3)\n",
        "\n",
        "![Biomolecules](https://media.geeksforgeeks.org/wp-content/uploads/20220719115043/C581.png)\n",
        "\n",
        "## Задача\n",
        "\n",
        "Необходимо предсказать биологический ответ молекул (столбец 'Activity') по их химическому составу\n",
        "(столбцы D1-D1776).\n",
        "\n",
        "В качестве метрики будем использовать F1-score.\n",
        "\n",
        "Необходимо обучить две модели: логистическую регрессию и случайный лес. Далее нужно сделать подбор гиперпараметров с помощью базовых и продвинутых методов оптимизации. Важно использовать все четыре метода (GridSeachCV, RandomizedSearchCV, Hyperopt, Optuna) хотя бы по разу, максимальное количество итераций не должно превышать 50."
      ]
    },
    {
      "cell_type": "code",
      "execution_count": 1,
      "id": "d8q91-MSaAOG",
      "metadata": {
        "id": "d8q91-MSaAOG"
      },
      "outputs": [],
      "source": [
        "#импорт библиотек\n",
        "from time import time\n",
        "import numpy as np\n",
        "import pandas as pd #для анализа и предобработки данных\n",
        "\n",
        "from sklearn.linear_model import LogisticRegression\n",
        "#from sklearn.tree import DecisionTreeClassifier #деревья решений\n",
        "from sklearn.ensemble import RandomForestClassifier #ансамбли\n",
        "from sklearn import metrics #метрики\n",
        "from sklearn import preprocessing #предобработка\n",
        "from sklearn.model_selection import train_test_split, cross_val_score\n",
        "from sklearn.model_selection import GridSearchCV, RandomizedSearchCV\n",
        "\n",
        "import matplotlib.pyplot as plt #для визуализации\n",
        "import seaborn as sns #для визуализации\n",
        "%matplotlib inline\n",
        "\n",
        "import warnings\n",
        "warnings.filterwarnings('ignore')"
      ]
    },
    {
      "cell_type": "code",
      "source": [
        "RANDOMSTATE = 42\n",
        "MAX_ITER = 50\n",
        "name_lr = 'LogisticRegression'\n",
        "name_rf = 'RandomForestClassifier'\n",
        "\n",
        "# создадим таблицу для обобщения итогов\n",
        "score_table = pd.DataFrame(columns=['name_model','optimization', 'score_f1', 'best_params'])"
      ],
      "metadata": {
        "id": "edmpQUHEfNFm"
      },
      "id": "edmpQUHEfNFm",
      "execution_count": 8,
      "outputs": []
    },
    {
      "cell_type": "markdown",
      "id": "8lbyun1kaAOy",
      "metadata": {
        "id": "8lbyun1kaAOy",
        "tags": []
      },
      "source": [
        "---\n",
        "\n",
        "## 1. Знакомство с данными и их исследование\n",
        "\n",
        "Данные представлены в формате CSV.  Каждая строка представляет молекулу.\n",
        "\n",
        "Первый столбец Activity содержит экспериментальные данные, описывающие фактический биологический ответ [0, 1];\n",
        "Остальные столбцы D1-D1776 представляют собой молекулярные дескрипторы — это вычисляемые свойства, которые могут фиксировать некоторые характеристики молекулы, например размер, форму или состав элементов.\n",
        "\n",
        "Предварительная обработка не требуется, данные уже закодированы и нормализованы."
      ]
    },
    {
      "cell_type": "code",
      "execution_count": 3,
      "id": "p770SmlfaAO3",
      "metadata": {
        "colab": {
          "base_uri": "https://localhost:8080/",
          "height": 179
        },
        "id": "p770SmlfaAO3",
        "outputId": "cea81b68-843e-40e0-c744-a48d34fefd3c"
      },
      "outputs": [
        {
          "output_type": "stream",
          "name": "stdout",
          "text": [
            "Mounted at /content/drive\n"
          ]
        },
        {
          "output_type": "execute_result",
          "data": {
            "text/plain": [
              "   Activity        D1        D2    D3   D4        D5        D6        D7  \\\n",
              "0         1  0.000000  0.497009  0.10  0.0  0.132956  0.678031  0.273166   \n",
              "1         1  0.366667  0.606291  0.05  0.0  0.111209  0.803455  0.106105   \n",
              "\n",
              "         D8        D9  ...  D1767  D1768  D1769  D1770  D1771  D1772  D1773  \\\n",
              "0  0.585445  0.743663  ...      0      0      0      0      0      0      0   \n",
              "1  0.411754  0.836582  ...      1      1      1      1      0      1      0   \n",
              "\n",
              "   D1774  D1775  D1776  \n",
              "0      0      0      0  \n",
              "1      0      1      0  \n",
              "\n",
              "[2 rows x 1777 columns]"
            ],
            "text/html": [
              "\n",
              "  <div id=\"df-dc1f4a60-8375-47fb-9257-3a91e041c0ac\" class=\"colab-df-container\">\n",
              "    <div>\n",
              "<style scoped>\n",
              "    .dataframe tbody tr th:only-of-type {\n",
              "        vertical-align: middle;\n",
              "    }\n",
              "\n",
              "    .dataframe tbody tr th {\n",
              "        vertical-align: top;\n",
              "    }\n",
              "\n",
              "    .dataframe thead th {\n",
              "        text-align: right;\n",
              "    }\n",
              "</style>\n",
              "<table border=\"1\" class=\"dataframe\">\n",
              "  <thead>\n",
              "    <tr style=\"text-align: right;\">\n",
              "      <th></th>\n",
              "      <th>Activity</th>\n",
              "      <th>D1</th>\n",
              "      <th>D2</th>\n",
              "      <th>D3</th>\n",
              "      <th>D4</th>\n",
              "      <th>D5</th>\n",
              "      <th>D6</th>\n",
              "      <th>D7</th>\n",
              "      <th>D8</th>\n",
              "      <th>D9</th>\n",
              "      <th>...</th>\n",
              "      <th>D1767</th>\n",
              "      <th>D1768</th>\n",
              "      <th>D1769</th>\n",
              "      <th>D1770</th>\n",
              "      <th>D1771</th>\n",
              "      <th>D1772</th>\n",
              "      <th>D1773</th>\n",
              "      <th>D1774</th>\n",
              "      <th>D1775</th>\n",
              "      <th>D1776</th>\n",
              "    </tr>\n",
              "  </thead>\n",
              "  <tbody>\n",
              "    <tr>\n",
              "      <th>0</th>\n",
              "      <td>1</td>\n",
              "      <td>0.000000</td>\n",
              "      <td>0.497009</td>\n",
              "      <td>0.10</td>\n",
              "      <td>0.0</td>\n",
              "      <td>0.132956</td>\n",
              "      <td>0.678031</td>\n",
              "      <td>0.273166</td>\n",
              "      <td>0.585445</td>\n",
              "      <td>0.743663</td>\n",
              "      <td>...</td>\n",
              "      <td>0</td>\n",
              "      <td>0</td>\n",
              "      <td>0</td>\n",
              "      <td>0</td>\n",
              "      <td>0</td>\n",
              "      <td>0</td>\n",
              "      <td>0</td>\n",
              "      <td>0</td>\n",
              "      <td>0</td>\n",
              "      <td>0</td>\n",
              "    </tr>\n",
              "    <tr>\n",
              "      <th>1</th>\n",
              "      <td>1</td>\n",
              "      <td>0.366667</td>\n",
              "      <td>0.606291</td>\n",
              "      <td>0.05</td>\n",
              "      <td>0.0</td>\n",
              "      <td>0.111209</td>\n",
              "      <td>0.803455</td>\n",
              "      <td>0.106105</td>\n",
              "      <td>0.411754</td>\n",
              "      <td>0.836582</td>\n",
              "      <td>...</td>\n",
              "      <td>1</td>\n",
              "      <td>1</td>\n",
              "      <td>1</td>\n",
              "      <td>1</td>\n",
              "      <td>0</td>\n",
              "      <td>1</td>\n",
              "      <td>0</td>\n",
              "      <td>0</td>\n",
              "      <td>1</td>\n",
              "      <td>0</td>\n",
              "    </tr>\n",
              "  </tbody>\n",
              "</table>\n",
              "<p>2 rows × 1777 columns</p>\n",
              "</div>\n",
              "    <div class=\"colab-df-buttons\">\n",
              "\n",
              "  <div class=\"colab-df-container\">\n",
              "    <button class=\"colab-df-convert\" onclick=\"convertToInteractive('df-dc1f4a60-8375-47fb-9257-3a91e041c0ac')\"\n",
              "            title=\"Convert this dataframe to an interactive table.\"\n",
              "            style=\"display:none;\">\n",
              "\n",
              "  <svg xmlns=\"http://www.w3.org/2000/svg\" height=\"24px\" viewBox=\"0 -960 960 960\">\n",
              "    <path d=\"M120-120v-720h720v720H120Zm60-500h600v-160H180v160Zm220 220h160v-160H400v160Zm0 220h160v-160H400v160ZM180-400h160v-160H180v160Zm440 0h160v-160H620v160ZM180-180h160v-160H180v160Zm440 0h160v-160H620v160Z\"/>\n",
              "  </svg>\n",
              "    </button>\n",
              "\n",
              "  <style>\n",
              "    .colab-df-container {\n",
              "      display:flex;\n",
              "      gap: 12px;\n",
              "    }\n",
              "\n",
              "    .colab-df-convert {\n",
              "      background-color: #E8F0FE;\n",
              "      border: none;\n",
              "      border-radius: 50%;\n",
              "      cursor: pointer;\n",
              "      display: none;\n",
              "      fill: #1967D2;\n",
              "      height: 32px;\n",
              "      padding: 0 0 0 0;\n",
              "      width: 32px;\n",
              "    }\n",
              "\n",
              "    .colab-df-convert:hover {\n",
              "      background-color: #E2EBFA;\n",
              "      box-shadow: 0px 1px 2px rgba(60, 64, 67, 0.3), 0px 1px 3px 1px rgba(60, 64, 67, 0.15);\n",
              "      fill: #174EA6;\n",
              "    }\n",
              "\n",
              "    .colab-df-buttons div {\n",
              "      margin-bottom: 4px;\n",
              "    }\n",
              "\n",
              "    [theme=dark] .colab-df-convert {\n",
              "      background-color: #3B4455;\n",
              "      fill: #D2E3FC;\n",
              "    }\n",
              "\n",
              "    [theme=dark] .colab-df-convert:hover {\n",
              "      background-color: #434B5C;\n",
              "      box-shadow: 0px 1px 3px 1px rgba(0, 0, 0, 0.15);\n",
              "      filter: drop-shadow(0px 1px 2px rgba(0, 0, 0, 0.3));\n",
              "      fill: #FFFFFF;\n",
              "    }\n",
              "  </style>\n",
              "\n",
              "    <script>\n",
              "      const buttonEl =\n",
              "        document.querySelector('#df-dc1f4a60-8375-47fb-9257-3a91e041c0ac button.colab-df-convert');\n",
              "      buttonEl.style.display =\n",
              "        google.colab.kernel.accessAllowed ? 'block' : 'none';\n",
              "\n",
              "      async function convertToInteractive(key) {\n",
              "        const element = document.querySelector('#df-dc1f4a60-8375-47fb-9257-3a91e041c0ac');\n",
              "        const dataTable =\n",
              "          await google.colab.kernel.invokeFunction('convertToInteractive',\n",
              "                                                    [key], {});\n",
              "        if (!dataTable) return;\n",
              "\n",
              "        const docLinkHtml = 'Like what you see? Visit the ' +\n",
              "          '<a target=\"_blank\" href=https://colab.research.google.com/notebooks/data_table.ipynb>data table notebook</a>'\n",
              "          + ' to learn more about interactive tables.';\n",
              "        element.innerHTML = '';\n",
              "        dataTable['output_type'] = 'display_data';\n",
              "        await google.colab.output.renderOutput(dataTable, element);\n",
              "        const docLink = document.createElement('div');\n",
              "        docLink.innerHTML = docLinkHtml;\n",
              "        element.appendChild(docLink);\n",
              "      }\n",
              "    </script>\n",
              "  </div>\n",
              "\n",
              "\n",
              "<div id=\"df-738228e7-efc6-4795-ba30-8a1ff5e7009f\">\n",
              "  <button class=\"colab-df-quickchart\" onclick=\"quickchart('df-738228e7-efc6-4795-ba30-8a1ff5e7009f')\"\n",
              "            title=\"Suggest charts.\"\n",
              "            style=\"display:none;\">\n",
              "\n",
              "<svg xmlns=\"http://www.w3.org/2000/svg\" height=\"24px\"viewBox=\"0 0 24 24\"\n",
              "     width=\"24px\">\n",
              "    <g>\n",
              "        <path d=\"M19 3H5c-1.1 0-2 .9-2 2v14c0 1.1.9 2 2 2h14c1.1 0 2-.9 2-2V5c0-1.1-.9-2-2-2zM9 17H7v-7h2v7zm4 0h-2V7h2v10zm4 0h-2v-4h2v4z\"/>\n",
              "    </g>\n",
              "</svg>\n",
              "  </button>\n",
              "\n",
              "<style>\n",
              "  .colab-df-quickchart {\n",
              "      --bg-color: #E8F0FE;\n",
              "      --fill-color: #1967D2;\n",
              "      --hover-bg-color: #E2EBFA;\n",
              "      --hover-fill-color: #174EA6;\n",
              "      --disabled-fill-color: #AAA;\n",
              "      --disabled-bg-color: #DDD;\n",
              "  }\n",
              "\n",
              "  [theme=dark] .colab-df-quickchart {\n",
              "      --bg-color: #3B4455;\n",
              "      --fill-color: #D2E3FC;\n",
              "      --hover-bg-color: #434B5C;\n",
              "      --hover-fill-color: #FFFFFF;\n",
              "      --disabled-bg-color: #3B4455;\n",
              "      --disabled-fill-color: #666;\n",
              "  }\n",
              "\n",
              "  .colab-df-quickchart {\n",
              "    background-color: var(--bg-color);\n",
              "    border: none;\n",
              "    border-radius: 50%;\n",
              "    cursor: pointer;\n",
              "    display: none;\n",
              "    fill: var(--fill-color);\n",
              "    height: 32px;\n",
              "    padding: 0;\n",
              "    width: 32px;\n",
              "  }\n",
              "\n",
              "  .colab-df-quickchart:hover {\n",
              "    background-color: var(--hover-bg-color);\n",
              "    box-shadow: 0 1px 2px rgba(60, 64, 67, 0.3), 0 1px 3px 1px rgba(60, 64, 67, 0.15);\n",
              "    fill: var(--button-hover-fill-color);\n",
              "  }\n",
              "\n",
              "  .colab-df-quickchart-complete:disabled,\n",
              "  .colab-df-quickchart-complete:disabled:hover {\n",
              "    background-color: var(--disabled-bg-color);\n",
              "    fill: var(--disabled-fill-color);\n",
              "    box-shadow: none;\n",
              "  }\n",
              "\n",
              "  .colab-df-spinner {\n",
              "    border: 2px solid var(--fill-color);\n",
              "    border-color: transparent;\n",
              "    border-bottom-color: var(--fill-color);\n",
              "    animation:\n",
              "      spin 1s steps(1) infinite;\n",
              "  }\n",
              "\n",
              "  @keyframes spin {\n",
              "    0% {\n",
              "      border-color: transparent;\n",
              "      border-bottom-color: var(--fill-color);\n",
              "      border-left-color: var(--fill-color);\n",
              "    }\n",
              "    20% {\n",
              "      border-color: transparent;\n",
              "      border-left-color: var(--fill-color);\n",
              "      border-top-color: var(--fill-color);\n",
              "    }\n",
              "    30% {\n",
              "      border-color: transparent;\n",
              "      border-left-color: var(--fill-color);\n",
              "      border-top-color: var(--fill-color);\n",
              "      border-right-color: var(--fill-color);\n",
              "    }\n",
              "    40% {\n",
              "      border-color: transparent;\n",
              "      border-right-color: var(--fill-color);\n",
              "      border-top-color: var(--fill-color);\n",
              "    }\n",
              "    60% {\n",
              "      border-color: transparent;\n",
              "      border-right-color: var(--fill-color);\n",
              "    }\n",
              "    80% {\n",
              "      border-color: transparent;\n",
              "      border-right-color: var(--fill-color);\n",
              "      border-bottom-color: var(--fill-color);\n",
              "    }\n",
              "    90% {\n",
              "      border-color: transparent;\n",
              "      border-bottom-color: var(--fill-color);\n",
              "    }\n",
              "  }\n",
              "</style>\n",
              "\n",
              "  <script>\n",
              "    async function quickchart(key) {\n",
              "      const quickchartButtonEl =\n",
              "        document.querySelector('#' + key + ' button');\n",
              "      quickchartButtonEl.disabled = true;  // To prevent multiple clicks.\n",
              "      quickchartButtonEl.classList.add('colab-df-spinner');\n",
              "      try {\n",
              "        const charts = await google.colab.kernel.invokeFunction(\n",
              "            'suggestCharts', [key], {});\n",
              "      } catch (error) {\n",
              "        console.error('Error during call to suggestCharts:', error);\n",
              "      }\n",
              "      quickchartButtonEl.classList.remove('colab-df-spinner');\n",
              "      quickchartButtonEl.classList.add('colab-df-quickchart-complete');\n",
              "    }\n",
              "    (() => {\n",
              "      let quickchartButtonEl =\n",
              "        document.querySelector('#df-738228e7-efc6-4795-ba30-8a1ff5e7009f button');\n",
              "      quickchartButtonEl.style.display =\n",
              "        google.colab.kernel.accessAllowed ? 'block' : 'none';\n",
              "    })();\n",
              "  </script>\n",
              "</div>\n",
              "    </div>\n",
              "  </div>\n"
            ]
          },
          "metadata": {},
          "execution_count": 3
        }
      ],
      "source": [
        "\n",
        "#ЕСЛИ РАБОТАЕМ В IDE\n",
        "#data = pd.read_csv('data\\_train_sem09__1_.zip')\n",
        "\n",
        "#ЕСЛИ РАБОТАЕМ В GOOGLE COLAB\n",
        "# подключаем google диск, где у нас хранятся данные\n",
        "from google.colab import drive\n",
        "drive.mount('/content/drive')\n",
        "# # берем необходимый нам файл с диска, указав путь\n",
        "data = pd.read_csv('./drive/MyDrive/DS/data/_train_sem09__1_.zip')\n",
        "data.head(2)"
      ]
    },
    {
      "cell_type": "code",
      "execution_count": 4,
      "id": "f2ff79cb",
      "metadata": {
        "colab": {
          "base_uri": "https://localhost:8080/"
        },
        "id": "f2ff79cb",
        "outputId": "3b253cbe-5d24-461f-c51e-021d539640a3"
      },
      "outputs": [
        {
          "output_type": "stream",
          "name": "stdout",
          "text": [
            "Размер таблицы:  (3751, 1777)\n",
            "Наличие пропусков:  0\n"
          ]
        }
      ],
      "source": [
        "print('Размер таблицы: ', data.shape)\n",
        "print('Наличие пропусков: ', data.isnull().sum().sum())"
      ]
    },
    {
      "cell_type": "markdown",
      "id": "0jbyUoPlaAPc",
      "metadata": {
        "id": "0jbyUoPlaAPc"
      },
      "source": [
        "Смотрим на сбалансированность классов:"
      ]
    },
    {
      "cell_type": "code",
      "execution_count": 5,
      "id": "PPo2xmRdaAPf",
      "metadata": {
        "colab": {
          "base_uri": "https://localhost:8080/"
        },
        "id": "PPo2xmRdaAPf",
        "outputId": "1edfe031-aa1b-4799-8ebe-fbc897a0e11f"
      },
      "outputs": [
        {
          "output_type": "execute_result",
          "data": {
            "text/plain": [
              "1    0.542255\n",
              "0    0.457745\n",
              "Name: Activity, dtype: float64"
            ]
          },
          "metadata": {},
          "execution_count": 5
        }
      ],
      "source": [
        "#sns.countplot(data=data, x='Activity')\n",
        "data['Activity'].value_counts(normalize=True)"
      ]
    },
    {
      "cell_type": "markdown",
      "id": "8p3eELnEaAQW",
      "metadata": {
        "id": "8p3eELnEaAQW"
      },
      "source": [
        "Создаем матрицу наблюдений $X$ и вектор ответов $y$\n",
        "\n",
        "Разделим выборку на тренировочную и тестовую в соотношении 80/20. Для сохранения соотношений целевого признака используем параметр stratify (стратифицированное разбиение)."
      ]
    },
    {
      "cell_type": "code",
      "execution_count": 9,
      "id": "_2GncsCbaAQY",
      "metadata": {
        "id": "_2GncsCbaAQY"
      },
      "outputs": [],
      "source": [
        "X, y = data.drop(['Activity'], axis=1), data['Activity']\n",
        "\n",
        "X_train, X_test, y_train, y_test = train_test_split(X, y, stratify=y, random_state = RANDOMSTATE, test_size = 0.2)"
      ]
    },
    {
      "cell_type": "markdown",
      "id": "ad310cf9",
      "metadata": {
        "id": "ad310cf9"
      },
      "source": [
        "---\n",
        "## 2. Базовая оптимизация"
      ]
    },
    {
      "cell_type": "code",
      "execution_count": 10,
      "id": "a4b42baf",
      "metadata": {
        "id": "a4b42baf"
      },
      "outputs": [],
      "source": [
        "# Utility function to report best scores\n",
        "def report(results, n_top=3):\n",
        "    for i in range(1, n_top + 1):\n",
        "        candidates = np.flatnonzero(results[\"rank_test_score\"] == i)\n",
        "        for candidate in candidates:\n",
        "            print(\"Model with rank: {0}\".format(i))\n",
        "            print(\n",
        "                \"Mean validation score: {0:.3f} (std: {1:.3f})\".format(\n",
        "                    results[\"mean_test_score\"][candidate],\n",
        "                    results[\"std_test_score\"][candidate],\n",
        "                )\n",
        "            )\n",
        "            print(\"Parameters: {0}\".format(results[\"params\"][candidate]))\n",
        "            print(\"\")\n",
        "\n",
        "# ---------------------\n",
        "def show_info(df, name_model, hpo, score, best_params=None):\n",
        "    df.loc[ len(df.index )] = [name_model, hpo, score, best_params]\n",
        "    print(f'Классификатор: {name_model}. Оптимизация гиперпараметров: {hpo}.')\n",
        "    print('Метрика f1_score на тестовом наборе: ', score)\n",
        "    print(\"Наилучшие значения гиперпараметров: \", best_params)\n"
      ]
    },
    {
      "cell_type": "markdown",
      "source": [
        "Параметры по умолчанию :\n",
        "- class sklearn.ensemble.RandomForestClassifier(n_estimators=100, criterion='gini', max_depth=None, min_samples_leaf=1)\n",
        "- class sklearn.linear_model.LogisticRegression(penalty='l2', C=1.0, solver='lbfgs )"
      ],
      "metadata": {
        "id": "GuzD7VwTYKWq"
      },
      "id": "GuzD7VwTYKWq"
    },
    {
      "cell_type": "markdown",
      "source": [
        "### **LogisticRegression**"
      ],
      "metadata": {
        "id": "7jcBg79LXbbQ"
      },
      "id": "7jcBg79LXbbQ"
    },
    {
      "cell_type": "code",
      "execution_count": 11,
      "id": "0aMCHU3-aAQn",
      "metadata": {
        "colab": {
          "base_uri": "https://localhost:8080/"
        },
        "id": "0aMCHU3-aAQn",
        "outputId": "f0987c60-fdec-481c-9677-dd030c8ca242"
      },
      "outputs": [
        {
          "output_type": "stream",
          "name": "stdout",
          "text": [
            "Классификатор: LogisticRegression. Оптимизация гиперпараметров: default.\n",
            "Метрика f1_score на тестовом наборе:  0.7767\n",
            "Наилучшие значения гиперпараметров:  (penalty='l2', C=1.0, solver='lbfgs )\n"
          ]
        }
      ],
      "source": [
        "#Создаем объект класса логистическая регрессия и обучаем\n",
        "log_reg = LogisticRegression(random_state=RANDOMSTATE, max_iter=MAX_ITER).fit(X_train, y_train)\n",
        "\n",
        "score = metrics.f1_score(y_test, log_reg.predict(X_test)).round(4)\n",
        "show_info(score_table, name_lr, 'default', score,\n",
        "                best_params=\"(penalty='l2', C=1.0, solver='lbfgs )\")"
      ]
    },
    {
      "cell_type": "markdown",
      "source": [
        "**RandomForestClassifier**"
      ],
      "metadata": {
        "id": "eGAf6FWBZs_G"
      },
      "id": "eGAf6FWBZs_G"
    },
    {
      "cell_type": "code",
      "execution_count": 13,
      "id": "100c437a",
      "metadata": {
        "colab": {
          "base_uri": "https://localhost:8080/"
        },
        "id": "100c437a",
        "outputId": "e93c87d2-4c3f-477f-b129-228bdafef8a0"
      },
      "outputs": [
        {
          "output_type": "stream",
          "name": "stdout",
          "text": [
            "Классификатор: RandomForestClassifier. Оптимизация гиперпараметров: default.\n",
            "Метрика f1_score на тестовом наборе:  0.8048\n",
            "Наилучшие значения гиперпараметров:  (n_estimators=100, criterion='gini', max_depth=None, min_samples_leaf=1)\n"
          ]
        }
      ],
      "source": [
        "#Создаем объект класса Случайный лес и обучаем\n",
        "rf = RandomForestClassifier(random_state=RANDOMSTATE).fit(X_train, y_train)\n",
        "\n",
        "score = metrics.f1_score(y_test, rf.predict(X_test)).round(4)\n",
        "show_info(score_table, name_rf, 'default', score,\n",
        "          best_params=\"(n_estimators=100, criterion='gini', max_depth=None, min_samples_leaf=1)\")"
      ]
    },
    {
      "cell_type": "markdown",
      "id": "Q6PP7ObJp7WG",
      "metadata": {
        "id": "Q6PP7ObJp7WG"
      },
      "source": [
        "## 3. GridSearchCV"
      ]
    },
    {
      "cell_type": "markdown",
      "source": [
        "\n",
        "###  **LogisticRegression**\n",
        "#### Алгоритм оптимизации для LogisticRegression зависит от выбранного типа штрафа:\n",
        "\n",
        "- 'newton-cg' - ['l2', 'none']\n",
        "- 'lbfgs' - ['l2', 'none']\n",
        "- 'liblinear' - ['l1', 'l2']\n",
        "- 'sag' - ['l2', 'none']\n",
        "- 'saga' - [elasticnet', 'l1', 'l2', 'none']"
      ],
      "metadata": {
        "id": "gQAywaEPXXx3"
      },
      "id": "gQAywaEPXXx3"
    },
    {
      "cell_type": "code",
      "execution_count": 14,
      "id": "gLkG_sbSkBcu",
      "metadata": {
        "colab": {
          "base_uri": "https://localhost:8080/"
        },
        "id": "gLkG_sbSkBcu",
        "outputId": "689f5d9f-aa93-465f-94c8-1f9e535e2799"
      },
      "outputs": [
        {
          "output_type": "stream",
          "name": "stdout",
          "text": [
            "GridSearchCV took 230.86 seconds for 28 candidate parameter settings.\n",
            "Model with rank: 1\n",
            "Mean validation score: 0.788 (std: 0.019)\n",
            "Parameters: {'C': 0.01, 'penalty': 'l2', 'solver': 'sag'}\n",
            "\n",
            "Model with rank: 2\n",
            "Mean validation score: 0.788 (std: 0.018)\n",
            "Parameters: {'C': 0.01, 'penalty': 'l2', 'solver': 'lbfgs'}\n",
            "\n",
            "Model with rank: 3\n",
            "Mean validation score: 0.786 (std: 0.016)\n",
            "Parameters: {'C': 0.1, 'penalty': 'l2', 'solver': 'sag'}\n",
            "\n",
            "Классификатор: LogisticRegression. Оптимизация гиперпараметров: GridSearchCV.\n",
            "Метрика f1_score на тестовом наборе:  0.781\n",
            "Наилучшие значения гиперпараметров:  {'C': 0.01, 'penalty': 'l2', 'solver': 'sag'}\n"
          ]
        }
      ],
      "source": [
        "param_grid = [\n",
        "              {'penalty': ['l2', 'none'] , # тип регуляризации\n",
        "              'solver': ['lbfgs', 'sag'], # алгоритм оптимизации\n",
        "               'C': [0.01, 0.1, 0.3, 0.5, 0.7, 0.9, 1]}, # уровень силы регурялизации\n",
        "\n",
        "              # {'penalty': ['l1', 'l2'] ,\n",
        "              # 'solver': ['liblinear', 'saga'],\n",
        "              #  'C': [0.01, 0.1, 0.3, 0.5, 0.7, 0.9, 1]}\n",
        "]\n",
        "\n",
        "grid_search_lr = GridSearchCV(\n",
        "    estimator=LogisticRegression(random_state=RANDOMSTATE,max_iter=MAX_ITER)\n",
        "    , param_grid=param_grid\n",
        "    # For int/None inputs, if the estimator is a classifier and y is\n",
        "    # either binary or multiclass, StratifiedKFold is used. In all\n",
        "    # other cases, KFold is used.\n",
        "    , cv=5\n",
        "    , scoring='f1'\n",
        "    , n_jobs = -1\n",
        "    )\n",
        "\n",
        "start=time()\n",
        "grid_search_lr.fit(X_train, y_train)\n",
        "print(\n",
        "    \"GridSearchCV took %.2f seconds for %d candidate parameter settings.\"\n",
        "    % (time() - start, len(grid_search_lr.cv_results_[\"params\"]))\n",
        ")\n",
        "report(grid_search_lr.cv_results_)\n",
        "\n",
        "# Оба варианта вычисляют F1-меру на тестовом наборе данных\n",
        "# с использованием модели, обученной с лучшими гиперпараметрами.\n",
        "# Разница заключается в том, как это делается - через метод .score\n",
        "# или через явное предсказание и metrics.f1_score.\n",
        "#print(f\"f1 на тестовом наборе: {grid_search_lr.score(X_test, y_test):.4f}\")\n",
        "best_score = metrics.f1_score(y_test, grid_search_lr.predict(X_test)).round(4)\n",
        "show_info(score_table, name_lr, 'GridSearchCV', best_score, grid_search_lr.best_params_)"
      ]
    },
    {
      "cell_type": "code",
      "execution_count": 15,
      "id": "J8Fvuix4j1o5",
      "metadata": {
        "colab": {
          "base_uri": "https://localhost:8080/",
          "height": 472
        },
        "id": "J8Fvuix4j1o5",
        "outputId": "50cf9073-b594-4969-dd0f-bfc6e1e640eb"
      },
      "outputs": [
        {
          "output_type": "display_data",
          "data": {
            "text/plain": [
              "<Figure size 640x480 with 2 Axes>"
            ],
            "image/png": "[encoded data removed]"
          },
          "metadata": {}
        }
      ],
      "source": [
        "# отрисуем, как менялась метрика f1 при различных гиперпараметрах\n",
        "visual = pd.pivot_table(pd.DataFrame(grid_search_lr.cv_results_)\n",
        "                        , values='mean_test_score', index='param_C'\n",
        "                        # , columns='param_penalty'\n",
        "                        , columns='param_solver'\n",
        "                      )\n",
        "sns.heatmap(visual)\n",
        "plt.title('Тепловая карта зависимости метрики f1 от solver и С') # подпись графика\n",
        "sns.set(rc={'figure.figsize':(12, 8)}) #задаем размер графика"
      ]
    },
    {
      "cell_type": "markdown",
      "source": [
        "### **RandomForestClassifier**"
      ],
      "metadata": {
        "id": "D5q5WF4GZyzP"
      },
      "id": "D5q5WF4GZyzP"
    },
    {
      "cell_type": "code",
      "execution_count": 18,
      "id": "d7345ff3",
      "metadata": {
        "colab": {
          "base_uri": "https://localhost:8080/"
        },
        "id": "d7345ff3",
        "outputId": "b1f5d189-ce76-41aa-c839-4aa42bee51b8"
      },
      "outputs": [
        {
          "output_type": "stream",
          "name": "stdout",
          "text": [
            "GridSearchCV took 308.650510 seconds for 40 candidate parameter settings.\n",
            "Model with rank: 1\n",
            "Mean validation score: 0.819 (std: 0.020)\n",
            "Parameters: {'max_depth': 17, 'min_samples_leaf': 2, 'n_estimators': 110}\n",
            "\n",
            "Model with rank: 2\n",
            "Mean validation score: 0.818 (std: 0.019)\n",
            "Parameters: {'max_depth': 17, 'min_samples_leaf': 2, 'n_estimators': 170}\n",
            "\n",
            "Model with rank: 3\n",
            "Mean validation score: 0.818 (std: 0.023)\n",
            "Parameters: {'max_depth': 32, 'min_samples_leaf': 2, 'n_estimators': 170}\n",
            "\n",
            "Model with rank: 3\n",
            "Mean validation score: 0.818 (std: 0.023)\n",
            "Parameters: {'max_depth': 40, 'min_samples_leaf': 2, 'n_estimators': 170}\n",
            "\n",
            "Классификатор: RandomForestClassifier. Оптимизация гиперпараметров: GridSearchCV.\n",
            "Метрика f1_score на тестовом наборе:  0.7864\n",
            "Наилучшие значения гиперпараметров:  {'max_depth': 17, 'min_samples_leaf': 2, 'n_estimators': 110}\n"
          ]
        }
      ],
      "source": [
        "param_grid = {'n_estimators': list(range(80, 200, 30))\n",
        "              , 'min_samples_leaf': list(np.linspace(2, 10, 2, dtype=int)) #[5]\n",
        "              , 'max_depth': list(np.linspace(10, 40, 5, dtype=int))\n",
        "              }\n",
        "\n",
        "grid_search_rf = GridSearchCV(\n",
        "    estimator=RandomForestClassifier(random_state=RANDOMSTATE)\n",
        "    , param_grid=param_grid\n",
        "    , cv=5\n",
        "    , scoring= 'f1'\n",
        "    , n_jobs = -1\n",
        ")\n",
        "\n",
        "start=time()\n",
        "grid_search_rf.fit(X_train, y_train)\n",
        "elapsed_time = time() - start\n",
        "print(f'GridSearchCV took {elapsed_time:2f} seconds for {len(grid_search_rf.cv_results_[\"params\"])} candidate parameter settings.')\n",
        "report(grid_search_rf.cv_results_)\n",
        "\n",
        "best_score = metrics.f1_score(y_test, grid_search_rf.predict(X_test)).round(4)\n",
        "show_info(score_table, name_rf, 'GridSearchCV', best_score, grid_search_rf.best_params_)"
      ]
    },
    {
      "cell_type": "markdown",
      "source": [
        "### **HalvingGridSearchCV**"
      ],
      "metadata": {
        "id": "7dVnGGMmHYof"
      },
      "id": "7dVnGGMmHYof"
    },
    {
      "cell_type": "code",
      "source": [
        "from sklearn.experimental import enable_halving_search_cv  # noqa\n",
        "from sklearn.model_selection import HalvingGridSearchCV\n",
        "\n",
        "param_grid = {'n_estimators': list(range(80, 200, 30))\n",
        "              , 'min_samples_leaf': list(np.linspace(2, 10, 2, dtype=int)) #[5]\n",
        "              , 'max_depth': list(np.linspace(10, 40, 5, dtype=int))\n",
        "              }\n",
        "\n",
        "grid_search_halving_rf = HalvingGridSearchCV(\n",
        "    estimator=RandomForestClassifier(random_state=RANDOMSTATE)\n",
        "    , param_grid=param_grid\n",
        "    , cv=5\n",
        "    , scoring= 'f1'\n",
        "    , factor=2\n",
        "    , n_jobs = -1\n",
        ")\n",
        "\n",
        "tic=time()\n",
        "grid_search_halving_rf.fit(X_train, y_train)\n",
        "elapsed_time = time() - tic\n",
        "print(f'HalvingGridSearchCV took {elapsed_time:2f} seconds for {len(grid_search_halving_rf.cv_results_[\"params\"])} candidate parameter settings.')\n",
        "report(grid_search_halving_rf.cv_results_)\n",
        "\n",
        "best_score = metrics.f1_score(y_test, grid_search_halving_rf.predict(X_test)).round(4)\n",
        "show_info(score_table, name_rf, 'HalvingGridSearchCV', best_score, grid_search_halving_rf.best_params_)"
      ],
      "metadata": {
        "colab": {
          "base_uri": "https://localhost:8080/"
        },
        "id": "seDy_sn3HMh2",
        "outputId": "0f708d50-f351-4737-fef2-ba998c94ab84"
      },
      "id": "seDy_sn3HMh2",
      "execution_count": 21,
      "outputs": [
        {
          "output_type": "stream",
          "name": "stdout",
          "text": [
            "GridSearchCV took 165.876045 seconds for 80 candidate parameter settings.\n",
            "Model with rank: 1\n",
            "Mean validation score: 0.816 (std: 0.021)\n",
            "Parameters: {'max_depth': 40, 'min_samples_leaf': 2, 'n_estimators': 140}\n",
            "\n",
            "Model with rank: 2\n",
            "Mean validation score: 0.812 (std: 0.023)\n",
            "Parameters: {'max_depth': 17, 'min_samples_leaf': 2, 'n_estimators': 140}\n",
            "\n",
            "Model with rank: 3\n",
            "Mean validation score: 0.787 (std: 0.013)\n",
            "Parameters: {'max_depth': 40, 'min_samples_leaf': 2, 'n_estimators': 140}\n",
            "\n",
            "Классификатор: RandomForestClassifier. Оптимизация гиперпараметров: HalvingGridSearchCV.\n",
            "Метрика f1_score на тестовом наборе:  0.7971\n",
            "Наилучшие значения гиперпараметров:  {'max_depth': 40, 'min_samples_leaf': 2, 'n_estimators': 140}\n"
          ]
        }
      ]
    },
    {
      "cell_type": "markdown",
      "id": "QOlWE5zSptj0",
      "metadata": {
        "id": "QOlWE5zSptj0"
      },
      "source": [
        "---\n",
        "## 4. RandomizedSearchCV"
      ]
    },
    {
      "cell_type": "markdown",
      "source": [
        "### **LogisticRegression**"
      ],
      "metadata": {
        "id": "14F6VX4bXMmS"
      },
      "id": "14F6VX4bXMmS"
    },
    {
      "cell_type": "code",
      "execution_count": 22,
      "id": "4yjUJJKntcX7",
      "metadata": {
        "colab": {
          "base_uri": "https://localhost:8080/"
        },
        "id": "4yjUJJKntcX7",
        "outputId": "568e408a-e7a1-400d-9416-d026dae91e27"
      },
      "outputs": [
        {
          "output_type": "stream",
          "name": "stdout",
          "text": [
            "RandomizedSearchCV took 325.75 seconds for 50 candidates parameter settings.\n",
            "Model with rank: 1\n",
            "Mean validation score: 0.788 (std: 0.019)\n",
            "Parameters: {'solver': 'sag', 'penalty': 'l2', 'C': 0.01}\n",
            "\n",
            "Model with rank: 2\n",
            "Mean validation score: 0.788 (std: 0.018)\n",
            "Parameters: {'solver': 'lbfgs', 'penalty': 'l2', 'C': 0.01}\n",
            "\n",
            "Model with rank: 3\n",
            "Mean validation score: 0.785 (std: 0.016)\n",
            "Parameters: {'solver': 'sag', 'penalty': 'l2', 'C': 0.12}\n",
            "\n",
            "Классификатор: LogisticRegression. Оптимизация гиперпараметров: RandomizedSearchCV.\n",
            "Метрика f1_score на тестовом наборе:  0.781\n",
            "Наилучшие значения гиперпараметров:  {'solver': 'sag', 'penalty': 'l2', 'C': 0.01}\n"
          ]
        }
      ],
      "source": [
        "param_distributions = {'penalty': ['l2', 'none'] ,\n",
        "                        'solver': ['lbfgs', 'sag'],\n",
        "                        'C': list(np.linspace(0.01, 1, 10, dtype=float))\n",
        "                      }\n",
        "\n",
        "random_search_lr = RandomizedSearchCV(\n",
        "    estimator=LogisticRegression(random_state=RANDOMSTATE, max_iter=MAX_ITER)\n",
        "    , param_distributions=param_distributions\n",
        "    , cv=5\n",
        "    , scoring='f1'\n",
        "    , n_iter = MAX_ITER #10\n",
        "    , n_jobs = -1\n",
        ")\n",
        "start = time()\n",
        "random_search_lr.fit(X_train, y_train)\n",
        "print(\n",
        "    \"RandomizedSearchCV took %.2f seconds for %d candidates parameter settings.\"\n",
        "    % ((time() - start), MAX_ITER)\n",
        ")\n",
        "report(random_search_lr.cv_results_)\n",
        "\n",
        "best_score = metrics.f1_score(y_test, random_search_lr.predict(X_test)).round(4)\n",
        "show_info(score_table, name_lr, 'RandomizedSearchCV', best_score, random_search_lr.best_params_)"
      ]
    },
    {
      "cell_type": "markdown",
      "source": [
        "### **RandomForestClassifier**"
      ],
      "metadata": {
        "id": "l9XbhlRPZ3KB"
      },
      "id": "l9XbhlRPZ3KB"
    },
    {
      "cell_type": "code",
      "execution_count": 23,
      "id": "TBSxQJ6JzS1f",
      "metadata": {
        "colab": {
          "base_uri": "https://localhost:8080/"
        },
        "id": "TBSxQJ6JzS1f",
        "outputId": "6710e70f-43ef-44cb-ea5d-7c16ad68ffe4"
      },
      "outputs": [
        {
          "output_type": "stream",
          "name": "stdout",
          "text": [
            "RandomizedSearchCV took 373.403196 seconds for 50 candidates parameter settings.\n",
            "Model with rank: 1\n",
            "Mean validation score: 0.812 (std: 0.025)\n",
            "Parameters: {'n_estimators': 155, 'min_samples_leaf': 2, 'max_depth': 10}\n",
            "\n",
            "Model with rank: 2\n",
            "Mean validation score: 0.812 (std: 0.020)\n",
            "Parameters: {'n_estimators': 95, 'min_samples_leaf': 2, 'max_depth': 10}\n",
            "\n",
            "Model with rank: 3\n",
            "Mean validation score: 0.811 (std: 0.026)\n",
            "Parameters: {'n_estimators': 163, 'min_samples_leaf': 2, 'max_depth': 10}\n",
            "\n",
            "Классификатор: RandomForestClassifier. Оптимизация гиперпараметров: RandomizedSearchCV.\n",
            "Метрика f1_score на тестовом наборе:  0.7898\n",
            "Наилучшие значения гиперпараметров:  {'n_estimators': 155, 'min_samples_leaf': 2, 'max_depth': 10}\n"
          ]
        }
      ],
      "source": [
        "param_distributions = {'n_estimators': list(range(80, 200, 1))\n",
        "                       , 'min_samples_leaf': list(np.linspace(2, 10, 2, dtype=int)) #[5]\n",
        "                       , 'max_depth': list(np.linspace(10, 40, 1, dtype=int))\n",
        "                      }\n",
        "\n",
        "random_search_rf = RandomizedSearchCV(\n",
        "    estimator=RandomForestClassifier(random_state=RANDOMSTATE)\n",
        "    , param_distributions=param_distributions\n",
        "    , cv=5\n",
        "    , scoring='f1'\n",
        "    , n_iter = MAX_ITER #10\n",
        "    , n_jobs = -1\n",
        ")\n",
        "\n",
        "tic=time()\n",
        "random_search_rf.fit(X_train, y_train)\n",
        "print(f'RandomizedSearchCV took {(time() - tic):2f} seconds for {MAX_ITER} candidates parameter settings.')\n",
        "report(random_search_rf.cv_results_)\n",
        "\n",
        "score = metrics.f1_score(y_test, random_search_rf.predict(X_test)).round(4)\n",
        "show_info(score_table, name_rf, 'RandomizedSearchCV', score, random_search_rf.best_params_)"
      ]
    },
    {
      "cell_type": "markdown",
      "id": "Kmo2b6kPChhN",
      "metadata": {
        "id": "Kmo2b6kPChhN"
      },
      "source": [
        "---\n",
        "## 5. Hyperopt"
      ]
    },
    {
      "cell_type": "code",
      "execution_count": 28,
      "id": "Ae44foDuCzke",
      "metadata": {
        "colab": {
          "base_uri": "https://localhost:8080/"
        },
        "id": "Ae44foDuCzke",
        "outputId": "b8132352-b039-4605-c988-f75602427362"
      },
      "outputs": [
        {
          "output_type": "stream",
          "name": "stdout",
          "text": [
            "Версия Hyperopt :  0.2.7\n"
          ]
        }
      ],
      "source": [
        "#делаем импорт и выведем версию библиотеки\n",
        "\n",
        "import hyperopt\n",
        "from hyperopt import fmin, tpe, hp, STATUS_OK, Trials\n",
        "# fmin - основная функция, она будет минимизировать наш функционал\n",
        "# tpe - алгоритм оптимизации\n",
        "# hp - включает набор методов для объявления пространства поиска гиперпараметров\n",
        "# trails - используется для логирования результатов\n",
        "\n",
        "print(\"Версия Hyperopt : \", hyperopt.__version__)"
      ]
    },
    {
      "cell_type": "markdown",
      "source": [
        "### **LogisticRegression**"
      ],
      "metadata": {
        "id": "S-UtZHmhCtkI"
      },
      "id": "S-UtZHmhCtkI"
    },
    {
      "cell_type": "code",
      "source": [
        "def hyperopt_lr(params):\n",
        "  estimator = LogisticRegression(\n",
        "            penalty=params['penalty']\n",
        "          , solver=params['solver']\n",
        "          , C=params['C']\n",
        "          , random_state=RANDOMSTATE\n",
        "          , max_iter=MAX_ITER\n",
        "  )\n",
        "\n",
        "  # Выполняем кросс-валидацию и используем F1-меру как метрику для оптимизации\n",
        "  mean_f1 = cross_val_score(estimator, X_train, y_train, cv=5, scoring=\"f1\", n_jobs = -1).mean()\n",
        "\n",
        "  # Возвращаем минус среднюю F1-меру, так как Hyperopt максимизирует функцию, а мы хотим минимизировать метрику\n",
        "  return {'loss': -mean_f1, 'status': STATUS_OK}\n",
        "  # score = metrics.f1_score(y_train, estimator.predict(X_train))\n",
        "  # return -1.0 * score\n",
        ""
      ],
      "metadata": {
        "id": "qI7uSD2NaVsA"
      },
      "id": "qI7uSD2NaVsA",
      "execution_count": 29,
      "outputs": []
    },
    {
      "cell_type": "code",
      "source": [
        "%%time\n",
        "# начинаем подбор гиперпараметров\n",
        "\n",
        "trials = Trials() # используется для логирования результатов\n",
        "\n",
        "space = {\n",
        "          'penalty': hp.choice('penalty', ['l2', 'none']),\n",
        "          'solver': hp.choice('solver', ['lbfgs', 'sag']),\n",
        "          'C': hp.uniform('C', 0.01, 1.0)\n",
        "}\n",
        "\n",
        "best = fmin(fn=hyperopt_lr, space=space, algo=tpe.suggest, max_evals=MAX_ITER, trials=trials,\n",
        "                rstate=np.random.default_rng(RANDOMSTATE))\n",
        "#print(\"Лучшие параметры:\", best)"
      ],
      "metadata": {
        "id": "bCNobAUubD_b",
        "colab": {
          "base_uri": "https://localhost:8080/"
        },
        "outputId": "c231c495-51da-42a8-bc35-e49b5682a273"
      },
      "id": "bCNobAUubD_b",
      "execution_count": 30,
      "outputs": [
        {
          "output_type": "stream",
          "name": "stdout",
          "text": [
            "100%|██████████| 50/50 [05:23<00:00,  6.46s/trial, best loss: -0.7951361235981371]\n",
            "CPU times: user 5.38 s, sys: 2.11 s, total: 7.5 s\n",
            "Wall time: 5min 23s\n"
          ]
        }
      ]
    },
    {
      "cell_type": "code",
      "source": [
        "\n",
        "#print(\"Лучшие параметры:\", best)\n",
        "best_params = hyperopt.space_eval(space, best)\n",
        "#print(\"Лучшие параметры (полные):\", best_params)\n",
        "best_estimator = LogisticRegression(**best_params, random_state=RANDOMSTATE, max_iter=MAX_ITER)\n",
        "best_estimator.fit(X_train, y_train)\n",
        "best_f1_score = metrics.f1_score(y_test, best_estimator.predict(X_test)).round(4)\n",
        "# print(\"Лучшая F1-мера:\", best_f1_score)\n",
        "\n",
        "show_info(score_table, name_lr, 'HyperOpt (CV)', best_f1_score, best_params)"
      ],
      "metadata": {
        "colab": {
          "base_uri": "https://localhost:8080/"
        },
        "id": "h9-_d0kziO1l",
        "outputId": "9b852ee9-b2ef-4ee4-97d3-f93cb8e361f2"
      },
      "id": "h9-_d0kziO1l",
      "execution_count": 31,
      "outputs": [
        {
          "output_type": "stream",
          "name": "stdout",
          "text": [
            "Классификатор: LogisticRegression. Оптимизация гиперпараметров: HyperOpt (CV).\n",
            "Метрика f1_score на тестовом наборе:  0.7796\n",
            "Наилучшие значения гиперпараметров:  {'C': 0.017331323696411022, 'penalty': 'l2', 'solver': 'lbfgs'}\n"
          ]
        }
      ]
    },
    {
      "cell_type": "markdown",
      "source": [
        "### **RandomForestClassifier**"
      ],
      "metadata": {
        "id": "yfr2gnlBClZO"
      },
      "id": "yfr2gnlBClZO"
    },
    {
      "cell_type": "code",
      "execution_count": 32,
      "id": "t3JS7HXU8pd2",
      "metadata": {
        "id": "t3JS7HXU8pd2"
      },
      "outputs": [],
      "source": [
        "def hyperopt_rf(params):\n",
        "    estimator = RandomForestClassifier(\n",
        "        n_estimators=int(params['n_estimators']),\n",
        "        max_depth=int(params['max_depth']),\n",
        "        min_samples_leaf=int(params['min_samples_leaf']),\n",
        "        random_state=RANDOMSTATE\n",
        "    )\n",
        "\n",
        "    # Выполняем кросс-валидацию и используем F1-меру как метрику для оптимизации\n",
        "    mean_f1 = cross_val_score(estimator, X_train, y_train, cv=5, scoring=\"f1\", n_jobs=-1).mean()\n",
        "\n",
        "    # Возвращаем минус среднюю F1-меру, так как Hyperopt максимизирует функцию, а мы хотим минимизировать метрику\n",
        "    return {'loss': -mean_f1, 'status': STATUS_OK}\n",
        "\n",
        "    # score = metrics.f1_score(y_train, estimator.predict(X_train))\n",
        "    # return -1.0 * score\n"
      ]
    },
    {
      "cell_type": "code",
      "execution_count": 54,
      "id": "qxKIThc002O1",
      "metadata": {
        "colab": {
          "base_uri": "https://localhost:8080/"
        },
        "id": "qxKIThc002O1",
        "outputId": "f1b5ce85-b25c-4555-a88a-60926b9b47b8"
      },
      "outputs": [
        {
          "output_type": "stream",
          "name": "stdout",
          "text": [
            "100%|██████████| 30/30 [04:08<00:00,  8.29s/trial, best loss: -0.8201412242765471]\n",
            "CPU times: user 3.87 s, sys: 1.4 s, total: 5.28 s\n",
            "Wall time: 4min 8s\n"
          ]
        }
      ],
      "source": [
        "%%time\n",
        "# начинаем подбор гиперпараметров\n",
        "\n",
        "trials = Trials() # используется для логирования результатов\n",
        "\n",
        "space={'n_estimators': hp.quniform('n_estimators', 80, 200, 1)\n",
        "        , 'max_depth' : hp.quniform('max_depth', 1, 40, 1)\n",
        "        , 'min_samples_leaf': hp.quniform('min_samples_leaf', 1, 10, 1)\n",
        "      }\n",
        "\n",
        "best=fmin(fn=hyperopt_rf, space=space, algo=tpe.suggest, max_evals=30, trials=trials,\n",
        "              rstate=np.random.default_rng(RANDOMSTATE)\n",
        ")"
      ]
    },
    {
      "cell_type": "code",
      "execution_count": 55,
      "id": "GjN-n5J601hy",
      "metadata": {
        "colab": {
          "base_uri": "https://localhost:8080/"
        },
        "id": "GjN-n5J601hy",
        "outputId": "724363e4-25c5-484f-baf8-80e17af09492"
      },
      "outputs": [
        {
          "output_type": "stream",
          "name": "stdout",
          "text": [
            "Классификатор: RandomForestClassifier. Оптимизация гиперпараметров: HyperOpt (CV).\n",
            "Метрика f1_score на тестовом наборе:  0.8093\n",
            "Наилучшие значения гиперпараметров:  {'max_depth': 15, 'min_samples_leaf': 2, 'n_estimators': 119}\n"
          ]
        }
      ],
      "source": [
        "# рассчитаем метрику f1 для тестовой выборки\n",
        "#print(\"Лучшие параметры:\", best)\n",
        "best_params = hyperopt.space_eval(space, best)\n",
        "#print(\"Лучшие параметры (полные):\", best_params)\n",
        "best_params = {key: int(value) for key, value in best_params.items()}\n",
        "best_estimator = RandomForestClassifier(**best_params, random_state=RANDOMSTATE)\n",
        "best_estimator.fit(X_train, y_train)\n",
        "best_f1_score = metrics.f1_score(y_test, best_estimator.predict(X_test)).round(4)\n",
        "#print(\"Лучшая F1-мера:\", best_f1_score)\n",
        "\n",
        "show_info(score_table, name_rf, 'HyperOpt (CV)', best_f1_score, best_params)"
      ]
    },
    {
      "cell_type": "code",
      "source": [
        "# score_table = score_table.drop(score_table.index[-1])\n",
        "# score_table\n"
      ],
      "metadata": {
        "id": "gx4qVaXsSb6x"
      },
      "id": "gx4qVaXsSb6x",
      "execution_count": 35,
      "outputs": []
    },
    {
      "cell_type": "markdown",
      "id": "b8734d51-d5d5-4424-b8a3-b341dde985b5",
      "metadata": {
        "id": "b8734d51-d5d5-4424-b8a3-b341dde985b5"
      },
      "source": [
        "---\n",
        "## 6. Optuna"
      ]
    },
    {
      "cell_type": "code",
      "source": [
        "!pip install optuna"
      ],
      "metadata": {
        "id": "mmK5faIbIX8s"
      },
      "id": "mmK5faIbIX8s",
      "execution_count": null,
      "outputs": []
    },
    {
      "cell_type": "code",
      "execution_count": 37,
      "id": "CQL0pyNGqQgR",
      "metadata": {
        "colab": {
          "base_uri": "https://localhost:8080/"
        },
        "id": "CQL0pyNGqQgR",
        "outputId": "b328d05f-d554-4fdd-9706-5b2f50f004a4"
      },
      "outputs": [
        {
          "output_type": "stream",
          "name": "stdout",
          "text": [
            "Версия Optuna:  3.3.0\n"
          ]
        }
      ],
      "source": [
        "import optuna\n",
        "\n",
        "print(\"Версия Optuna: \", optuna.__version__)"
      ]
    },
    {
      "cell_type": "code",
      "execution_count": 49,
      "id": "aSF_70FWu3T6",
      "metadata": {
        "id": "aSF_70FWu3T6"
      },
      "outputs": [],
      "source": [
        "###########   LogisticRegression   ################\n",
        "def optuna_lr(trial):\n",
        "  # задаем пространства поиска гиперпараметров\n",
        "  params = {'penalty': trial.suggest_categorical('penalty', ['l2', 'none'])\n",
        "            , 'solver': trial.suggest_categorical('solver', ['lbfgs', 'sag'])\n",
        "            , 'C': trial.suggest_float('C', 0.01, 1.0, log=True)\n",
        "          }\n",
        "\n",
        "  # создаем модель, обучаем на кросс-валидации и получаем оценку f1 на обучающем наборе\n",
        "  estimator = LogisticRegression(**params, random_state=RANDOMSTATE, max_iter=MAX_ITER)\n",
        "  mean_f1 = cross_val_score(estimator, X_train, y_train, cv=5, scoring=\"f1\", n_jobs=-1).mean()\n",
        "  return mean_f1\n",
        "\n",
        "###########   RandomForestClassifier   ################\n",
        "\n",
        "def optuna_rf(trial):\n",
        "  # задаем пространства поиска гиперпараметров\n",
        "  params = { 'n_estimators': trial.suggest_int('n_estimators', 80, 200, 1)\n",
        "            , 'max_depth': trial.suggest_int('max_depth', 1, 40, 1)\n",
        "            , 'min_samples_leaf': trial.suggest_int('min_samples_leaf', 1, 8, 1)\n",
        "  }\n",
        "\n",
        "  # создаем модель, обучаем на кросс-валидации и получаем оценку f1 на обучающем наборе\n",
        "  estimator = RandomForestClassifier(**params, random_state=RANDOMSTATE)\n",
        "  mean_f1 = cross_val_score(estimator, X_train, y_train, cv=5, scoring=\"f1\", n_jobs=-1).mean()\n",
        "  return mean_f1\n",
        "\n"
      ]
    },
    {
      "cell_type": "markdown",
      "source": [
        "### **LogisticRegression**"
      ],
      "metadata": {
        "id": "TCLIowN7Qe1-"
      },
      "id": "TCLIowN7Qe1-"
    },
    {
      "cell_type": "code",
      "source": [
        "# cоздаем объект исследования\n",
        "study_lr = optuna.create_study(study_name=name_lr, direction=\"maximize\")\n",
        "# ищем лучшую комбинацию гиперпараметров n_trials раз\n",
        "%time study_lr.optimize(optuna_lr, n_trials=MAX_ITER)"
      ],
      "metadata": {
        "id": "kUEpHsGdQ5vH",
        "colab": {
          "base_uri": "https://localhost:8080/"
        },
        "outputId": "dd0f2086-dcc5-418a-8e61-f396d2064ce7"
      },
      "id": "kUEpHsGdQ5vH",
      "execution_count": 39,
      "outputs": [
        {
          "output_type": "stream",
          "name": "stderr",
          "text": [
            "[I 2023-09-12 16:19:12,178] A new study created in memory with name: LogisticRegression\n",
            "[I 2023-09-12 16:19:29,678] Trial 0 finished with value: 0.7802467940718147 and parameters: {'penalty': 'l2', 'solver': 'sag', 'C': 0.8643753407586453}. Best is trial 0 with value: 0.7802467940718147.\n",
            "[I 2023-09-12 16:19:32,115] Trial 1 finished with value: 0.7574579769635668 and parameters: {'penalty': 'none', 'solver': 'lbfgs', 'C': 0.02511495097069333}. Best is trial 0 with value: 0.7802467940718147.\n",
            "[I 2023-09-12 16:19:34,525] Trial 2 finished with value: 0.7938445971695497 and parameters: {'penalty': 'l2', 'solver': 'lbfgs', 'C': 0.020526399684727154}. Best is trial 2 with value: 0.7938445971695497.\n",
            "[I 2023-09-12 16:19:49,849] Trial 3 finished with value: 0.7789014212164245 and parameters: {'penalty': 'none', 'solver': 'sag', 'C': 0.84064538109832}. Best is trial 2 with value: 0.7938445971695497.\n",
            "[I 2023-09-12 16:20:05,163] Trial 4 finished with value: 0.7789014212164245 and parameters: {'penalty': 'none', 'solver': 'sag', 'C': 0.011702708547901884}. Best is trial 2 with value: 0.7938445971695497.\n",
            "[I 2023-09-12 16:20:20,405] Trial 5 finished with value: 0.7789014212164245 and parameters: {'penalty': 'none', 'solver': 'sag', 'C': 0.9352835413565367}. Best is trial 2 with value: 0.7938445971695497.\n",
            "[I 2023-09-12 16:20:35,588] Trial 6 finished with value: 0.7789014212164245 and parameters: {'penalty': 'none', 'solver': 'sag', 'C': 0.025654693779108208}. Best is trial 2 with value: 0.7938445971695497.\n",
            "[I 2023-09-12 16:20:37,692] Trial 7 finished with value: 0.7574579769635668 and parameters: {'penalty': 'none', 'solver': 'lbfgs', 'C': 0.8339960172210356}. Best is trial 2 with value: 0.7938445971695497.\n",
            "[I 2023-09-12 16:20:39,957] Trial 8 finished with value: 0.7574579769635668 and parameters: {'penalty': 'none', 'solver': 'lbfgs', 'C': 0.5282822671289512}. Best is trial 2 with value: 0.7938445971695497.\n",
            "[I 2023-09-12 16:20:57,712] Trial 9 finished with value: 0.7789014212164245 and parameters: {'penalty': 'none', 'solver': 'sag', 'C': 0.4091731771025862}. Best is trial 2 with value: 0.7938445971695497.\n",
            "[I 2023-09-12 16:21:01,169] Trial 10 finished with value: 0.7871115807860182 and parameters: {'penalty': 'l2', 'solver': 'lbfgs', 'C': 0.0822853256774249}. Best is trial 2 with value: 0.7938445971695497.\n",
            "[I 2023-09-12 16:21:04,093] Trial 11 finished with value: 0.7853016592372353 and parameters: {'penalty': 'l2', 'solver': 'lbfgs', 'C': 0.09761422372809297}. Best is trial 2 with value: 0.7938445971695497.\n",
            "[I 2023-09-12 16:21:06,978] Trial 12 finished with value: 0.7870234316809747 and parameters: {'penalty': 'l2', 'solver': 'lbfgs', 'C': 0.07789326653875389}. Best is trial 2 with value: 0.7938445971695497.\n",
            "[I 2023-09-12 16:21:09,366] Trial 13 finished with value: 0.7908609677097038 and parameters: {'penalty': 'l2', 'solver': 'lbfgs', 'C': 0.05091909764456988}. Best is trial 2 with value: 0.7938445971695497.\n",
            "[I 2023-09-12 16:21:11,425] Trial 14 finished with value: 0.7909719810427864 and parameters: {'penalty': 'l2', 'solver': 'lbfgs', 'C': 0.03654931677583185}. Best is trial 2 with value: 0.7938445971695497.\n",
            "[I 2023-09-12 16:21:13,541] Trial 15 finished with value: 0.7883246966790483 and parameters: {'penalty': 'l2', 'solver': 'lbfgs', 'C': 0.010703255430345306}. Best is trial 2 with value: 0.7938445971695497.\n",
            "[I 2023-09-12 16:21:16,374] Trial 16 finished with value: 0.7907681940695146 and parameters: {'penalty': 'l2', 'solver': 'lbfgs', 'C': 0.034035642118979505}. Best is trial 2 with value: 0.7938445971695497.\n",
            "[I 2023-09-12 16:21:19,200] Trial 17 finished with value: 0.7826887812724256 and parameters: {'penalty': 'l2', 'solver': 'lbfgs', 'C': 0.18283553889019033}. Best is trial 2 with value: 0.7938445971695497.\n",
            "[I 2023-09-12 16:21:21,269] Trial 18 finished with value: 0.793846855846295 and parameters: {'penalty': 'l2', 'solver': 'lbfgs', 'C': 0.017217760798450388}. Best is trial 18 with value: 0.793846855846295.\n",
            "[I 2023-09-12 16:21:23,342] Trial 19 finished with value: 0.792637462495795 and parameters: {'penalty': 'l2', 'solver': 'lbfgs', 'C': 0.016346522572918583}. Best is trial 18 with value: 0.793846855846295.\n",
            "[I 2023-09-12 16:21:25,725] Trial 20 finished with value: 0.7941667100589886 and parameters: {'penalty': 'l2', 'solver': 'lbfgs', 'C': 0.01752135430110194}. Best is trial 20 with value: 0.7941667100589886.\n",
            "[I 2023-09-12 16:21:28,133] Trial 21 finished with value: 0.792164981717274 and parameters: {'penalty': 'l2', 'solver': 'lbfgs', 'C': 0.015636138496974632}. Best is trial 20 with value: 0.7941667100589886.\n",
            "[I 2023-09-12 16:21:31,439] Trial 22 finished with value: 0.7947949320626571 and parameters: {'penalty': 'l2', 'solver': 'lbfgs', 'C': 0.018631114346855517}. Best is trial 22 with value: 0.7947949320626571.\n",
            "[I 2023-09-12 16:21:34,184] Trial 23 finished with value: 0.7883107714120715 and parameters: {'penalty': 'l2', 'solver': 'lbfgs', 'C': 0.010495523300686323}. Best is trial 22 with value: 0.7947949320626571.\n",
            "[I 2023-09-12 16:21:36,557] Trial 24 finished with value: 0.7948008961866024 and parameters: {'penalty': 'l2', 'solver': 'lbfgs', 'C': 0.01775039246609303}. Best is trial 24 with value: 0.7948008961866024.\n",
            "[I 2023-09-12 16:21:38,945] Trial 25 finished with value: 0.7922871949241038 and parameters: {'penalty': 'l2', 'solver': 'lbfgs', 'C': 0.03776616190432033}. Best is trial 24 with value: 0.7948008961866024.\n",
            "[I 2023-09-12 16:21:41,027] Trial 26 finished with value: 0.7921431149629063 and parameters: {'penalty': 'l2', 'solver': 'lbfgs', 'C': 0.022776441962255266}. Best is trial 24 with value: 0.7948008961866024.\n",
            "[I 2023-09-12 16:21:43,317] Trial 27 finished with value: 0.7925131343822533 and parameters: {'penalty': 'l2', 'solver': 'lbfgs', 'C': 0.015024201949375978}. Best is trial 24 with value: 0.7948008961866024.\n",
            "[I 2023-09-12 16:21:46,619] Trial 28 finished with value: 0.7903756988073182 and parameters: {'penalty': 'l2', 'solver': 'lbfgs', 'C': 0.05599281658107091}. Best is trial 24 with value: 0.7948008961866024.\n",
            "[I 2023-09-12 16:22:00,627] Trial 29 finished with value: 0.7924099576042872 and parameters: {'penalty': 'l2', 'solver': 'sag', 'C': 0.02650140765950876}. Best is trial 24 with value: 0.7948008961866024.\n",
            "[I 2023-09-12 16:22:03,317] Trial 30 finished with value: 0.7925125342954625 and parameters: {'penalty': 'l2', 'solver': 'lbfgs', 'C': 0.0149253829425538}. Best is trial 24 with value: 0.7948008961866024.\n",
            "[I 2023-09-12 16:22:05,898] Trial 31 finished with value: 0.794061637466567 and parameters: {'penalty': 'l2', 'solver': 'lbfgs', 'C': 0.01887033014168882}. Best is trial 24 with value: 0.7948008961866024.\n",
            "[I 2023-09-12 16:22:08,378] Trial 32 finished with value: 0.794920108007713 and parameters: {'penalty': 'l2', 'solver': 'lbfgs', 'C': 0.019353232119299988}. Best is trial 32 with value: 0.794920108007713.\n",
            "[I 2023-09-12 16:22:10,851] Trial 33 finished with value: 0.7930064485134333 and parameters: {'penalty': 'l2', 'solver': 'lbfgs', 'C': 0.02738755103829042}. Best is trial 32 with value: 0.794920108007713.\n",
            "[I 2023-09-12 16:22:13,598] Trial 34 finished with value: 0.7930327873483811 and parameters: {'penalty': 'l2', 'solver': 'lbfgs', 'C': 0.02113014206639912}. Best is trial 32 with value: 0.794920108007713.\n",
            "[I 2023-09-12 16:22:16,303] Trial 35 finished with value: 0.7905879023815201 and parameters: {'penalty': 'l2', 'solver': 'lbfgs', 'C': 0.013372409908107584}. Best is trial 32 with value: 0.794920108007713.\n",
            "[I 2023-09-12 16:22:30,460] Trial 36 finished with value: 0.78898177918103 and parameters: {'penalty': 'l2', 'solver': 'sag', 'C': 0.01238851586422138}. Best is trial 32 with value: 0.794920108007713.\n",
            "[I 2023-09-12 16:22:33,625] Trial 37 finished with value: 0.7932138390263278 and parameters: {'penalty': 'l2', 'solver': 'lbfgs', 'C': 0.02082602631082051}. Best is trial 32 with value: 0.794920108007713.\n",
            "[I 2023-09-12 16:22:48,519] Trial 38 finished with value: 0.7789014212164245 and parameters: {'penalty': 'none', 'solver': 'sag', 'C': 0.029447133506674203}. Best is trial 32 with value: 0.794920108007713.\n",
            "[I 2023-09-12 16:22:51,016] Trial 39 finished with value: 0.7879546114513918 and parameters: {'penalty': 'l2', 'solver': 'lbfgs', 'C': 0.01077718074450529}. Best is trial 32 with value: 0.794920108007713.\n",
            "[I 2023-09-12 16:23:06,317] Trial 40 finished with value: 0.7789014212164245 and parameters: {'penalty': 'none', 'solver': 'sag', 'C': 0.01920617122997078}. Best is trial 32 with value: 0.794920108007713.\n",
            "[I 2023-09-12 16:23:08,789] Trial 41 finished with value: 0.7945611724210593 and parameters: {'penalty': 'l2', 'solver': 'lbfgs', 'C': 0.019635562692484364}. Best is trial 32 with value: 0.794920108007713.\n",
            "[I 2023-09-12 16:23:11,188] Trial 42 finished with value: 0.790939810846725 and parameters: {'penalty': 'l2', 'solver': 'lbfgs', 'C': 0.013311224362107677}. Best is trial 32 with value: 0.794920108007713.\n",
            "[I 2023-09-12 16:23:13,819] Trial 43 finished with value: 0.7930174633844228 and parameters: {'penalty': 'l2', 'solver': 'lbfgs', 'C': 0.021572249057553058}. Best is trial 32 with value: 0.794920108007713.\n",
            "[I 2023-09-12 16:23:17,176] Trial 44 finished with value: 0.7924289268813265 and parameters: {'penalty': 'l2', 'solver': 'lbfgs', 'C': 0.026246883908646258}. Best is trial 32 with value: 0.794920108007713.\n",
            "[I 2023-09-12 16:23:19,772] Trial 45 finished with value: 0.7574579769635668 and parameters: {'penalty': 'none', 'solver': 'lbfgs', 'C': 0.017911685766531057}. Best is trial 32 with value: 0.794920108007713.\n",
            "[I 2023-09-12 16:23:22,499] Trial 46 finished with value: 0.791901361010295 and parameters: {'penalty': 'l2', 'solver': 'lbfgs', 'C': 0.013868261564127264}. Best is trial 32 with value: 0.794920108007713.\n",
            "[I 2023-09-12 16:23:24,897] Trial 47 finished with value: 0.7907506623447867 and parameters: {'penalty': 'l2', 'solver': 'lbfgs', 'C': 0.023513522580076194}. Best is trial 32 with value: 0.794920108007713.\n",
            "[I 2023-09-12 16:23:27,273] Trial 48 finished with value: 0.7912064564169432 and parameters: {'penalty': 'l2', 'solver': 'lbfgs', 'C': 0.04236225916248977}. Best is trial 32 with value: 0.794920108007713.\n",
            "[I 2023-09-12 16:23:42,550] Trial 49 finished with value: 0.7789014212164245 and parameters: {'penalty': 'none', 'solver': 'sag', 'C': 0.03158623645727436}. Best is trial 32 with value: 0.794920108007713.\n"
          ]
        },
        {
          "output_type": "stream",
          "name": "stdout",
          "text": [
            "CPU times: user 5.14 s, sys: 2.21 s, total: 7.35 s\n",
            "Wall time: 4min 30s\n"
          ]
        }
      ]
    },
    {
      "cell_type": "code",
      "source": [
        "# рассчитаем метрику f1 для тестовой выборки\n",
        "best_estimator = LogisticRegression(**study_lr.best_params, random_state=RANDOMSTATE, max_iter=MAX_ITER)\n",
        "best_estimator.fit(X_train, y_train)\n",
        "\n",
        "best_f1_score = metrics.f1_score(y_test, best_estimator.predict(X_test)).round(4)\n",
        "show_info(score_table, name_lr, 'Optuna (CV)', best_f1_score, study_lr.best_params)\n"
      ],
      "metadata": {
        "id": "kRVBx_nTR1XC",
        "colab": {
          "base_uri": "https://localhost:8080/"
        },
        "outputId": "622fcd6a-254b-4b2e-b997-7429699032ac"
      },
      "id": "kRVBx_nTR1XC",
      "execution_count": 40,
      "outputs": [
        {
          "output_type": "stream",
          "name": "stdout",
          "text": [
            "Классификатор: LogisticRegression. Оптимизация гиперпараметров: Optuna (CV).\n",
            "Метрика f1_score на тестовом наборе:  0.7829\n",
            "Наилучшие значения гиперпараметров:  {'penalty': 'l2', 'solver': 'lbfgs', 'C': 0.019353232119299988}\n"
          ]
        }
      ]
    },
    {
      "cell_type": "markdown",
      "source": [
        "### **RandomForestClassifier**"
      ],
      "metadata": {
        "id": "QkF4pNQYQxfJ"
      },
      "id": "QkF4pNQYQxfJ"
    },
    {
      "cell_type": "code",
      "execution_count": 50,
      "id": "ubC21yLQpYyF",
      "metadata": {
        "colab": {
          "base_uri": "https://localhost:8080/"
        },
        "id": "ubC21yLQpYyF",
        "outputId": "55896a06-9acd-4fad-cac6-be9e155ff978"
      },
      "outputs": [
        {
          "output_type": "stream",
          "name": "stderr",
          "text": [
            "[I 2023-09-12 17:03:42,680] A new study created in memory with name: RandomForestClassifier\n",
            "[I 2023-09-12 17:03:49,350] Trial 0 finished with value: 0.8118997887471323 and parameters: {'n_estimators': 96, 'max_depth': 27, 'min_samples_leaf': 1}. Best is trial 0 with value: 0.8118997887471323.\n",
            "[I 2023-09-12 17:04:00,818] Trial 1 finished with value: 0.8098249843483002 and parameters: {'n_estimators': 167, 'max_depth': 38, 'min_samples_leaf': 3}. Best is trial 0 with value: 0.8118997887471323.\n",
            "[I 2023-09-12 17:04:04,288] Trial 2 finished with value: 0.763979208343512 and parameters: {'n_estimators': 131, 'max_depth': 4, 'min_samples_leaf': 2}. Best is trial 0 with value: 0.8118997887471323.\n",
            "[I 2023-09-12 17:04:08,178] Trial 3 finished with value: 0.7218443508746546 and parameters: {'n_estimators': 146, 'max_depth': 1, 'min_samples_leaf': 8}. Best is trial 0 with value: 0.8118997887471323.\n",
            "[I 2023-09-12 17:04:17,022] Trial 4 finished with value: 0.8092211183863112 and parameters: {'n_estimators': 171, 'max_depth': 17, 'min_samples_leaf': 5}. Best is trial 0 with value: 0.8118997887471323.\n",
            "[I 2023-09-12 17:04:25,626] Trial 5 finished with value: 0.792512816678984 and parameters: {'n_estimators': 168, 'max_depth': 7, 'min_samples_leaf': 4}. Best is trial 0 with value: 0.8118997887471323.\n",
            "[I 2023-09-12 17:04:32,443] Trial 6 finished with value: 0.8113470244202702 and parameters: {'n_estimators': 131, 'max_depth': 36, 'min_samples_leaf': 6}. Best is trial 0 with value: 0.8118997887471323.\n",
            "[I 2023-09-12 17:04:47,140] Trial 7 finished with value: 0.8154476850890461 and parameters: {'n_estimators': 199, 'max_depth': 39, 'min_samples_leaf': 2}. Best is trial 7 with value: 0.8154476850890461.\n",
            "[I 2023-09-12 17:04:58,843] Trial 8 finished with value: 0.8150823150598306 and parameters: {'n_estimators': 160, 'max_depth': 12, 'min_samples_leaf': 2}. Best is trial 7 with value: 0.8154476850890461.\n",
            "[I 2023-09-12 17:05:04,491] Trial 9 finished with value: 0.8054893662829261 and parameters: {'n_estimators': 111, 'max_depth': 23, 'min_samples_leaf': 5}. Best is trial 7 with value: 0.8154476850890461.\n",
            "[I 2023-09-12 17:05:20,175] Trial 10 finished with value: 0.8167260497860205 and parameters: {'n_estimators': 199, 'max_depth': 31, 'min_samples_leaf': 1}. Best is trial 10 with value: 0.8167260497860205.\n",
            "[I 2023-09-12 17:05:34,397] Trial 11 finished with value: 0.8168719898009658 and parameters: {'n_estimators': 195, 'max_depth': 31, 'min_samples_leaf': 1}. Best is trial 11 with value: 0.8168719898009658.\n",
            "[I 2023-09-12 17:05:49,540] Trial 12 finished with value: 0.8170050874553325 and parameters: {'n_estimators': 200, 'max_depth': 31, 'min_samples_leaf': 1}. Best is trial 12 with value: 0.8170050874553325.\n",
            "[I 2023-09-12 17:06:04,303] Trial 13 finished with value: 0.8173447399161293 and parameters: {'n_estimators': 186, 'max_depth': 29, 'min_samples_leaf': 1}. Best is trial 13 with value: 0.8173447399161293.\n",
            "[I 2023-09-12 17:06:17,624] Trial 14 finished with value: 0.8097067619649169 and parameters: {'n_estimators': 183, 'max_depth': 22, 'min_samples_leaf': 3}. Best is trial 13 with value: 0.8173447399161293.\n",
            "[I 2023-09-12 17:06:28,721] Trial 15 finished with value: 0.8067952456038882 and parameters: {'n_estimators': 183, 'max_depth': 30, 'min_samples_leaf': 7}. Best is trial 13 with value: 0.8173447399161293.\n",
            "[I 2023-09-12 17:06:39,756] Trial 16 finished with value: 0.8115177127238111 and parameters: {'n_estimators': 149, 'max_depth': 17, 'min_samples_leaf': 3}. Best is trial 13 with value: 0.8173447399161293.\n",
            "[I 2023-09-12 17:06:49,003] Trial 17 finished with value: 0.8115853948365152 and parameters: {'n_estimators': 179, 'max_depth': 25, 'min_samples_leaf': 4}. Best is trial 13 with value: 0.8173447399161293.\n",
            "[I 2023-09-12 17:07:03,313] Trial 18 finished with value: 0.8174820115560685 and parameters: {'n_estimators': 188, 'max_depth': 35, 'min_samples_leaf': 1}. Best is trial 18 with value: 0.8174820115560685.\n",
            "[I 2023-09-12 17:07:10,982] Trial 19 finished with value: 0.8143247648132075 and parameters: {'n_estimators': 81, 'max_depth': 34, 'min_samples_leaf': 2}. Best is trial 18 with value: 0.8174820115560685.\n"
          ]
        },
        {
          "output_type": "stream",
          "name": "stdout",
          "text": [
            "CPU times: user 3.14 s, sys: 1 s, total: 4.14 s\n",
            "Wall time: 3min 28s\n"
          ]
        }
      ],
      "source": [
        "# cоздаем объект исследования\n",
        "# можем напрямую указать, что нам необходимо максимизировать метрику direction=\"maximize\"\n",
        "study_rf = optuna.create_study(study_name=name_rf, direction=\"maximize\")\n",
        "# ищем лучшую комбинацию гиперпараметров n_trials раз\n",
        "%time study_rf.optimize(optuna_rf, n_trials=20)\n"
      ]
    },
    {
      "cell_type": "code",
      "source": [
        "# рассчитаем метрику f1 для тестовой выборки\n",
        "best_estimator = RandomForestClassifier(**study_rf.best_params, random_state=RANDOMSTATE).fit(X_train, y_train)\n",
        "\n",
        "best_f1_score = metrics.f1_score(y_test, best_estimator.predict(X_test)).round(4)\n",
        "show_info(score_table, name_rf, 'Optuna (CV)', best_f1_score, study_rf.best_params)\n"
      ],
      "metadata": {
        "id": "KlTEJ9IFQXDu",
        "colab": {
          "base_uri": "https://localhost:8080/"
        },
        "outputId": "63702961-4575-4f65-fa77-4ea56ec0192a"
      },
      "id": "KlTEJ9IFQXDu",
      "execution_count": 51,
      "outputs": [
        {
          "output_type": "stream",
          "name": "stdout",
          "text": [
            "Классификатор: RandomForestClassifier. Оптимизация гиперпараметров: Optuna (CV).\n",
            "Метрика f1_score на тестовом наборе:  0.8068\n",
            "Наилучшие значения гиперпараметров:  {'n_estimators': 188, 'max_depth': 35, 'min_samples_leaf': 1}\n"
          ]
        }
      ]
    },
    {
      "cell_type": "markdown",
      "source": [
        "---\n",
        "## Вывод"
      ],
      "metadata": {
        "id": "gnlGuqu0V5S6"
      },
      "id": "gnlGuqu0V5S6"
    },
    {
      "cell_type": "code",
      "execution_count": 52,
      "id": "1321b461",
      "metadata": {
        "colab": {
          "base_uri": "https://localhost:8080/",
          "height": 443
        },
        "id": "1321b461",
        "outputId": "5a1bdd41-1f09-4fcd-e60b-de26031fff39"
      },
      "outputs": [
        {
          "output_type": "execute_result",
          "data": {
            "text/plain": [
              "                name_model         optimization  score_f1  \\\n",
              "0       LogisticRegression              default    0.7767   \n",
              "7       LogisticRegression        HyperOpt (CV)    0.7796   \n",
              "2       LogisticRegression         GridSearchCV    0.7810   \n",
              "5       LogisticRegression   RandomizedSearchCV    0.7810   \n",
              "9       LogisticRegression          Optuna (CV)    0.7829   \n",
              "3   RandomForestClassifier         GridSearchCV    0.7864   \n",
              "6   RandomForestClassifier   RandomizedSearchCV    0.7898   \n",
              "4   RandomForestClassifier  HalvingGridSearchCV    0.7971   \n",
              "8   RandomForestClassifier        HyperOpt (CV)    0.8024   \n",
              "10  RandomForestClassifier          Optuna (CV)    0.8043   \n",
              "1   RandomForestClassifier              default    0.8048   \n",
              "11  RandomForestClassifier          Optuna (CV)    0.8068   \n",
              "\n",
              "                                                                 best_params  \n",
              "0                                      (penalty='l2', C=1.0, solver='lbfgs )  \n",
              "7            {'C': 0.017331323696411022, 'penalty': 'l2', 'solver': 'lbfgs'}  \n",
              "2                              {'C': 0.01, 'penalty': 'l2', 'solver': 'sag'}  \n",
              "5                              {'solver': 'sag', 'penalty': 'l2', 'C': 0.01}  \n",
              "9            {'penalty': 'l2', 'solver': 'lbfgs', 'C': 0.019353232119299988}  \n",
              "3              {'max_depth': 17, 'min_samples_leaf': 2, 'n_estimators': 110}  \n",
              "6              {'n_estimators': 155, 'min_samples_leaf': 2, 'max_depth': 10}  \n",
              "4              {'max_depth': 40, 'min_samples_leaf': 2, 'n_estimators': 140}  \n",
              "8              {'max_depth': 29, 'min_samples_leaf': 2, 'n_estimators': 126}  \n",
              "10             {'n_estimators': 161, 'max_depth': 39, 'min_samples_leaf': 2}  \n",
              "1   (n_estimators=100, criterion='gini', max_depth=None, min_samples_leaf=1)  \n",
              "11             {'n_estimators': 188, 'max_depth': 35, 'min_samples_leaf': 1}  "
            ],
            "text/html": [
              "\n",
              "  <div id=\"df-15179e5a-f056-4989-9caa-a84d226c5ab1\" class=\"colab-df-container\">\n",
              "    <div>\n",
              "<style scoped>\n",
              "    .dataframe tbody tr th:only-of-type {\n",
              "        vertical-align: middle;\n",
              "    }\n",
              "\n",
              "    .dataframe tbody tr th {\n",
              "        vertical-align: top;\n",
              "    }\n",
              "\n",
              "    .dataframe thead th {\n",
              "        text-align: right;\n",
              "    }\n",
              "</style>\n",
              "<table border=\"1\" class=\"dataframe\">\n",
              "  <thead>\n",
              "    <tr style=\"text-align: right;\">\n",
              "      <th></th>\n",
              "      <th>name_model</th>\n",
              "      <th>optimization</th>\n",
              "      <th>score_f1</th>\n",
              "      <th>best_params</th>\n",
              "    </tr>\n",
              "  </thead>\n",
              "  <tbody>\n",
              "    <tr>\n",
              "      <th>0</th>\n",
              "      <td>LogisticRegression</td>\n",
              "      <td>default</td>\n",
              "      <td>0.7767</td>\n",
              "      <td>(penalty='l2', C=1.0, solver='lbfgs )</td>\n",
              "    </tr>\n",
              "    <tr>\n",
              "      <th>7</th>\n",
              "      <td>LogisticRegression</td>\n",
              "      <td>HyperOpt (CV)</td>\n",
              "      <td>0.7796</td>\n",
              "      <td>{'C': 0.017331323696411022, 'penalty': 'l2', 'solver': 'lbfgs'}</td>\n",
              "    </tr>\n",
              "    <tr>\n",
              "      <th>2</th>\n",
              "      <td>LogisticRegression</td>\n",
              "      <td>GridSearchCV</td>\n",
              "      <td>0.7810</td>\n",
              "      <td>{'C': 0.01, 'penalty': 'l2', 'solver': 'sag'}</td>\n",
              "    </tr>\n",
              "    <tr>\n",
              "      <th>5</th>\n",
              "      <td>LogisticRegression</td>\n",
              "      <td>RandomizedSearchCV</td>\n",
              "      <td>0.7810</td>\n",
              "      <td>{'solver': 'sag', 'penalty': 'l2', 'C': 0.01}</td>\n",
              "    </tr>\n",
              "    <tr>\n",
              "      <th>9</th>\n",
              "      <td>LogisticRegression</td>\n",
              "      <td>Optuna (CV)</td>\n",
              "      <td>0.7829</td>\n",
              "      <td>{'penalty': 'l2', 'solver': 'lbfgs', 'C': 0.019353232119299988}</td>\n",
              "    </tr>\n",
              "    <tr>\n",
              "      <th>3</th>\n",
              "      <td>RandomForestClassifier</td>\n",
              "      <td>GridSearchCV</td>\n",
              "      <td>0.7864</td>\n",
              "      <td>{'max_depth': 17, 'min_samples_leaf': 2, 'n_estimators': 110}</td>\n",
              "    </tr>\n",
              "    <tr>\n",
              "      <th>6</th>\n",
              "      <td>RandomForestClassifier</td>\n",
              "      <td>RandomizedSearchCV</td>\n",
              "      <td>0.7898</td>\n",
              "      <td>{'n_estimators': 155, 'min_samples_leaf': 2, 'max_depth': 10}</td>\n",
              "    </tr>\n",
              "    <tr>\n",
              "      <th>4</th>\n",
              "      <td>RandomForestClassifier</td>\n",
              "      <td>HalvingGridSearchCV</td>\n",
              "      <td>0.7971</td>\n",
              "      <td>{'max_depth': 40, 'min_samples_leaf': 2, 'n_estimators': 140}</td>\n",
              "    </tr>\n",
              "    <tr>\n",
              "      <th>8</th>\n",
              "      <td>RandomForestClassifier</td>\n",
              "      <td>HyperOpt (CV)</td>\n",
              "      <td>0.8024</td>\n",
              "      <td>{'max_depth': 29, 'min_samples_leaf': 2, 'n_estimators': 126}</td>\n",
              "    </tr>\n",
              "    <tr>\n",
              "      <th>10</th>\n",
              "      <td>RandomForestClassifier</td>\n",
              "      <td>Optuna (CV)</td>\n",
              "      <td>0.8043</td>\n",
              "      <td>{'n_estimators': 161, 'max_depth': 39, 'min_samples_leaf': 2}</td>\n",
              "    </tr>\n",
              "    <tr>\n",
              "      <th>1</th>\n",
              "      <td>RandomForestClassifier</td>\n",
              "      <td>default</td>\n",
              "      <td>0.8048</td>\n",
              "      <td>(n_estimators=100, criterion='gini', max_depth=None, min_samples_leaf=1)</td>\n",
              "    </tr>\n",
              "    <tr>\n",
              "      <th>11</th>\n",
              "      <td>RandomForestClassifier</td>\n",
              "      <td>Optuna (CV)</td>\n",
              "      <td>0.8068</td>\n",
              "      <td>{'n_estimators': 188, 'max_depth': 35, 'min_samples_leaf': 1}</td>\n",
              "    </tr>\n",
              "  </tbody>\n",
              "</table>\n",
              "</div>\n",
              "    <div class=\"colab-df-buttons\">\n",
              "\n",
              "  <div class=\"colab-df-container\">\n",
              "    <button class=\"colab-df-convert\" onclick=\"convertToInteractive('df-15179e5a-f056-4989-9caa-a84d226c5ab1')\"\n",
              "            title=\"Convert this dataframe to an interactive table.\"\n",
              "            style=\"display:none;\">\n",
              "\n",
              "  <svg xmlns=\"http://www.w3.org/2000/svg\" height=\"24px\" viewBox=\"0 -960 960 960\">\n",
              "    <path d=\"M120-120v-720h720v720H120Zm60-500h600v-160H180v160Zm220 220h160v-160H400v160Zm0 220h160v-160H400v160ZM180-400h160v-160H180v160Zm440 0h160v-160H620v160ZM180-180h160v-160H180v160Zm440 0h160v-160H620v160Z\"/>\n",
              "  </svg>\n",
              "    </button>\n",
              "\n",
              "  <style>\n",
              "    .colab-df-container {\n",
              "      display:flex;\n",
              "      gap: 12px;\n",
              "    }\n",
              "\n",
              "    .colab-df-convert {\n",
              "      background-color: #E8F0FE;\n",
              "      border: none;\n",
              "      border-radius: 50%;\n",
              "      cursor: pointer;\n",
              "      display: none;\n",
              "      fill: #1967D2;\n",
              "      height: 32px;\n",
              "      padding: 0 0 0 0;\n",
              "      width: 32px;\n",
              "    }\n",
              "\n",
              "    .colab-df-convert:hover {\n",
              "      background-color: #E2EBFA;\n",
              "      box-shadow: 0px 1px 2px rgba(60, 64, 67, 0.3), 0px 1px 3px 1px rgba(60, 64, 67, 0.15);\n",
              "      fill: #174EA6;\n",
              "    }\n",
              "\n",
              "    .colab-df-buttons div {\n",
              "      margin-bottom: 4px;\n",
              "    }\n",
              "\n",
              "    [theme=dark] .colab-df-convert {\n",
              "      background-color: #3B4455;\n",
              "      fill: #D2E3FC;\n",
              "    }\n",
              "\n",
              "    [theme=dark] .colab-df-convert:hover {\n",
              "      background-color: #434B5C;\n",
              "      box-shadow: 0px 1px 3px 1px rgba(0, 0, 0, 0.15);\n",
              "      filter: drop-shadow(0px 1px 2px rgba(0, 0, 0, 0.3));\n",
              "      fill: #FFFFFF;\n",
              "    }\n",
              "  </style>\n",
              "\n",
              "    <script>\n",
              "      const buttonEl =\n",
              "        document.querySelector('#df-15179e5a-f056-4989-9caa-a84d226c5ab1 button.colab-df-convert');\n",
              "      buttonEl.style.display =\n",
              "        google.colab.kernel.accessAllowed ? 'block' : 'none';\n",
              "\n",
              "      async function convertToInteractive(key) {\n",
              "        const element = document.querySelector('#df-15179e5a-f056-4989-9caa-a84d226c5ab1');\n",
              "        const dataTable =\n",
              "          await google.colab.kernel.invokeFunction('convertToInteractive',\n",
              "                                                    [key], {});\n",
              "        if (!dataTable) return;\n",
              "\n",
              "        const docLinkHtml = 'Like what you see? Visit the ' +\n",
              "          '<a target=\"_blank\" href=https://colab.research.google.com/notebooks/data_table.ipynb>data table notebook</a>'\n",
              "          + ' to learn more about interactive tables.';\n",
              "        element.innerHTML = '';\n",
              "        dataTable['output_type'] = 'display_data';\n",
              "        await google.colab.output.renderOutput(dataTable, element);\n",
              "        const docLink = document.createElement('div');\n",
              "        docLink.innerHTML = docLinkHtml;\n",
              "        element.appendChild(docLink);\n",
              "      }\n",
              "    </script>\n",
              "  </div>\n",
              "\n",
              "\n",
              "<div id=\"df-f9a7126d-e736-4164-8805-b7361c5b61ab\">\n",
              "  <button class=\"colab-df-quickchart\" onclick=\"quickchart('df-f9a7126d-e736-4164-8805-b7361c5b61ab')\"\n",
              "            title=\"Suggest charts.\"\n",
              "            style=\"display:none;\">\n",
              "\n",
              "<svg xmlns=\"http://www.w3.org/2000/svg\" height=\"24px\"viewBox=\"0 0 24 24\"\n",
              "     width=\"24px\">\n",
              "    <g>\n",
              "        <path d=\"M19 3H5c-1.1 0-2 .9-2 2v14c0 1.1.9 2 2 2h14c1.1 0 2-.9 2-2V5c0-1.1-.9-2-2-2zM9 17H7v-7h2v7zm4 0h-2V7h2v10zm4 0h-2v-4h2v4z\"/>\n",
              "    </g>\n",
              "</svg>\n",
              "  </button>\n",
              "\n",
              "<style>\n",
              "  .colab-df-quickchart {\n",
              "      --bg-color: #E8F0FE;\n",
              "      --fill-color: #1967D2;\n",
              "      --hover-bg-color: #E2EBFA;\n",
              "      --hover-fill-color: #174EA6;\n",
              "      --disabled-fill-color: #AAA;\n",
              "      --disabled-bg-color: #DDD;\n",
              "  }\n",
              "\n",
              "  [theme=dark] .colab-df-quickchart {\n",
              "      --bg-color: #3B4455;\n",
              "      --fill-color: #D2E3FC;\n",
              "      --hover-bg-color: #434B5C;\n",
              "      --hover-fill-color: #FFFFFF;\n",
              "      --disabled-bg-color: #3B4455;\n",
              "      --disabled-fill-color: #666;\n",
              "  }\n",
              "\n",
              "  .colab-df-quickchart {\n",
              "    background-color: var(--bg-color);\n",
              "    border: none;\n",
              "    border-radius: 50%;\n",
              "    cursor: pointer;\n",
              "    display: none;\n",
              "    fill: var(--fill-color);\n",
              "    height: 32px;\n",
              "    padding: 0;\n",
              "    width: 32px;\n",
              "  }\n",
              "\n",
              "  .colab-df-quickchart:hover {\n",
              "    background-color: var(--hover-bg-color);\n",
              "    box-shadow: 0 1px 2px rgba(60, 64, 67, 0.3), 0 1px 3px 1px rgba(60, 64, 67, 0.15);\n",
              "    fill: var(--button-hover-fill-color);\n",
              "  }\n",
              "\n",
              "  .colab-df-quickchart-complete:disabled,\n",
              "  .colab-df-quickchart-complete:disabled:hover {\n",
              "    background-color: var(--disabled-bg-color);\n",
              "    fill: var(--disabled-fill-color);\n",
              "    box-shadow: none;\n",
              "  }\n",
              "\n",
              "  .colab-df-spinner {\n",
              "    border: 2px solid var(--fill-color);\n",
              "    border-color: transparent;\n",
              "    border-bottom-color: var(--fill-color);\n",
              "    animation:\n",
              "      spin 1s steps(1) infinite;\n",
              "  }\n",
              "\n",
              "  @keyframes spin {\n",
              "    0% {\n",
              "      border-color: transparent;\n",
              "      border-bottom-color: var(--fill-color);\n",
              "      border-left-color: var(--fill-color);\n",
              "    }\n",
              "    20% {\n",
              "      border-color: transparent;\n",
              "      border-left-color: var(--fill-color);\n",
              "      border-top-color: var(--fill-color);\n",
              "    }\n",
              "    30% {\n",
              "      border-color: transparent;\n",
              "      border-left-color: var(--fill-color);\n",
              "      border-top-color: var(--fill-color);\n",
              "      border-right-color: var(--fill-color);\n",
              "    }\n",
              "    40% {\n",
              "      border-color: transparent;\n",
              "      border-right-color: var(--fill-color);\n",
              "      border-top-color: var(--fill-color);\n",
              "    }\n",
              "    60% {\n",
              "      border-color: transparent;\n",
              "      border-right-color: var(--fill-color);\n",
              "    }\n",
              "    80% {\n",
              "      border-color: transparent;\n",
              "      border-right-color: var(--fill-color);\n",
              "      border-bottom-color: var(--fill-color);\n",
              "    }\n",
              "    90% {\n",
              "      border-color: transparent;\n",
              "      border-bottom-color: var(--fill-color);\n",
              "    }\n",
              "  }\n",
              "</style>\n",
              "\n",
              "  <script>\n",
              "    async function quickchart(key) {\n",
              "      const quickchartButtonEl =\n",
              "        document.querySelector('#' + key + ' button');\n",
              "      quickchartButtonEl.disabled = true;  // To prevent multiple clicks.\n",
              "      quickchartButtonEl.classList.add('colab-df-spinner');\n",
              "      try {\n",
              "        const charts = await google.colab.kernel.invokeFunction(\n",
              "            'suggestCharts', [key], {});\n",
              "      } catch (error) {\n",
              "        console.error('Error during call to suggestCharts:', error);\n",
              "      }\n",
              "      quickchartButtonEl.classList.remove('colab-df-spinner');\n",
              "      quickchartButtonEl.classList.add('colab-df-quickchart-complete');\n",
              "    }\n",
              "    (() => {\n",
              "      let quickchartButtonEl =\n",
              "        document.querySelector('#df-f9a7126d-e736-4164-8805-b7361c5b61ab button');\n",
              "      quickchartButtonEl.style.display =\n",
              "        google.colab.kernel.accessAllowed ? 'block' : 'none';\n",
              "    })();\n",
              "  </script>\n",
              "</div>\n",
              "    </div>\n",
              "  </div>\n"
            ]
          },
          "metadata": {},
          "execution_count": 52
        }
      ],
      "source": [
        "pd.set_option('display.max_colwidth', None)\n",
        "score_table.sort_values(by=['name_model','score_f1'])\n"
      ]
    },
    {
      "cell_type": "code",
      "source": [
        "# compression_opts = dict(method='zip', archive_name='hpo.csv')\n",
        "# path_file = './drive/MyDrive/DS/data/hpo.zip'\n",
        "# score_table.to_csv(path_file, index=False, compression=compression_opts)\n",
        "# score_table = pd.read_csv(path_file)"
      ],
      "metadata": {
        "id": "PULsW7nYHC08"
      },
      "id": "PULsW7nYHC08",
      "execution_count": 87,
      "outputs": []
    },
    {
      "cell_type": "code",
      "source": [
        "rf_data = score_table[score_table['name_model'] == 'RandomForestClassifier']\n",
        "lr_data = score_table[score_table['name_model'] == 'LogisticRegression']\n",
        "\n",
        "# График для RandomForest\n",
        "plt.figure(figsize=(10, 6))\n",
        "sns.lineplot(data=rf_data, x='optimization', y='score_f1', label='RandomForest', marker='o')\n",
        "\n",
        "# График для LogisticRegression\n",
        "sns.lineplot(data=lr_data, x='optimization', y='score_f1', label='LogisticRegression', marker='o')\n",
        "\n",
        "# Внешний вид графика\n",
        "plt.title('Кривые оценки F1 для RandomForest и LogisticRegression')\n",
        "plt.xlabel('Оптимизация')\n",
        "plt.ylabel('Оценка F1')\n",
        "plt.xticks(rotation=45)\n",
        "plt.grid(True)\n",
        "plt.legend()\n",
        "\n",
        "plt.show()\n",
        "\n"
      ],
      "metadata": {
        "id": "f4DaX--Q5dOY",
        "colab": {
          "base_uri": "https://localhost:8080/",
          "height": 687
        },
        "outputId": "d5643cd1-e6e5-47e9-ec78-298f35db84b5"
      },
      "id": "f4DaX--Q5dOY",
      "execution_count": 56,
      "outputs": [
        {
          "output_type": "display_data",
          "data": {
            "text/plain": [
              "<Figure size 1000x600 with 1 Axes>"
            ],
            "image/png": "[encoded data removed]"
          },
          "metadata": {}
        }
      ]
    },
    {
      "cell_type": "markdown",
      "source": [
        "#### Вывод : Классификатор RandomForestClassifier выдает лучшие характеристики по предсказанию по сравнению с логистической регрессией. Разброс лучших параметров возможно либо из-за ограничения MAX_ITER, либо расширить поиск диапазона гиперпараметров"
      ],
      "metadata": {
        "id": "Y14LaAKs7q3U"
      },
      "id": "Y14LaAKs7q3U"
    }
  ],
  "metadata": {
    "colab": {
      "provenance": [],
      "include_colab_link": true
    },
    "kernelspec": {
      "display_name": "Python 3.8.13 64-bit",
      "language": "python",
      "name": "python3"
    },
    "language_info": {
      "codemirror_mode": {
        "name": "ipython",
        "version": 3
      },
      "file_extension": ".py",
      "mimetype": "text/x-python",
      "name": "python",
      "nbconvert_exporter": "python",
      "pygments_lexer": "ipython3",
      "version": "3.8.13"
    },
    "vscode": {
      "interpreter": {
        "hash": "2469a70536e4d2335a2ea8907942d0699c37342a371ac185bdb5b0aa6f073890"
      }
    }
  },
  "nbformat": 4,
  "nbformat_minor": 5
}