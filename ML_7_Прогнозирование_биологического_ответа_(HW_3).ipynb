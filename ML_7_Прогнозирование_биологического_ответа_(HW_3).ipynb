{
  "cells": [
    {
      "cell_type": "markdown",
      "metadata": {
        "id": "view-in-github",
        "colab_type": "text"
      },
      "source": [
        "<a href=\"https://colab.research.google.com/github/IgorekFromRU/HyperParametrOptimization/blob/master/ML_7_%D0%9F%D1%80%D0%BE%D0%B3%D0%BD%D0%BE%D0%B7%D0%B8%D1%80%D0%BE%D0%B2%D0%B0%D0%BD%D0%B8%D0%B5_%D0%B1%D0%B8%D0%BE%D0%BB%D0%BE%D0%B3%D0%B8%D1%87%D0%B5%D1%81%D0%BA%D0%BE%D0%B3%D0%BE_%D0%BE%D1%82%D0%B2%D0%B5%D1%82%D0%B0_(HW_3).ipynb\" target=\"_parent\"><img src=\"https://colab.research.google.com/assets/colab-badge.svg\" alt=\"Open In Colab\"/></a>"
      ]
    },
    {
      "cell_type": "markdown",
      "id": "AoeSkz4KaANH",
      "metadata": {
        "id": "AoeSkz4KaANH"
      },
      "source": [
        "# ML-7. Прогнозирование биологического ответа (HW-3)\n",
        "\n",
        "![Biomolecules](https://media.geeksforgeeks.org/wp-content/uploads/20220719115043/C581.png)\n",
        "\n",
        "## Задача\n",
        "\n",
        "Необходимо предсказать биологический ответ молекул (столбец 'Activity') по их химическому составу\n",
        "(столбцы D1-D1776).\n",
        "\n",
        "В качестве метрики будем использовать F1-score.\n",
        "\n",
        "Необходимо обучить две модели: логистическую регрессию и случайный лес. Далее нужно сделать подбор гиперпараметров с помощью базовых и продвинутых методов оптимизации. Важно использовать все четыре метода (GridSeachCV, RandomizedSearchCV, Hyperopt, Optuna) хотя бы по разу, максимальное количество итераций не должно превышать 50."
      ]
    },
    {
      "cell_type": "code",
      "execution_count": 1,
      "id": "d8q91-MSaAOG",
      "metadata": {
        "id": "d8q91-MSaAOG"
      },
      "outputs": [],
      "source": [
        "#импорт библиотек\n",
        "from time import time\n",
        "import numpy as np\n",
        "import pandas as pd #для анализа и предобработки данных\n",
        "\n",
        "from sklearn.linear_model import LogisticRegression\n",
        "#from sklearn.tree import DecisionTreeClassifier #деревья решений\n",
        "from sklearn.ensemble import RandomForestClassifier #ансамбли\n",
        "from sklearn.metrics import  f1_score #метрики\n",
        "from sklearn import preprocessing #предобработка\n",
        "from sklearn.model_selection import train_test_split, cross_val_score\n",
        "from sklearn.model_selection import GridSearchCV, RandomizedSearchCV\n",
        "\n",
        "import matplotlib.pyplot as plt #для визуализации\n",
        "import seaborn as sns #для визуализации\n",
        "%matplotlib inline\n",
        "\n",
        "import warnings\n",
        "warnings.filterwarnings('ignore')"
      ]
    },
    {
      "cell_type": "code",
      "source": [
        "RANDOMSTATE = 42\n",
        "MAX_ITER = 50\n",
        "name_lr = 'LogisticRegression'\n",
        "name_rf = 'RandomForestClassifier'\n",
        "ROUND_OUT = 4\n",
        "F1 = 'f1'\n",
        "\n",
        "clf_log_reg = LogisticRegression(random_state=RANDOMSTATE)\n",
        "clf_log_reg.name = 'Logistic Regression'\n",
        "\n",
        "clf_rand_forest = RandomForestClassifier(random_state=RANDOMSTATE)\n",
        "clf_rand_forest.name = 'RandomForestClassifier'"
      ],
      "metadata": {
        "id": "edmpQUHEfNFm"
      },
      "id": "edmpQUHEfNFm",
      "execution_count": 2,
      "outputs": []
    },
    {
      "cell_type": "markdown",
      "id": "8lbyun1kaAOy",
      "metadata": {
        "id": "8lbyun1kaAOy",
        "tags": []
      },
      "source": [
        "---\n",
        "\n",
        "## 1. Знакомство с данными и их исследование\n",
        "\n",
        "Данные представлены в формате CSV.  Каждая строка представляет молекулу.\n",
        "\n",
        "Первый столбец Activity содержит экспериментальные данные, описывающие фактический биологический ответ [0, 1];\n",
        "Остальные столбцы D1-D1776 представляют собой молекулярные дескрипторы — это вычисляемые свойства, которые могут фиксировать некоторые характеристики молекулы, например размер, форму или состав элементов.\n",
        "\n",
        "Предварительная обработка не требуется, данные уже закодированы и нормализованы."
      ]
    },
    {
      "cell_type": "code",
      "execution_count": 3,
      "id": "p770SmlfaAO3",
      "metadata": {
        "colab": {
          "base_uri": "https://localhost:8080/",
          "height": 179
        },
        "id": "p770SmlfaAO3",
        "outputId": "f3e33fa9-5a35-4fbb-92d6-1f30b4ec3f77"
      },
      "outputs": [
        {
          "output_type": "stream",
          "name": "stdout",
          "text": [
            "Mounted at /content/drive\n"
          ]
        },
        {
          "output_type": "execute_result",
          "data": {
            "text/plain": [
              "   Activity        D1        D2    D3   D4        D5        D6        D7  \\\n",
              "0         1  0.000000  0.497009  0.10  0.0  0.132956  0.678031  0.273166   \n",
              "1         1  0.366667  0.606291  0.05  0.0  0.111209  0.803455  0.106105   \n",
              "\n",
              "         D8        D9  ...  D1767  D1768  D1769  D1770  D1771  D1772  D1773  \\\n",
              "0  0.585445  0.743663  ...      0      0      0      0      0      0      0   \n",
              "1  0.411754  0.836582  ...      1      1      1      1      0      1      0   \n",
              "\n",
              "   D1774  D1775  D1776  \n",
              "0      0      0      0  \n",
              "1      0      1      0  \n",
              "\n",
              "[2 rows x 1777 columns]"
            ],
            "text/html": [
              "\n",
              "  <div id=\"df-923ed08b-42f9-4198-979e-0db44606f9c5\" class=\"colab-df-container\">\n",
              "    <div>\n",
              "<style scoped>\n",
              "    .dataframe tbody tr th:only-of-type {\n",
              "        vertical-align: middle;\n",
              "    }\n",
              "\n",
              "    .dataframe tbody tr th {\n",
              "        vertical-align: top;\n",
              "    }\n",
              "\n",
              "    .dataframe thead th {\n",
              "        text-align: right;\n",
              "    }\n",
              "</style>\n",
              "<table border=\"1\" class=\"dataframe\">\n",
              "  <thead>\n",
              "    <tr style=\"text-align: right;\">\n",
              "      <th></th>\n",
              "      <th>Activity</th>\n",
              "      <th>D1</th>\n",
              "      <th>D2</th>\n",
              "      <th>D3</th>\n",
              "      <th>D4</th>\n",
              "      <th>D5</th>\n",
              "      <th>D6</th>\n",
              "      <th>D7</th>\n",
              "      <th>D8</th>\n",
              "      <th>D9</th>\n",
              "      <th>...</th>\n",
              "      <th>D1767</th>\n",
              "      <th>D1768</th>\n",
              "      <th>D1769</th>\n",
              "      <th>D1770</th>\n",
              "      <th>D1771</th>\n",
              "      <th>D1772</th>\n",
              "      <th>D1773</th>\n",
              "      <th>D1774</th>\n",
              "      <th>D1775</th>\n",
              "      <th>D1776</th>\n",
              "    </tr>\n",
              "  </thead>\n",
              "  <tbody>\n",
              "    <tr>\n",
              "      <th>0</th>\n",
              "      <td>1</td>\n",
              "      <td>0.000000</td>\n",
              "      <td>0.497009</td>\n",
              "      <td>0.10</td>\n",
              "      <td>0.0</td>\n",
              "      <td>0.132956</td>\n",
              "      <td>0.678031</td>\n",
              "      <td>0.273166</td>\n",
              "      <td>0.585445</td>\n",
              "      <td>0.743663</td>\n",
              "      <td>...</td>\n",
              "      <td>0</td>\n",
              "      <td>0</td>\n",
              "      <td>0</td>\n",
              "      <td>0</td>\n",
              "      <td>0</td>\n",
              "      <td>0</td>\n",
              "      <td>0</td>\n",
              "      <td>0</td>\n",
              "      <td>0</td>\n",
              "      <td>0</td>\n",
              "    </tr>\n",
              "    <tr>\n",
              "      <th>1</th>\n",
              "      <td>1</td>\n",
              "      <td>0.366667</td>\n",
              "      <td>0.606291</td>\n",
              "      <td>0.05</td>\n",
              "      <td>0.0</td>\n",
              "      <td>0.111209</td>\n",
              "      <td>0.803455</td>\n",
              "      <td>0.106105</td>\n",
              "      <td>0.411754</td>\n",
              "      <td>0.836582</td>\n",
              "      <td>...</td>\n",
              "      <td>1</td>\n",
              "      <td>1</td>\n",
              "      <td>1</td>\n",
              "      <td>1</td>\n",
              "      <td>0</td>\n",
              "      <td>1</td>\n",
              "      <td>0</td>\n",
              "      <td>0</td>\n",
              "      <td>1</td>\n",
              "      <td>0</td>\n",
              "    </tr>\n",
              "  </tbody>\n",
              "</table>\n",
              "<p>2 rows × 1777 columns</p>\n",
              "</div>\n",
              "    <div class=\"colab-df-buttons\">\n",
              "\n",
              "  <div class=\"colab-df-container\">\n",
              "    <button class=\"colab-df-convert\" onclick=\"convertToInteractive('df-923ed08b-42f9-4198-979e-0db44606f9c5')\"\n",
              "            title=\"Convert this dataframe to an interactive table.\"\n",
              "            style=\"display:none;\">\n",
              "\n",
              "  <svg xmlns=\"http://www.w3.org/2000/svg\" height=\"24px\" viewBox=\"0 -960 960 960\">\n",
              "    <path d=\"M120-120v-720h720v720H120Zm60-500h600v-160H180v160Zm220 220h160v-160H400v160Zm0 220h160v-160H400v160ZM180-400h160v-160H180v160Zm440 0h160v-160H620v160ZM180-180h160v-160H180v160Zm440 0h160v-160H620v160Z\"/>\n",
              "  </svg>\n",
              "    </button>\n",
              "\n",
              "  <style>\n",
              "    .colab-df-container {\n",
              "      display:flex;\n",
              "      gap: 12px;\n",
              "    }\n",
              "\n",
              "    .colab-df-convert {\n",
              "      background-color: #E8F0FE;\n",
              "      border: none;\n",
              "      border-radius: 50%;\n",
              "      cursor: pointer;\n",
              "      display: none;\n",
              "      fill: #1967D2;\n",
              "      height: 32px;\n",
              "      padding: 0 0 0 0;\n",
              "      width: 32px;\n",
              "    }\n",
              "\n",
              "    .colab-df-convert:hover {\n",
              "      background-color: #E2EBFA;\n",
              "      box-shadow: 0px 1px 2px rgba(60, 64, 67, 0.3), 0px 1px 3px 1px rgba(60, 64, 67, 0.15);\n",
              "      fill: #174EA6;\n",
              "    }\n",
              "\n",
              "    .colab-df-buttons div {\n",
              "      margin-bottom: 4px;\n",
              "    }\n",
              "\n",
              "    [theme=dark] .colab-df-convert {\n",
              "      background-color: #3B4455;\n",
              "      fill: #D2E3FC;\n",
              "    }\n",
              "\n",
              "    [theme=dark] .colab-df-convert:hover {\n",
              "      background-color: #434B5C;\n",
              "      box-shadow: 0px 1px 3px 1px rgba(0, 0, 0, 0.15);\n",
              "      filter: drop-shadow(0px 1px 2px rgba(0, 0, 0, 0.3));\n",
              "      fill: #FFFFFF;\n",
              "    }\n",
              "  </style>\n",
              "\n",
              "    <script>\n",
              "      const buttonEl =\n",
              "        document.querySelector('#df-923ed08b-42f9-4198-979e-0db44606f9c5 button.colab-df-convert');\n",
              "      buttonEl.style.display =\n",
              "        google.colab.kernel.accessAllowed ? 'block' : 'none';\n",
              "\n",
              "      async function convertToInteractive(key) {\n",
              "        const element = document.querySelector('#df-923ed08b-42f9-4198-979e-0db44606f9c5');\n",
              "        const dataTable =\n",
              "          await google.colab.kernel.invokeFunction('convertToInteractive',\n",
              "                                                    [key], {});\n",
              "        if (!dataTable) return;\n",
              "\n",
              "        const docLinkHtml = 'Like what you see? Visit the ' +\n",
              "          '<a target=\"_blank\" href=https://colab.research.google.com/notebooks/data_table.ipynb>data table notebook</a>'\n",
              "          + ' to learn more about interactive tables.';\n",
              "        element.innerHTML = '';\n",
              "        dataTable['output_type'] = 'display_data';\n",
              "        await google.colab.output.renderOutput(dataTable, element);\n",
              "        const docLink = document.createElement('div');\n",
              "        docLink.innerHTML = docLinkHtml;\n",
              "        element.appendChild(docLink);\n",
              "      }\n",
              "    </script>\n",
              "  </div>\n",
              "\n",
              "\n",
              "<div id=\"df-87174d5e-cc85-433f-b872-97d33484d784\">\n",
              "  <button class=\"colab-df-quickchart\" onclick=\"quickchart('df-87174d5e-cc85-433f-b872-97d33484d784')\"\n",
              "            title=\"Suggest charts.\"\n",
              "            style=\"display:none;\">\n",
              "\n",
              "<svg xmlns=\"http://www.w3.org/2000/svg\" height=\"24px\"viewBox=\"0 0 24 24\"\n",
              "     width=\"24px\">\n",
              "    <g>\n",
              "        <path d=\"M19 3H5c-1.1 0-2 .9-2 2v14c0 1.1.9 2 2 2h14c1.1 0 2-.9 2-2V5c0-1.1-.9-2-2-2zM9 17H7v-7h2v7zm4 0h-2V7h2v10zm4 0h-2v-4h2v4z\"/>\n",
              "    </g>\n",
              "</svg>\n",
              "  </button>\n",
              "\n",
              "<style>\n",
              "  .colab-df-quickchart {\n",
              "      --bg-color: #E8F0FE;\n",
              "      --fill-color: #1967D2;\n",
              "      --hover-bg-color: #E2EBFA;\n",
              "      --hover-fill-color: #174EA6;\n",
              "      --disabled-fill-color: #AAA;\n",
              "      --disabled-bg-color: #DDD;\n",
              "  }\n",
              "\n",
              "  [theme=dark] .colab-df-quickchart {\n",
              "      --bg-color: #3B4455;\n",
              "      --fill-color: #D2E3FC;\n",
              "      --hover-bg-color: #434B5C;\n",
              "      --hover-fill-color: #FFFFFF;\n",
              "      --disabled-bg-color: #3B4455;\n",
              "      --disabled-fill-color: #666;\n",
              "  }\n",
              "\n",
              "  .colab-df-quickchart {\n",
              "    background-color: var(--bg-color);\n",
              "    border: none;\n",
              "    border-radius: 50%;\n",
              "    cursor: pointer;\n",
              "    display: none;\n",
              "    fill: var(--fill-color);\n",
              "    height: 32px;\n",
              "    padding: 0;\n",
              "    width: 32px;\n",
              "  }\n",
              "\n",
              "  .colab-df-quickchart:hover {\n",
              "    background-color: var(--hover-bg-color);\n",
              "    box-shadow: 0 1px 2px rgba(60, 64, 67, 0.3), 0 1px 3px 1px rgba(60, 64, 67, 0.15);\n",
              "    fill: var(--button-hover-fill-color);\n",
              "  }\n",
              "\n",
              "  .colab-df-quickchart-complete:disabled,\n",
              "  .colab-df-quickchart-complete:disabled:hover {\n",
              "    background-color: var(--disabled-bg-color);\n",
              "    fill: var(--disabled-fill-color);\n",
              "    box-shadow: none;\n",
              "  }\n",
              "\n",
              "  .colab-df-spinner {\n",
              "    border: 2px solid var(--fill-color);\n",
              "    border-color: transparent;\n",
              "    border-bottom-color: var(--fill-color);\n",
              "    animation:\n",
              "      spin 1s steps(1) infinite;\n",
              "  }\n",
              "\n",
              "  @keyframes spin {\n",
              "    0% {\n",
              "      border-color: transparent;\n",
              "      border-bottom-color: var(--fill-color);\n",
              "      border-left-color: var(--fill-color);\n",
              "    }\n",
              "    20% {\n",
              "      border-color: transparent;\n",
              "      border-left-color: var(--fill-color);\n",
              "      border-top-color: var(--fill-color);\n",
              "    }\n",
              "    30% {\n",
              "      border-color: transparent;\n",
              "      border-left-color: var(--fill-color);\n",
              "      border-top-color: var(--fill-color);\n",
              "      border-right-color: var(--fill-color);\n",
              "    }\n",
              "    40% {\n",
              "      border-color: transparent;\n",
              "      border-right-color: var(--fill-color);\n",
              "      border-top-color: var(--fill-color);\n",
              "    }\n",
              "    60% {\n",
              "      border-color: transparent;\n",
              "      border-right-color: var(--fill-color);\n",
              "    }\n",
              "    80% {\n",
              "      border-color: transparent;\n",
              "      border-right-color: var(--fill-color);\n",
              "      border-bottom-color: var(--fill-color);\n",
              "    }\n",
              "    90% {\n",
              "      border-color: transparent;\n",
              "      border-bottom-color: var(--fill-color);\n",
              "    }\n",
              "  }\n",
              "</style>\n",
              "\n",
              "  <script>\n",
              "    async function quickchart(key) {\n",
              "      const quickchartButtonEl =\n",
              "        document.querySelector('#' + key + ' button');\n",
              "      quickchartButtonEl.disabled = true;  // To prevent multiple clicks.\n",
              "      quickchartButtonEl.classList.add('colab-df-spinner');\n",
              "      try {\n",
              "        const charts = await google.colab.kernel.invokeFunction(\n",
              "            'suggestCharts', [key], {});\n",
              "      } catch (error) {\n",
              "        console.error('Error during call to suggestCharts:', error);\n",
              "      }\n",
              "      quickchartButtonEl.classList.remove('colab-df-spinner');\n",
              "      quickchartButtonEl.classList.add('colab-df-quickchart-complete');\n",
              "    }\n",
              "    (() => {\n",
              "      let quickchartButtonEl =\n",
              "        document.querySelector('#df-87174d5e-cc85-433f-b872-97d33484d784 button');\n",
              "      quickchartButtonEl.style.display =\n",
              "        google.colab.kernel.accessAllowed ? 'block' : 'none';\n",
              "    })();\n",
              "  </script>\n",
              "</div>\n",
              "    </div>\n",
              "  </div>\n"
            ]
          },
          "metadata": {},
          "execution_count": 3
        }
      ],
      "source": [
        "\n",
        "#ЕСЛИ РАБОТАЕМ В IDE\n",
        "#data = pd.read_csv('data\\_train_sem09__1_.zip')\n",
        "\n",
        "#ЕСЛИ РАБОТАЕМ В GOOGLE COLAB\n",
        "# подключаем google диск, где у нас хранятся данные\n",
        "from google.colab import drive\n",
        "drive.mount('/content/drive')\n",
        "# # берем необходимый нам файл с диска, указав путь\n",
        "data = pd.read_csv('./drive/MyDrive/DS/data/_train_sem09__1_.zip')\n",
        "data.head(2)"
      ]
    },
    {
      "cell_type": "code",
      "execution_count": 4,
      "id": "f2ff79cb",
      "metadata": {
        "colab": {
          "base_uri": "https://localhost:8080/"
        },
        "id": "f2ff79cb",
        "outputId": "326d8548-52e9-4bae-8d15-be05730e06fe"
      },
      "outputs": [
        {
          "output_type": "stream",
          "name": "stdout",
          "text": [
            "Размер таблицы:  (3751, 1777)\n",
            "Наличие пропусков:  0\n"
          ]
        }
      ],
      "source": [
        "print('Размер таблицы: ', data.shape)\n",
        "print('Наличие пропусков: ', data.isnull().sum().sum())"
      ]
    },
    {
      "cell_type": "markdown",
      "id": "0jbyUoPlaAPc",
      "metadata": {
        "id": "0jbyUoPlaAPc"
      },
      "source": [
        "Смотрим на сбалансированность классов:"
      ]
    },
    {
      "cell_type": "code",
      "execution_count": 5,
      "id": "PPo2xmRdaAPf",
      "metadata": {
        "colab": {
          "base_uri": "https://localhost:8080/"
        },
        "id": "PPo2xmRdaAPf",
        "outputId": "442bc14b-49a5-47fa-b265-319d23039660"
      },
      "outputs": [
        {
          "output_type": "execute_result",
          "data": {
            "text/plain": [
              "1    0.542255\n",
              "0    0.457745\n",
              "Name: Activity, dtype: float64"
            ]
          },
          "metadata": {},
          "execution_count": 5
        }
      ],
      "source": [
        "#sns.countplot(data=data, x='Activity')\n",
        "data['Activity'].value_counts(normalize=True)"
      ]
    },
    {
      "cell_type": "markdown",
      "id": "8p3eELnEaAQW",
      "metadata": {
        "id": "8p3eELnEaAQW"
      },
      "source": [
        "Создаем матрицу наблюдений $X$ и вектор ответов $y$\n",
        "\n",
        "Разделим выборку на тренировочную и тестовую в соотношении 80/20. Для сохранения соотношений целевого признака используем параметр stratify (стратифицированное разбиение)."
      ]
    },
    {
      "cell_type": "code",
      "execution_count": 6,
      "id": "_2GncsCbaAQY",
      "metadata": {
        "id": "_2GncsCbaAQY"
      },
      "outputs": [],
      "source": [
        "X, y = data.drop(['Activity'], axis=1), data['Activity']\n",
        "\n",
        "X_train, X_test, y_train, y_test = train_test_split(X, y, stratify=y, random_state = RANDOMSTATE, test_size = 0.2)"
      ]
    },
    {
      "cell_type": "code",
      "execution_count": 18,
      "id": "a4b42baf",
      "metadata": {
        "id": "a4b42baf"
      },
      "outputs": [],
      "source": [
        "# создадим таблицу для обобщения итогов\n",
        "score_table = pd.DataFrame(columns=['name_model','optimization', 'test_f1', 'best_params', 'time'])\n",
        "\n",
        "# Utility function to report\n",
        "def report(name_model, hpo, test_score, total_seconds, best_params=None):\n",
        "    total_seconds_ = f'{int(total_seconds // 60)} минут {int(total_seconds % 60)} секунд'\n",
        "    score_table.loc[ len(score_table.index )] = [name_model, hpo, test_score.round(ROUND_OUT), best_params, total_seconds_]\n",
        "    print(f'Классификатор: {name_model}. Оптимизация гиперпараметров: {hpo}.')\n",
        "    print(f'Метрика {F1}_score на тестовом наборе: {test_score:.{ROUND_OUT}f}')\n",
        "    print('Наилучшие значения гиперпараметров: ', best_params)\n",
        "    print('Время вычисления: ', total_seconds_)\n",
        "\n",
        "def f1_score_evaluation(estimator, params):\n",
        "  estimator.set_params(**params).fit(X_train, y_train)\n",
        "  return f1_score(y_test, estimator.predict(X_test))\n"
      ]
    },
    {
      "cell_type": "markdown",
      "source": [
        "---\n",
        "## 2. Базовая оптимизация"
      ],
      "metadata": {
        "id": "SEgSlZZm6hWn"
      },
      "id": "SEgSlZZm6hWn"
    },
    {
      "cell_type": "markdown",
      "source": [
        "### **LogisticRegression**"
      ],
      "metadata": {
        "id": "7jcBg79LXbbQ"
      },
      "id": "7jcBg79LXbbQ"
    },
    {
      "cell_type": "code",
      "execution_count": 21,
      "id": "0aMCHU3-aAQn",
      "metadata": {
        "colab": {
          "base_uri": "https://localhost:8080/"
        },
        "id": "0aMCHU3-aAQn",
        "outputId": "761f7efe-cc02-4755-fe13-b933c6dcd02f"
      },
      "outputs": [
        {
          "output_type": "stream",
          "name": "stdout",
          "text": [
            "Классификатор: Logistic Regression. Оптимизация гиперпараметров: default.\n",
            "Метрика f1_score на тестовом наборе: 0.7798\n",
            "Наилучшие значения гиперпараметров:  {'penalty': 'l2', 'C': 1.0, 'solver': 'lbfgs'}\n",
            "Время вычисления:  0 минут 0 секунд\n"
          ]
        }
      ],
      "source": [
        "default_params = {'penalty':'l2', 'C':1.0, 'solver':'lbfgs'}\n",
        "\n",
        "hpo_name='default'\n",
        "estimator = clf_log_reg.set_params(**default_params)\n",
        "tic = time()\n",
        "estimator.fit(X_train,y_train)\n",
        "tic_end = time()-tic\n",
        "\n",
        "test_f1 = f1_score(y_test, estimator.predict(X_test))\n",
        "report(estimator.name, hpo_name, test_f1, tic_end, best_params=default_params)"
      ]
    },
    {
      "cell_type": "markdown",
      "source": [
        "### **RandomForestClassifier**"
      ],
      "metadata": {
        "id": "eGAf6FWBZs_G"
      },
      "id": "eGAf6FWBZs_G"
    },
    {
      "cell_type": "code",
      "execution_count": 23,
      "id": "100c437a",
      "metadata": {
        "colab": {
          "base_uri": "https://localhost:8080/"
        },
        "id": "100c437a",
        "outputId": "ce22041f-578e-47b8-cf2c-17e45774e5fa"
      },
      "outputs": [
        {
          "output_type": "stream",
          "name": "stdout",
          "text": [
            "Классификатор: RandomForestClassifier. Оптимизация гиперпараметров: default.\n",
            "Метрика f1_score на тестовом наборе: 0.8048\n",
            "Наилучшие значения гиперпараметров:  {'n_estimators': 100, 'max_depth': None, 'min_samples_leaf': 1}\n",
            "Время вычисления:  0 минут 2 секунд\n"
          ]
        }
      ],
      "source": [
        "default_params={'n_estimators':100, 'max_depth':None, 'min_samples_leaf':1}\n",
        "\n",
        "hpo_name='default'\n",
        "estimator = clf_rand_forest.set_params(**default_params)\n",
        "tic = time()\n",
        "estimator.fit(X_train,y_train)\n",
        "tic_end = time()-tic\n",
        "\n",
        "test_f1 = f1_score(y_test, estimator.predict(X_test))\n",
        "report(estimator.name, hpo_name, test_f1, tic_end, best_params=default_params)"
      ]
    },
    {
      "cell_type": "markdown",
      "id": "Q6PP7ObJp7WG",
      "metadata": {
        "id": "Q6PP7ObJp7WG"
      },
      "source": [
        "## 3. GridSearchCV"
      ]
    },
    {
      "cell_type": "markdown",
      "source": [
        "\n",
        "###  **LogisticRegression**\n",
        "#### Алгоритм оптимизации для LogisticRegression зависит от выбранного типа штрафа:\n",
        "\n",
        "- 'newton-cg' - ['l2', 'none']\n",
        "- 'lbfgs' - ['l2', 'none']\n",
        "- 'liblinear' - ['l1', 'l2']\n",
        "- 'sag' - ['l2', 'none']\n",
        "- 'saga' - [elasticnet', 'l1', 'l2', 'none']"
      ],
      "metadata": {
        "id": "gQAywaEPXXx3"
      },
      "id": "gQAywaEPXXx3"
    },
    {
      "cell_type": "code",
      "execution_count": 24,
      "id": "gLkG_sbSkBcu",
      "metadata": {
        "colab": {
          "base_uri": "https://localhost:8080/"
        },
        "id": "gLkG_sbSkBcu",
        "outputId": "c7967b7e-2fa5-4d06-bb24-0bd4f1ffb240"
      },
      "outputs": [
        {
          "output_type": "stream",
          "name": "stdout",
          "text": [
            "Классификатор: Logistic Regression. Оптимизация гиперпараметров: GridSearchCV.\n",
            "Метрика f1_score на тестовом наборе: 0.7824\n",
            "Наилучшие значения гиперпараметров:  {'C': 0.01, 'penalty': 'l2', 'solver': 'lbfgs'}\n",
            "Время вычисления:  3 минут 53 секунд\n"
          ]
        }
      ],
      "source": [
        "param_grid = [\n",
        "              {'penalty': ['l2', 'none'] , # тип регуляризации\n",
        "              'solver': ['lbfgs', 'sag'], # алгоритм оптимизации\n",
        "               'C': [0.01, 0.1, 0.3, 0.5, 0.7, 0.9, 1]}, # уровень силы регуляризации\n",
        "\n",
        "              # {'penalty': ['l1', 'l2'] ,\n",
        "              # 'solver': ['liblinear', 'saga'],\n",
        "              #  'C': [0.01, 0.1, 0.3, 0.5, 0.7, 0.9, 1]}\n",
        "]\n",
        "\n",
        "hpo_name = 'GridSearchCV'\n",
        "estimator = clf_log_reg\n",
        "hpo_search = GridSearchCV(\n",
        "    estimator=estimator\n",
        "    , param_grid=param_grid\n",
        "    # For int/None inputs, if the estimator is a classifier and y is\n",
        "    # either binary or multiclass, StratifiedKFold is used. In all\n",
        "    # other cases, KFold is used.\n",
        "    , cv=5\n",
        "    , scoring='f1'\n",
        "    , n_jobs = -1\n",
        "    )\n",
        "\n",
        "tic=time()\n",
        "hpo_search.fit(X_train, y_train)\n",
        "tic_end = time()-tic\n",
        "\n",
        "best_params = hpo_search.best_params_\n",
        "# Оба варианта вычисляют F1-меру на тестовом наборе данных\n",
        "# с использованием модели, обученной с лучшими гиперпараметрами.\n",
        "# Разница заключается в том, как это делается - через метод .score\n",
        "# или через явное предсказание metrics.f1_score\n",
        "#print(f\"f1 на тестовом наборе: {hpo_search.score(X_test, y_test):.4f}\")\n",
        "#test_f1 = f1_score(y_test, hpo_search.predict(X_test))\n",
        "test_f1 = f1_score_evaluation(estimator, best_params)\n",
        "report(estimator.name, hpo_name, test_f1, tic_end, best_params)"
      ]
    },
    {
      "cell_type": "code",
      "execution_count": 25,
      "id": "J8Fvuix4j1o5",
      "metadata": {
        "colab": {
          "base_uri": "https://localhost:8080/",
          "height": 692
        },
        "id": "J8Fvuix4j1o5",
        "outputId": "d4a8b4be-c89a-400a-96b1-21824ad347ad"
      },
      "outputs": [
        {
          "output_type": "display_data",
          "data": {
            "text/plain": [
              "<Figure size 1200x800 with 2 Axes>"
            ],
            "image/png": "[encoded data removed]"
          },
          "metadata": {}
        }
      ],
      "source": [
        "# отрисуем, как менялась метрика f1 при различных гиперпараметрах\n",
        "visual = pd.pivot_table(pd.DataFrame(hpo_search.cv_results_)\n",
        "                        , values='mean_test_score', index='param_C'\n",
        "                        # , columns='param_penalty'\n",
        "                        , columns='param_solver'\n",
        "                      )\n",
        "sns.heatmap(visual)\n",
        "plt.title('Тепловая карта зависимости метрики f1 от solver и С') # подпись графика\n",
        "sns.set(rc={'figure.figsize':(12, 8)}) #задаем размер графика"
      ]
    },
    {
      "cell_type": "markdown",
      "source": [
        "### **RandomForestClassifier**"
      ],
      "metadata": {
        "id": "D5q5WF4GZyzP"
      },
      "id": "D5q5WF4GZyzP"
    },
    {
      "cell_type": "code",
      "execution_count": 26,
      "id": "d7345ff3",
      "metadata": {
        "colab": {
          "base_uri": "https://localhost:8080/"
        },
        "id": "d7345ff3",
        "outputId": "515a2e12-a22e-49c5-9909-1020f0d04709"
      },
      "outputs": [
        {
          "output_type": "stream",
          "name": "stdout",
          "text": [
            "Классификатор: RandomForestClassifier. Оптимизация гиперпараметров: GridSearchCV.\n",
            "Метрика f1_score на тестовом наборе: 0.8092\n",
            "Наилучшие значения гиперпараметров:  {'max_depth': 17, 'min_samples_leaf': 1, 'n_estimators': 170}\n",
            "Время вычисления:  3 минут 28 секунд\n"
          ]
        }
      ],
      "source": [
        "param_grid = {'n_estimators': list(range(80, 200, 30))\n",
        "              , 'min_samples_leaf': list(np.linspace(1, 10, 2, dtype=int)) #[5]\n",
        "              , 'max_depth': list(np.linspace(10, 40, 5, dtype=int))\n",
        "              }\n",
        "\n",
        "hpo_name = 'GridSearchCV'\n",
        "estimator = clf_rand_forest\n",
        "hpo_search = GridSearchCV(\n",
        "    estimator=estimator\n",
        "    , param_grid=param_grid\n",
        "    , cv=5\n",
        "    , scoring='f1'\n",
        "    , n_jobs = -1\n",
        "    )\n",
        "\n",
        "tic=time()\n",
        "hpo_search.fit(X_train, y_train)\n",
        "tic_end = time()-tic\n",
        "\n",
        "best_params = hpo_search.best_params_\n",
        "test_f1 = f1_score_evaluation(estimator, best_params)\n",
        "report(estimator.name, hpo_name, test_f1, tic_end, best_params)"
      ]
    },
    {
      "cell_type": "markdown",
      "source": [
        "---\n",
        "## HalvingGridSearchCV"
      ],
      "metadata": {
        "id": "Dg2IwNu2dwLc"
      },
      "id": "Dg2IwNu2dwLc"
    },
    {
      "cell_type": "markdown",
      "source": [
        "### LogisticRegression"
      ],
      "metadata": {
        "id": "hnRcGlFsgZzB"
      },
      "id": "hnRcGlFsgZzB"
    },
    {
      "cell_type": "code",
      "source": [
        "from sklearn.experimental import enable_halving_search_cv  # noqa\n",
        "from sklearn.model_selection import HalvingGridSearchCV\n",
        "\n",
        "param_grid = [\n",
        "              { 'penalty': ['l2', 'none']\n",
        "               , 'solver': ['lbfgs', 'sag']\n",
        "               , 'C': [0.01, 0.1, 0.3, 0.5, 0.7, 0.9, 1]\n",
        "              },\n",
        "]\n",
        "\n",
        "hpo_name = 'HalvingGridSearchCV'\n",
        "estimator = clf_log_reg\n",
        "hpo_search =HalvingGridSearchCV(\n",
        "    estimator=estimator\n",
        "    , param_grid=param_grid\n",
        "    , cv=5\n",
        "    , scoring='f1'\n",
        "    , n_jobs = -1\n",
        "    , factor=2\n",
        "    )\n",
        "\n",
        "tic=time()\n",
        "hpo_search.fit(X_train, y_train)\n",
        "tic_end = time()-tic\n",
        "\n",
        "best_params = hpo_search.best_params_\n",
        "test_f1 = f1_score_evaluation(estimator, best_params)\n",
        "report(estimator.name, hpo_name, test_f1, tic_end, best_params)"
      ],
      "metadata": {
        "colab": {
          "base_uri": "https://localhost:8080/"
        },
        "id": "7YtUWX6sgfz5",
        "outputId": "5b2fbc13-6965-424d-8296-35ecc60c6956"
      },
      "id": "7YtUWX6sgfz5",
      "execution_count": 27,
      "outputs": [
        {
          "output_type": "stream",
          "name": "stdout",
          "text": [
            "Классификатор: Logistic Regression. Оптимизация гиперпараметров: HalvingGridSearchCV.\n",
            "Метрика f1_score на тестовом наборе: 0.7857\n",
            "Наилучшие значения гиперпараметров:  {'C': 0.1, 'penalty': 'l2', 'solver': 'sag'}\n",
            "Время вычисления:  1 минут 21 секунд\n"
          ]
        }
      ]
    },
    {
      "cell_type": "markdown",
      "source": [
        "### RandomForestClassifier"
      ],
      "metadata": {
        "id": "T2xEGPMVgICl"
      },
      "id": "T2xEGPMVgICl"
    },
    {
      "cell_type": "code",
      "source": [
        "param_grid = {'n_estimators': list(range(80, 200, 30))\n",
        "              , 'min_samples_leaf': list(np.linspace(1, 10, 2, dtype=int)) #[5]\n",
        "              , 'max_depth': list(np.linspace(10, 40, 5, dtype=int))\n",
        "              }\n",
        "\n",
        "hpo_name = 'HalvingGridSearchCV'\n",
        "estimator = clf_rand_forest\n",
        "hpo_search = HalvingGridSearchCV(estimator=estimator,\n",
        "                                 param_grid=param_grid,\n",
        "                                 cv=5,\n",
        "                                 scoring='f1',\n",
        "                                 n_jobs = -1,\n",
        "                                 factor=2\n",
        ")\n",
        "\n",
        "tic=time()\n",
        "hpo_search.fit(X_train, y_train)\n",
        "tic_end = time()-tic\n",
        "\n",
        "best_params = hpo_search.best_params_\n",
        "test_f1 = f1_score_evaluation(estimator, best_params)\n",
        "report(estimator.name, hpo_name, test_f1, tic_end, best_params)"
      ],
      "metadata": {
        "colab": {
          "base_uri": "https://localhost:8080/"
        },
        "id": "seDy_sn3HMh2",
        "outputId": "66ca9b5b-2626-49ec-e639-2e57b96ee2d4"
      },
      "id": "seDy_sn3HMh2",
      "execution_count": 29,
      "outputs": [
        {
          "output_type": "stream",
          "name": "stdout",
          "text": [
            "Классификатор: RandomForestClassifier. Оптимизация гиперпараметров: HalvingGridSearchCV.\n",
            "Метрика f1_score на тестовом наборе: 0.8132\n",
            "Наилучшие значения гиперпараметров:  {'max_depth': 32, 'min_samples_leaf': 1, 'n_estimators': 140}\n",
            "Время вычисления:  1 минут 47 секунд\n"
          ]
        }
      ]
    },
    {
      "cell_type": "markdown",
      "id": "QOlWE5zSptj0",
      "metadata": {
        "id": "QOlWE5zSptj0"
      },
      "source": [
        "---\n",
        "## 4. RandomizedSearchCV"
      ]
    },
    {
      "cell_type": "markdown",
      "source": [
        "### **LogisticRegression**"
      ],
      "metadata": {
        "id": "14F6VX4bXMmS"
      },
      "id": "14F6VX4bXMmS"
    },
    {
      "cell_type": "code",
      "execution_count": 30,
      "id": "4yjUJJKntcX7",
      "metadata": {
        "colab": {
          "base_uri": "https://localhost:8080/"
        },
        "id": "4yjUJJKntcX7",
        "outputId": "f18b5568-dbd4-49e0-9875-0ae977fecac0"
      },
      "outputs": [
        {
          "output_type": "stream",
          "name": "stdout",
          "text": [
            "Классификатор: Logistic Regression. Оптимизация гиперпараметров: RandomizedSearchCV.\n",
            "Метрика f1_score на тестовом наборе: 0.7824\n",
            "Наилучшие значения гиперпараметров:  {'solver': 'lbfgs', 'penalty': 'l2', 'C': 0.01}\n",
            "Время вычисления:  5 минут 34 секунд\n"
          ]
        }
      ],
      "source": [
        "param_distributions = {'penalty': ['l2', 'none'] ,\n",
        "                        'solver': ['lbfgs', 'sag'],\n",
        "                        'C': list(np.linspace(0.01, 1, 10, dtype=float))\n",
        "                      }\n",
        "\n",
        "hpo_name = 'RandomizedSearchCV'\n",
        "estimator = clf_log_reg\n",
        "hpo_search = RandomizedSearchCV(\n",
        "    estimator=estimator\n",
        "    , param_distributions=param_distributions\n",
        "    , cv=5\n",
        "    , scoring='f1'\n",
        "    , n_iter = MAX_ITER #10\n",
        "    , n_jobs = -1\n",
        ")\n",
        "\n",
        "tic=time()\n",
        "hpo_search.fit(X_train, y_train)\n",
        "tic_end = time()-tic\n",
        "\n",
        "best_params = hpo_search.best_params_\n",
        "test_f1 = f1_score_evaluation(estimator, best_params)\n",
        "report(estimator.name, hpo_name, test_f1, tic_end, best_params)"
      ]
    },
    {
      "cell_type": "markdown",
      "source": [
        "### **RandomForestClassifier**"
      ],
      "metadata": {
        "id": "l9XbhlRPZ3KB"
      },
      "id": "l9XbhlRPZ3KB"
    },
    {
      "cell_type": "code",
      "execution_count": 32,
      "id": "TBSxQJ6JzS1f",
      "metadata": {
        "colab": {
          "base_uri": "https://localhost:8080/"
        },
        "id": "TBSxQJ6JzS1f",
        "outputId": "b240555b-960d-482c-f9a4-56d76e142444"
      },
      "outputs": [
        {
          "output_type": "stream",
          "name": "stdout",
          "text": [
            "Классификатор: RandomForestClassifier. Оптимизация гиперпараметров: RandomizedSearchCV.\n",
            "Метрика f1_score на тестовом наборе: 0.7908\n",
            "Наилучшие значения гиперпараметров:  {'n_estimators': 159, 'min_samples_leaf': 2, 'max_depth': 10}\n",
            "Время вычисления:  3 минут 55 секунд\n"
          ]
        }
      ],
      "source": [
        "param_distributions = {'n_estimators': list(range(80, 200, 1))\n",
        "                       , 'min_samples_leaf': list(np.linspace(2, 10, 2, dtype=int)) #[5]\n",
        "                       , 'max_depth': list(np.linspace(10, 40, 1, dtype=int))\n",
        "                      }\n",
        "\n",
        "hpo_name = 'RandomizedSearchCV'\n",
        "estimator = clf_rand_forest\n",
        "hpo_search = RandomizedSearchCV(\n",
        "    estimator=estimator\n",
        "    , param_distributions=param_distributions\n",
        "    , cv=5\n",
        "    , scoring='f1'\n",
        "    , n_iter = MAX_ITER #10\n",
        "    , n_jobs = -1\n",
        ")\n",
        "\n",
        "tic=time()\n",
        "hpo_search.fit(X_train, y_train)\n",
        "tic_end = time()-tic\n",
        "\n",
        "best_params = hpo_search.best_params_\n",
        "test_f1 = f1_score_evaluation(estimator, best_params)\n",
        "report(estimator.name, hpo_name, test_f1, tic_end, best_params)"
      ]
    },
    {
      "cell_type": "markdown",
      "id": "Kmo2b6kPChhN",
      "metadata": {
        "id": "Kmo2b6kPChhN"
      },
      "source": [
        "---\n",
        "## 5. Hyperopt"
      ]
    },
    {
      "cell_type": "code",
      "execution_count": 33,
      "id": "Ae44foDuCzke",
      "metadata": {
        "colab": {
          "base_uri": "https://localhost:8080/"
        },
        "id": "Ae44foDuCzke",
        "outputId": "269601f7-f13c-425c-d6ca-bdeca820d8a6"
      },
      "outputs": [
        {
          "output_type": "stream",
          "name": "stdout",
          "text": [
            "Версия Hyperopt :  0.2.7\n"
          ]
        }
      ],
      "source": [
        "#делаем импорт и выведем версию библиотеки\n",
        "\n",
        "import hyperopt\n",
        "from hyperopt import fmin, tpe, hp, STATUS_OK, Trials\n",
        "# fmin - основная функция, она будет минимизировать наш функционал\n",
        "# tpe - алгоритм оптимизации\n",
        "# hp - включает набор методов для объявления пространства поиска гиперпараметров\n",
        "# trails - используется для логирования результатов\n",
        "\n",
        "print(\"Версия Hyperopt : \", hyperopt.__version__)"
      ]
    },
    {
      "cell_type": "markdown",
      "source": [
        "### **LogisticRegression**"
      ],
      "metadata": {
        "id": "S-UtZHmhCtkI"
      },
      "id": "S-UtZHmhCtkI"
    },
    {
      "cell_type": "code",
      "source": [
        "def hyperopt_lr(params):\n",
        "  estimator = clf_log_reg\n",
        "  estimator.set_params(**params)\n",
        "\n",
        "  mean_f1 = cross_val_score(estimator, X_train, y_train, cv=5, scoring=\"f1\", n_jobs = -1).mean()\n",
        "\n",
        "  # Возвращаем минус среднюю F1-меру, так как Hyperopt максимизирует функцию, а мы хотим минимизировать метрику\n",
        "  return {'loss': -mean_f1, 'status': STATUS_OK}\n",
        "  # score = metrics.f1_score(y_train, estimator.predict(X_train))\n",
        "  # return -1.0 * score\n",
        "\n",
        "#----------------------------------------------#\n",
        "trials = Trials() # используется для логирования результатов\n",
        "\n",
        "space = {\n",
        "          'penalty': hp.choice('penalty', ['l2', 'none']),\n",
        "          'solver': hp.choice('solver', ['lbfgs', 'sag']),\n",
        "          'C': hp.uniform('C', 0.01, 1.0)\n",
        "}\n",
        "hpo_name = 'HyperOpt (CV)'\n",
        "\n",
        "# начинаем подбор гиперпараметров\n",
        "tic = time()\n",
        "best = fmin(fn=hyperopt_lr, space=space, algo=tpe.suggest, max_evals=MAX_ITER, trials=trials,\n",
        "                rstate=np.random.default_rng(RANDOMSTATE))\n",
        "tic_end = time()-tic\n",
        "\n",
        "best_params = hyperopt.space_eval(space, best)\n",
        "estimator = clf_log_reg\n",
        "test_f1 = f1_score_evaluation(estimator, best_params)\n",
        "report(estimator.name, hpo_name, test_f1, tic_end, best_params)"
      ],
      "metadata": {
        "id": "bCNobAUubD_b",
        "colab": {
          "base_uri": "https://localhost:8080/"
        },
        "outputId": "fdc63ecd-3f95-4da1-ac63-88826c866165"
      },
      "id": "bCNobAUubD_b",
      "execution_count": 35,
      "outputs": [
        {
          "output_type": "stream",
          "name": "stdout",
          "text": [
            "100%|██████████| 50/50 [05:02<00:00,  6.06s/trial, best loss: -0.7938189329497317]\n",
            "Классификатор: Logistic Regression. Оптимизация гиперпараметров: HyperOpt (CV).\n",
            "Метрика f1_score на тестовом наборе: 0.7787\n",
            "Наилучшие значения гиперпараметров:  {'C': 0.017331323696411022, 'penalty': 'l2', 'solver': 'lbfgs'}\n",
            "Время вычисления:  5 минут 2 секунд\n"
          ]
        }
      ]
    },
    {
      "cell_type": "markdown",
      "source": [
        "### **RandomForestClassifier**"
      ],
      "metadata": {
        "id": "yfr2gnlBClZO"
      },
      "id": "yfr2gnlBClZO"
    },
    {
      "cell_type": "code",
      "execution_count": 36,
      "id": "t3JS7HXU8pd2",
      "metadata": {
        "id": "t3JS7HXU8pd2",
        "colab": {
          "base_uri": "https://localhost:8080/"
        },
        "outputId": "f2e525c3-f771-42e6-a8d2-4a5d02e47c5c"
      },
      "outputs": [
        {
          "output_type": "stream",
          "name": "stdout",
          "text": [
            "100%|██████████| 50/50 [04:32<00:00,  5.45s/trial, best loss: -0.8201412242765471]\n",
            "Классификатор: RandomForestClassifier. Оптимизация гиперпараметров: HyperOpt (CV).\n",
            "Метрика f1_score на тестовом наборе: 0.8093\n",
            "Наилучшие значения гиперпараметров:  {'max_depth': 15, 'min_samples_leaf': 2, 'n_estimators': 119}\n",
            "Время вычисления:  4 минут 32 секунд\n"
          ]
        }
      ],
      "source": [
        "estimator = clf_rand_forest\n",
        "\n",
        "def hyperopt_rf(params):\n",
        "  params = {key: int(value) for key, value in params.items()}\n",
        "\n",
        "  estimator.set_params(**params)\n",
        "\n",
        "  # Выполняем кросс-валидацию и используем F1-меру как метрику для оптимизации\n",
        "  mean_f1 = cross_val_score(estimator, X_train, y_train, cv=5, scoring=\"f1\", n_jobs=-1).mean()\n",
        "\n",
        "  # Возвращаем минус среднюю F1-меру, так как Hyperopt максимизирует функцию, а мы хотим минимизировать метрику\n",
        "  return {'loss': -mean_f1, 'status': STATUS_OK}\n",
        "\n",
        "#--------------------------------------#\n",
        "trials = Trials() # используется для логирования результатов\n",
        "\n",
        "space={'n_estimators': hp.quniform('n_estimators', 80, 200, 1)\n",
        "        , 'max_depth' : hp.quniform('max_depth', 1, 40, 1)\n",
        "        , 'min_samples_leaf': hp.quniform('min_samples_leaf', 1, 10, 1)\n",
        "      }\n",
        "\n",
        "hpo_name = 'HyperOpt (CV)'\n",
        "\n",
        "# начинаем подбор гиперпараметров\n",
        "tic = time()\n",
        "best = fmin(fn=hyperopt_rf, space=space, algo=tpe.suggest, max_evals=MAX_ITER, trials=trials,\n",
        "                rstate=np.random.default_rng(RANDOMSTATE))\n",
        "tic_end = time()-tic\n",
        "\n",
        "best_params = hyperopt.space_eval(space, best)\n",
        "best_params = {key: int(value) for key, value in best_params.items()}\n",
        "test_f1 = f1_score_evaluation(estimator, best_params)\n",
        "report(estimator.name, hpo_name, test_f1, tic_end, best_params)"
      ]
    },
    {
      "cell_type": "markdown",
      "id": "b8734d51-d5d5-4424-b8a3-b341dde985b5",
      "metadata": {
        "id": "b8734d51-d5d5-4424-b8a3-b341dde985b5"
      },
      "source": [
        "---\n",
        "## 6. Optuna"
      ]
    },
    {
      "cell_type": "code",
      "source": [
        "!pip install optuna"
      ],
      "metadata": {
        "id": "mmK5faIbIX8s"
      },
      "id": "mmK5faIbIX8s",
      "execution_count": null,
      "outputs": []
    },
    {
      "cell_type": "code",
      "execution_count": 38,
      "id": "CQL0pyNGqQgR",
      "metadata": {
        "colab": {
          "base_uri": "https://localhost:8080/"
        },
        "id": "CQL0pyNGqQgR",
        "outputId": "205b1fea-df97-4d15-ee60-7615fa021aec"
      },
      "outputs": [
        {
          "output_type": "stream",
          "name": "stdout",
          "text": [
            "Версия Optuna:  3.3.0\n"
          ]
        }
      ],
      "source": [
        "import optuna\n",
        "\n",
        "print(\"Версия Optuna: \", optuna.__version__)"
      ]
    },
    {
      "cell_type": "code",
      "execution_count": null,
      "id": "aSF_70FWu3T6",
      "metadata": {
        "id": "aSF_70FWu3T6"
      },
      "outputs": [],
      "source": [
        "\n"
      ]
    },
    {
      "cell_type": "markdown",
      "source": [
        "### **LogisticRegression**"
      ],
      "metadata": {
        "id": "TCLIowN7Qe1-"
      },
      "id": "TCLIowN7Qe1-"
    },
    {
      "cell_type": "code",
      "source": [
        "hpo_name = 'Optuna (CV)'\n",
        "\n",
        "def optuna_lr(trial):\n",
        "  # задаем пространства поиска гиперпараметров\n",
        "  params = {'penalty': trial.suggest_categorical('penalty', ['l2', 'none'])\n",
        "            , 'solver': trial.suggest_categorical('solver', ['lbfgs', 'sag'])\n",
        "            , 'C': trial.suggest_float('C', 0.01, 1.0, log=True)\n",
        "          }\n",
        "\n",
        "  # создаем модель, обучаем на кросс-валидации и получаем оценку f1 на обучающем наборе\n",
        "  estimator = clf_log_reg\n",
        "  estimator.set_params(**params)\n",
        "  mean_f1 = cross_val_score(estimator, X_train, y_train, cv=5, scoring=\"f1\", n_jobs=-1).mean()\n",
        "  return mean_f1\n",
        "\n",
        "# cоздаем объект исследования\n",
        "study_lr = optuna.create_study(study_name=name_lr, direction=\"maximize\")\n",
        "\n",
        "# ищем лучшую комбинацию гиперпараметров n_trials раз\n",
        "#optuna.logging.set_verbosity(optuna.logging.WARNING)\n",
        "tic = time()\n",
        "study_lr.optimize(optuna_lr, n_trials=MAX_ITER)\n",
        "tic_end = time()-tic\n",
        "\n",
        "best_params = study_lr.best_params\n",
        "estimator = clf_log_reg\n",
        "test_f1 = f1_score_evaluation(estimator, best_params)\n",
        "report(estimator.name, hpo_name, test_f1, tic_end, best_params)\n"
      ],
      "metadata": {
        "id": "kUEpHsGdQ5vH",
        "colab": {
          "base_uri": "https://localhost:8080/"
        },
        "outputId": "3e78c401-0548-46bb-e454-403138f640c2"
      },
      "id": "kUEpHsGdQ5vH",
      "execution_count": 61,
      "outputs": [
        {
          "output_type": "stream",
          "name": "stderr",
          "text": [
            "[I 2023-09-13 19:53:36,518] A new study created in memory with name: LogisticRegression\n",
            "[I 2023-09-13 19:53:53,391] Trial 0 finished with value: 0.7787199835970331 and parameters: {'penalty': 'l2', 'solver': 'sag', 'C': 0.2751546966828578}. Best is trial 0 with value: 0.7787199835970331.\n",
            "[I 2023-09-13 19:53:54,667] Trial 1 finished with value: 0.7912899682298065 and parameters: {'penalty': 'l2', 'solver': 'lbfgs', 'C': 0.013867030376501104}. Best is trial 1 with value: 0.7912899682298065.\n",
            "[I 2023-09-13 19:53:56,667] Trial 2 finished with value: 0.7513486031715962 and parameters: {'penalty': 'none', 'solver': 'lbfgs', 'C': 0.07564090812920506}. Best is trial 1 with value: 0.7912899682298065.\n",
            "[I 2023-09-13 19:53:58,783] Trial 3 finished with value: 0.7513486031715962 and parameters: {'penalty': 'none', 'solver': 'lbfgs', 'C': 0.03935850516808531}. Best is trial 1 with value: 0.7912899682298065.\n",
            "[I 2023-09-13 19:54:00,668] Trial 4 finished with value: 0.7513486031715962 and parameters: {'penalty': 'none', 'solver': 'lbfgs', 'C': 0.8407065121339934}. Best is trial 1 with value: 0.7912899682298065.\n",
            "[I 2023-09-13 19:54:16,461] Trial 5 finished with value: 0.7781553942231907 and parameters: {'penalty': 'l2', 'solver': 'sag', 'C': 0.4176058717109879}. Best is trial 1 with value: 0.7912899682298065.\n",
            "[I 2023-09-13 19:54:18,288] Trial 6 finished with value: 0.789840512157675 and parameters: {'penalty': 'l2', 'solver': 'lbfgs', 'C': 0.05242575057468876}. Best is trial 1 with value: 0.7912899682298065.\n",
            "[I 2023-09-13 19:54:20,104] Trial 7 finished with value: 0.7513486031715962 and parameters: {'penalty': 'none', 'solver': 'lbfgs', 'C': 0.4102245439648123}. Best is trial 1 with value: 0.7912899682298065.\n",
            "[I 2023-09-13 19:54:21,919] Trial 8 finished with value: 0.7868475996072775 and parameters: {'penalty': 'l2', 'solver': 'lbfgs', 'C': 0.07541771411757142}. Best is trial 1 with value: 0.7912899682298065.\n",
            "[I 2023-09-13 19:54:23,799] Trial 9 finished with value: 0.7795678908352663 and parameters: {'penalty': 'l2', 'solver': 'lbfgs', 'C': 0.2505444340969125}. Best is trial 1 with value: 0.7912899682298065.\n",
            "[I 2023-09-13 19:54:40,049] Trial 10 finished with value: 0.789024448652388 and parameters: {'penalty': 'l2', 'solver': 'sag', 'C': 0.012307888971821276}. Best is trial 1 with value: 0.7912899682298065.\n",
            "[I 2023-09-13 19:54:41,305] Trial 11 finished with value: 0.7878755839960626 and parameters: {'penalty': 'l2', 'solver': 'lbfgs', 'C': 0.010099010667291311}. Best is trial 1 with value: 0.7912899682298065.\n",
            "[I 2023-09-13 19:54:42,875] Trial 12 finished with value: 0.793221463346276 and parameters: {'penalty': 'l2', 'solver': 'lbfgs', 'C': 0.024595508463446096}. Best is trial 12 with value: 0.793221463346276.\n",
            "[I 2023-09-13 19:54:44,424] Trial 13 finished with value: 0.7929751204445659 and parameters: {'penalty': 'l2', 'solver': 'lbfgs', 'C': 0.023806485319515812}. Best is trial 12 with value: 0.793221463346276.\n",
            "[I 2023-09-13 19:55:00,075] Trial 14 finished with value: 0.7930396405791124 and parameters: {'penalty': 'l2', 'solver': 'sag', 'C': 0.028651756530275903}. Best is trial 12 with value: 0.793221463346276.\n",
            "[I 2023-09-13 19:55:15,775] Trial 15 finished with value: 0.7925448524633019 and parameters: {'penalty': 'l2', 'solver': 'sag', 'C': 0.034041969861619795}. Best is trial 12 with value: 0.793221463346276.\n",
            "[I 2023-09-13 19:55:32,325] Trial 16 finished with value: 0.7939686837950594 and parameters: {'penalty': 'l2', 'solver': 'sag', 'C': 0.02053117135627434}. Best is trial 16 with value: 0.7939686837950594.\n",
            "[I 2023-09-13 19:55:48,340] Trial 17 finished with value: 0.7944479793983837 and parameters: {'penalty': 'l2', 'solver': 'sag', 'C': 0.016980718107302905}. Best is trial 17 with value: 0.7944479793983837.\n",
            "[I 2023-09-13 19:56:04,084] Trial 18 finished with value: 0.7720227869170968 and parameters: {'penalty': 'none', 'solver': 'sag', 'C': 0.01779277029510103}. Best is trial 17 with value: 0.7944479793983837.\n",
            "[I 2023-09-13 19:56:19,854] Trial 19 finished with value: 0.7937241858879405 and parameters: {'penalty': 'l2', 'solver': 'sag', 'C': 0.016665557724083808}. Best is trial 17 with value: 0.7944479793983837.\n",
            "[I 2023-09-13 19:56:35,513] Trial 20 finished with value: 0.791114516287102 and parameters: {'penalty': 'l2', 'solver': 'sag', 'C': 0.04620197007627918}. Best is trial 17 with value: 0.7944479793983837.\n",
            "[I 2023-09-13 19:56:51,181] Trial 21 finished with value: 0.7944479793983837 and parameters: {'penalty': 'l2', 'solver': 'sag', 'C': 0.017157084297955098}. Best is trial 17 with value: 0.7944479793983837.\n",
            "[I 2023-09-13 19:57:05,578] Trial 22 finished with value: 0.7884557099901776 and parameters: {'penalty': 'l2', 'solver': 'sag', 'C': 0.01030540874965596}. Best is trial 17 with value: 0.7944479793983837.\n",
            "[I 2023-09-13 19:57:22,200] Trial 23 finished with value: 0.7950220534884365 and parameters: {'penalty': 'l2', 'solver': 'sag', 'C': 0.019015223533847273}. Best is trial 23 with value: 0.7950220534884365.\n",
            "[I 2023-09-13 19:57:37,905] Trial 24 finished with value: 0.7946748765583163 and parameters: {'penalty': 'l2', 'solver': 'sag', 'C': 0.017307644095144938}. Best is trial 23 with value: 0.7950220534884365.\n",
            "[I 2023-09-13 19:57:53,671] Trial 25 finished with value: 0.7924234909420482 and parameters: {'penalty': 'l2', 'solver': 'sag', 'C': 0.031978252315225913}. Best is trial 23 with value: 0.7950220534884365.\n",
            "[I 2023-09-13 19:58:09,369] Trial 26 finished with value: 0.7720227869170968 and parameters: {'penalty': 'none', 'solver': 'sag', 'C': 0.014464106707147841}. Best is trial 23 with value: 0.7950220534884365.\n",
            "[I 2023-09-13 19:58:25,085] Trial 27 finished with value: 0.7925176503591785 and parameters: {'penalty': 'l2', 'solver': 'sag', 'C': 0.02373432683025426}. Best is trial 23 with value: 0.7950220534884365.\n",
            "[I 2023-09-13 19:58:41,989] Trial 28 finished with value: 0.7945500926717506 and parameters: {'penalty': 'l2', 'solver': 'sag', 'C': 0.019386677683781252}. Best is trial 23 with value: 0.7950220534884365.\n",
            "[I 2023-09-13 19:58:57,763] Trial 29 finished with value: 0.7914639670568088 and parameters: {'penalty': 'l2', 'solver': 'sag', 'C': 0.04452327712335247}. Best is trial 23 with value: 0.7950220534884365.\n",
            "[I 2023-09-13 19:59:13,473] Trial 30 finished with value: 0.7937427491367932 and parameters: {'penalty': 'l2', 'solver': 'sag', 'C': 0.029313240032774152}. Best is trial 23 with value: 0.7950220534884365.\n",
            "[I 2023-09-13 19:59:29,195] Trial 31 finished with value: 0.7943265253161056 and parameters: {'penalty': 'l2', 'solver': 'sag', 'C': 0.02007509963170238}. Best is trial 23 with value: 0.7950220534884365.\n",
            "[I 2023-09-13 19:59:44,863] Trial 32 finished with value: 0.7916496775613725 and parameters: {'penalty': 'l2', 'solver': 'sag', 'C': 0.01382490326301163}. Best is trial 23 with value: 0.7950220534884365.\n",
            "[I 2023-09-13 20:00:00,737] Trial 33 finished with value: 0.7908206845640949 and parameters: {'penalty': 'l2', 'solver': 'sag', 'C': 0.013324274825048726}. Best is trial 23 with value: 0.7950220534884365.\n",
            "[I 2023-09-13 20:00:17,678] Trial 34 finished with value: 0.7950220534884365 and parameters: {'penalty': 'l2', 'solver': 'sag', 'C': 0.01892914040007114}. Best is trial 23 with value: 0.7950220534884365.\n",
            "[I 2023-09-13 20:00:33,398] Trial 35 finished with value: 0.7720227869170968 and parameters: {'penalty': 'none', 'solver': 'sag', 'C': 0.03722905073568782}. Best is trial 23 with value: 0.7950220534884365.\n",
            "[I 2023-09-13 20:00:49,222] Trial 36 finished with value: 0.7926460747302461 and parameters: {'penalty': 'l2', 'solver': 'sag', 'C': 0.022563939502463333}. Best is trial 23 with value: 0.7950220534884365.\n",
            "[I 2023-09-13 20:01:05,121] Trial 37 finished with value: 0.7720227869170968 and parameters: {'penalty': 'none', 'solver': 'sag', 'C': 0.06514246297181037}. Best is trial 23 with value: 0.7950220534884365.\n",
            "[I 2023-09-13 20:01:20,858] Trial 38 finished with value: 0.7892702363833658 and parameters: {'penalty': 'l2', 'solver': 'sag', 'C': 0.057251508279970754}. Best is trial 23 with value: 0.7950220534884365.\n",
            "[I 2023-09-13 20:01:37,453] Trial 39 finished with value: 0.792414466718664 and parameters: {'penalty': 'l2', 'solver': 'sag', 'C': 0.035935206473729775}. Best is trial 23 with value: 0.7950220534884365.\n",
            "[I 2023-09-13 20:01:53,584] Trial 40 finished with value: 0.7720227869170968 and parameters: {'penalty': 'none', 'solver': 'sag', 'C': 0.11012329673470594}. Best is trial 23 with value: 0.7950220534884365.\n",
            "[I 2023-09-13 20:02:09,342] Trial 41 finished with value: 0.7938390877127615 and parameters: {'penalty': 'l2', 'solver': 'sag', 'C': 0.016472032947458845}. Best is trial 23 with value: 0.7950220534884365.\n",
            "[I 2023-09-13 20:02:25,050] Trial 42 finished with value: 0.7905775247914388 and parameters: {'penalty': 'l2', 'solver': 'sag', 'C': 0.012766845258832704}. Best is trial 23 with value: 0.7950220534884365.\n",
            "[I 2023-09-13 20:02:40,888] Trial 43 finished with value: 0.7947898315875089 and parameters: {'penalty': 'l2', 'solver': 'sag', 'C': 0.018498398596648476}. Best is trial 23 with value: 0.7950220534884365.\n",
            "[I 2023-09-13 20:02:56,818] Trial 44 finished with value: 0.7931293984389356 and parameters: {'penalty': 'l2', 'solver': 'sag', 'C': 0.02615272945407479}. Best is trial 23 with value: 0.7950220534884365.\n",
            "[I 2023-09-13 20:03:13,852] Trial 45 finished with value: 0.7939686837950594 and parameters: {'penalty': 'l2', 'solver': 'sag', 'C': 0.020316843352685982}. Best is trial 23 with value: 0.7950220534884365.\n",
            "[I 2023-09-13 20:03:15,220] Trial 46 finished with value: 0.7883246966790483 and parameters: {'penalty': 'l2', 'solver': 'lbfgs', 'C': 0.011104957767281825}. Best is trial 23 with value: 0.7950220534884365.\n",
            "[I 2023-09-13 20:03:29,095] Trial 47 finished with value: 0.7872758838461376 and parameters: {'penalty': 'l2', 'solver': 'sag', 'C': 0.010008600721180053}. Best is trial 23 with value: 0.7950220534884365.\n",
            "[I 2023-09-13 20:03:44,822] Trial 48 finished with value: 0.7931094714390834 and parameters: {'penalty': 'l2', 'solver': 'sag', 'C': 0.025968644699667157}. Best is trial 23 with value: 0.7950220534884365.\n",
            "[I 2023-09-13 20:03:46,090] Trial 49 finished with value: 0.7912899682298065 and parameters: {'penalty': 'l2', 'solver': 'lbfgs', 'C': 0.01379880084857296}. Best is trial 23 with value: 0.7950220534884365.\n"
          ]
        },
        {
          "output_type": "stream",
          "name": "stdout",
          "text": [
            "Классификатор: Logistic Regression. Оптимизация гиперпараметров: Optuna (CV).\n",
            "Метрика f1_score на тестовом наборе: 0.7796\n",
            "Наилучшие значения гиперпараметров:  {'penalty': 'l2', 'solver': 'sag', 'C': 0.019015223533847273}\n",
            "Время вычисления:  10 минут 9 секунд\n"
          ]
        }
      ]
    },
    {
      "cell_type": "markdown",
      "source": [
        "### **RandomForestClassifier**"
      ],
      "metadata": {
        "id": "QkF4pNQYQxfJ"
      },
      "id": "QkF4pNQYQxfJ"
    },
    {
      "cell_type": "code",
      "execution_count": 62,
      "id": "ubC21yLQpYyF",
      "metadata": {
        "colab": {
          "base_uri": "https://localhost:8080/"
        },
        "id": "ubC21yLQpYyF",
        "outputId": "9dce86f8-93fc-46fa-be0c-ba3f7c88b6cf"
      },
      "outputs": [
        {
          "output_type": "stream",
          "name": "stderr",
          "text": [
            "[I 2023-09-13 20:04:13,073] A new study created in memory with name: RandomForestClassifier\n",
            "[I 2023-09-13 20:04:20,925] Trial 0 finished with value: 0.8111788782144422 and parameters: {'n_estimators': 146, 'max_depth': 26, 'min_samples_leaf': 3}. Best is trial 0 with value: 0.8111788782144422.\n",
            "[I 2023-09-13 20:04:25,514] Trial 1 finished with value: 0.7818640667701582 and parameters: {'n_estimators': 187, 'max_depth': 6, 'min_samples_leaf': 1}. Best is trial 0 with value: 0.8111788782144422.\n",
            "[I 2023-09-13 20:04:30,135] Trial 2 finished with value: 0.8006798682411977 and parameters: {'n_estimators': 85, 'max_depth': 30, 'min_samples_leaf': 5}. Best is trial 0 with value: 0.8111788782144422.\n",
            "[I 2023-09-13 20:04:35,483] Trial 3 finished with value: 0.8067728781986011 and parameters: {'n_estimators': 156, 'max_depth': 9, 'min_samples_leaf': 1}. Best is trial 0 with value: 0.8111788782144422.\n",
            "[I 2023-09-13 20:04:37,520] Trial 4 finished with value: 0.7362626049019377 and parameters: {'n_estimators': 170, 'max_depth': 2, 'min_samples_leaf': 1}. Best is trial 0 with value: 0.8111788782144422.\n",
            "[I 2023-09-13 20:04:41,087] Trial 5 finished with value: 0.7654734940718029 and parameters: {'n_estimators': 185, 'max_depth': 4, 'min_samples_leaf': 2}. Best is trial 0 with value: 0.8111788782144422.\n",
            "[I 2023-09-13 20:04:50,296] Trial 6 finished with value: 0.8160713312472414 and parameters: {'n_estimators': 179, 'max_depth': 28, 'min_samples_leaf': 2}. Best is trial 6 with value: 0.8160713312472414.\n",
            "[I 2023-09-13 20:04:52,007] Trial 7 finished with value: 0.7385474725288932 and parameters: {'n_estimators': 136, 'max_depth': 2, 'min_samples_leaf': 6}. Best is trial 6 with value: 0.8160713312472414.\n",
            "[I 2023-09-13 20:04:58,167] Trial 8 finished with value: 0.8161531889467367 and parameters: {'n_estimators': 100, 'max_depth': 23, 'min_samples_leaf': 2}. Best is trial 8 with value: 0.8161531889467367.\n",
            "[I 2023-09-13 20:05:03,429] Trial 9 finished with value: 0.8087647304800839 and parameters: {'n_estimators': 131, 'max_depth': 21, 'min_samples_leaf': 5}. Best is trial 8 with value: 0.8161531889467367.\n",
            "[I 2023-09-13 20:05:07,079] Trial 10 finished with value: 0.800723798988155 and parameters: {'n_estimators': 92, 'max_depth': 14, 'min_samples_leaf': 8}. Best is trial 8 with value: 0.8161531889467367.\n",
            "[I 2023-09-13 20:05:13,018] Trial 11 finished with value: 0.8095784377968572 and parameters: {'n_estimators': 111, 'max_depth': 37, 'min_samples_leaf': 3}. Best is trial 8 with value: 0.8161531889467367.\n",
            "[I 2023-09-13 20:05:18,052] Trial 12 finished with value: 0.8083868265931583 and parameters: {'n_estimators': 113, 'max_depth': 31, 'min_samples_leaf': 3}. Best is trial 8 with value: 0.8161531889467367.\n",
            "[I 2023-09-13 20:05:26,359] Trial 13 finished with value: 0.8122476826057212 and parameters: {'n_estimators': 167, 'max_depth': 20, 'min_samples_leaf': 4}. Best is trial 8 with value: 0.8161531889467367.\n",
            "[I 2023-09-13 20:05:36,372] Trial 14 finished with value: 0.8152769415427901 and parameters: {'n_estimators': 197, 'max_depth': 40, 'min_samples_leaf': 2}. Best is trial 8 with value: 0.8161531889467367.\n",
            "[I 2023-09-13 20:05:40,589] Trial 15 finished with value: 0.8059031606676834 and parameters: {'n_estimators': 110, 'max_depth': 21, 'min_samples_leaf': 7}. Best is trial 8 with value: 0.8161531889467367.\n",
            "[I 2023-09-13 20:05:45,766] Trial 16 finished with value: 0.8110708927900484 and parameters: {'n_estimators': 124, 'max_depth': 27, 'min_samples_leaf': 4}. Best is trial 8 with value: 0.8161531889467367.\n",
            "[I 2023-09-13 20:05:51,256] Trial 17 finished with value: 0.8148623802346362 and parameters: {'n_estimators': 96, 'max_depth': 15, 'min_samples_leaf': 2}. Best is trial 8 with value: 0.8161531889467367.\n",
            "[I 2023-09-13 20:05:57,998] Trial 18 finished with value: 0.8148419199012775 and parameters: {'n_estimators': 153, 'max_depth': 34, 'min_samples_leaf': 2}. Best is trial 8 with value: 0.8161531889467367.\n",
            "[I 2023-09-13 20:06:06,622] Trial 19 finished with value: 0.8122328769075846 and parameters: {'n_estimators': 170, 'max_depth': 25, 'min_samples_leaf': 3}. Best is trial 8 with value: 0.8161531889467367.\n"
          ]
        },
        {
          "output_type": "stream",
          "name": "stdout",
          "text": [
            "Классификатор: RandomForestClassifier. Оптимизация гиперпараметров: Optuna (CV).\n",
            "Метрика f1_score на тестовом наборе: 0.7961\n",
            "Наилучшие значения гиперпараметров:  {'n_estimators': 100, 'max_depth': 23, 'min_samples_leaf': 2}\n",
            "Время вычисления:  1 минут 53 секунд\n"
          ]
        }
      ],
      "source": [
        "hpo_name = 'Optuna (CV)'\n",
        "\n",
        "def optuna_rf(trial):\n",
        "  # задаем пространство поиска гиперпараметров\n",
        "  params = { 'n_estimators': trial.suggest_int('n_estimators', 80, 200, 1)\n",
        "            , 'max_depth': trial.suggest_int('max_depth', 1, 40, 1)\n",
        "            , 'min_samples_leaf': trial.suggest_int('min_samples_leaf', 1, 8, 1)\n",
        "  }\n",
        "\n",
        "  # создаем модель, обучаем на кросс-валидации и получаем оценку f1 на обучающем наборе\n",
        "  estimator = clf_rand_forest\n",
        "  estimator.set_params(**params)\n",
        "  return cross_val_score(estimator, X_train, y_train, cv=5, scoring=\"f1\", n_jobs=-1).mean()\n",
        "\n",
        "# cоздаем объект исследования\n",
        "study_rf = optuna.create_study(study_name=name_rf, direction=\"maximize\")\n",
        "\n",
        "# ищем лучшую комбинацию гиперпараметров n_trials раз\n",
        "tic = time()\n",
        "study_rf.optimize(optuna_rf, n_trials=20)\n",
        "tic_end = time() - tic\n",
        "\n",
        "best_params = study_rf.best_params\n",
        "estimator = clf_rand_forest\n",
        "test_f1 = f1_score_evaluation(estimator, best_params)\n",
        "report(estimator.name, hpo_name, test_f1, tic_end, best_params)"
      ]
    },
    {
      "cell_type": "markdown",
      "source": [
        "---\n",
        "## Вывод"
      ],
      "metadata": {
        "id": "gnlGuqu0V5S6"
      },
      "id": "gnlGuqu0V5S6"
    },
    {
      "cell_type": "code",
      "source": [
        "# score_table = score_table.drop(score_table.index[-1])\n",
        "# score_table\n"
      ],
      "metadata": {
        "id": "rv9jEK09Thrj"
      },
      "id": "rv9jEK09Thrj",
      "execution_count": 63,
      "outputs": []
    },
    {
      "cell_type": "code",
      "execution_count": 64,
      "id": "1321b461",
      "metadata": {
        "colab": {
          "base_uri": "https://localhost:8080/",
          "height": 634
        },
        "id": "1321b461",
        "outputId": "27356679-f95a-4907-9cb7-2298d5a9ede4"
      },
      "outputs": [
        {
          "output_type": "execute_result",
          "data": {
            "text/plain": [
              "                name_model         optimization  test_f1  \\\n",
              "8      Logistic Regression        HyperOpt (CV)   0.7787   \n",
              "10     Logistic Regression          Optuna (CV)   0.7796   \n",
              "0      Logistic Regression              default   0.7798   \n",
              "2      Logistic Regression         GridSearchCV   0.7824   \n",
              "6      Logistic Regression   RandomizedSearchCV   0.7824   \n",
              "4      Logistic Regression  HalvingGridSearchCV   0.7857   \n",
              "7   RandomForestClassifier   RandomizedSearchCV   0.7908   \n",
              "11  RandomForestClassifier          Optuna (CV)   0.7961   \n",
              "1   RandomForestClassifier              default   0.8048   \n",
              "3   RandomForestClassifier         GridSearchCV   0.8092   \n",
              "9   RandomForestClassifier        HyperOpt (CV)   0.8093   \n",
              "5   RandomForestClassifier  HalvingGridSearchCV   0.8132   \n",
              "\n",
              "                                                        best_params  \\\n",
              "8   {'C': 0.017331323696411022, 'penalty': 'l2', 'solver': 'lbfgs'}   \n",
              "10    {'penalty': 'l2', 'solver': 'sag', 'C': 0.019015223533847273}   \n",
              "0                    {'penalty': 'l2', 'C': 1.0, 'solver': 'lbfgs'}   \n",
              "2                   {'C': 0.01, 'penalty': 'l2', 'solver': 'lbfgs'}   \n",
              "6                   {'solver': 'lbfgs', 'penalty': 'l2', 'C': 0.01}   \n",
              "4                      {'C': 0.1, 'penalty': 'l2', 'solver': 'sag'}   \n",
              "7     {'n_estimators': 159, 'min_samples_leaf': 2, 'max_depth': 10}   \n",
              "11    {'n_estimators': 100, 'max_depth': 23, 'min_samples_leaf': 2}   \n",
              "1   {'n_estimators': 100, 'max_depth': None, 'min_samples_leaf': 1}   \n",
              "3     {'max_depth': 17, 'min_samples_leaf': 1, 'n_estimators': 170}   \n",
              "9     {'max_depth': 15, 'min_samples_leaf': 2, 'n_estimators': 119}   \n",
              "5     {'max_depth': 32, 'min_samples_leaf': 1, 'n_estimators': 140}   \n",
              "\n",
              "                 time  \n",
              "8    5 минут 2 секунд  \n",
              "10  10 минут 9 секунд  \n",
              "0    0 минут 0 секунд  \n",
              "2   3 минут 53 секунд  \n",
              "6   5 минут 34 секунд  \n",
              "4   1 минут 21 секунд  \n",
              "7   3 минут 55 секунд  \n",
              "11  1 минут 53 секунд  \n",
              "1    0 минут 2 секунд  \n",
              "3   3 минут 28 секунд  \n",
              "9   4 минут 32 секунд  \n",
              "5   1 минут 47 секунд  "
            ],
            "text/html": [
              "\n",
              "  <div id=\"df-9229422d-e4a7-467f-8850-b5e45fdce275\" class=\"colab-df-container\">\n",
              "    <div>\n",
              "<style scoped>\n",
              "    .dataframe tbody tr th:only-of-type {\n",
              "        vertical-align: middle;\n",
              "    }\n",
              "\n",
              "    .dataframe tbody tr th {\n",
              "        vertical-align: top;\n",
              "    }\n",
              "\n",
              "    .dataframe thead th {\n",
              "        text-align: right;\n",
              "    }\n",
              "</style>\n",
              "<table border=\"1\" class=\"dataframe\">\n",
              "  <thead>\n",
              "    <tr style=\"text-align: right;\">\n",
              "      <th></th>\n",
              "      <th>name_model</th>\n",
              "      <th>optimization</th>\n",
              "      <th>test_f1</th>\n",
              "      <th>best_params</th>\n",
              "      <th>time</th>\n",
              "    </tr>\n",
              "  </thead>\n",
              "  <tbody>\n",
              "    <tr>\n",
              "      <th>8</th>\n",
              "      <td>Logistic Regression</td>\n",
              "      <td>HyperOpt (CV)</td>\n",
              "      <td>0.7787</td>\n",
              "      <td>{'C': 0.017331323696411022, 'penalty': 'l2', 'solver': 'lbfgs'}</td>\n",
              "      <td>5 минут 2 секунд</td>\n",
              "    </tr>\n",
              "    <tr>\n",
              "      <th>10</th>\n",
              "      <td>Logistic Regression</td>\n",
              "      <td>Optuna (CV)</td>\n",
              "      <td>0.7796</td>\n",
              "      <td>{'penalty': 'l2', 'solver': 'sag', 'C': 0.019015223533847273}</td>\n",
              "      <td>10 минут 9 секунд</td>\n",
              "    </tr>\n",
              "    <tr>\n",
              "      <th>0</th>\n",
              "      <td>Logistic Regression</td>\n",
              "      <td>default</td>\n",
              "      <td>0.7798</td>\n",
              "      <td>{'penalty': 'l2', 'C': 1.0, 'solver': 'lbfgs'}</td>\n",
              "      <td>0 минут 0 секунд</td>\n",
              "    </tr>\n",
              "    <tr>\n",
              "      <th>2</th>\n",
              "      <td>Logistic Regression</td>\n",
              "      <td>GridSearchCV</td>\n",
              "      <td>0.7824</td>\n",
              "      <td>{'C': 0.01, 'penalty': 'l2', 'solver': 'lbfgs'}</td>\n",
              "      <td>3 минут 53 секунд</td>\n",
              "    </tr>\n",
              "    <tr>\n",
              "      <th>6</th>\n",
              "      <td>Logistic Regression</td>\n",
              "      <td>RandomizedSearchCV</td>\n",
              "      <td>0.7824</td>\n",
              "      <td>{'solver': 'lbfgs', 'penalty': 'l2', 'C': 0.01}</td>\n",
              "      <td>5 минут 34 секунд</td>\n",
              "    </tr>\n",
              "    <tr>\n",
              "      <th>4</th>\n",
              "      <td>Logistic Regression</td>\n",
              "      <td>HalvingGridSearchCV</td>\n",
              "      <td>0.7857</td>\n",
              "      <td>{'C': 0.1, 'penalty': 'l2', 'solver': 'sag'}</td>\n",
              "      <td>1 минут 21 секунд</td>\n",
              "    </tr>\n",
              "    <tr>\n",
              "      <th>7</th>\n",
              "      <td>RandomForestClassifier</td>\n",
              "      <td>RandomizedSearchCV</td>\n",
              "      <td>0.7908</td>\n",
              "      <td>{'n_estimators': 159, 'min_samples_leaf': 2, 'max_depth': 10}</td>\n",
              "      <td>3 минут 55 секунд</td>\n",
              "    </tr>\n",
              "    <tr>\n",
              "      <th>11</th>\n",
              "      <td>RandomForestClassifier</td>\n",
              "      <td>Optuna (CV)</td>\n",
              "      <td>0.7961</td>\n",
              "      <td>{'n_estimators': 100, 'max_depth': 23, 'min_samples_leaf': 2}</td>\n",
              "      <td>1 минут 53 секунд</td>\n",
              "    </tr>\n",
              "    <tr>\n",
              "      <th>1</th>\n",
              "      <td>RandomForestClassifier</td>\n",
              "      <td>default</td>\n",
              "      <td>0.8048</td>\n",
              "      <td>{'n_estimators': 100, 'max_depth': None, 'min_samples_leaf': 1}</td>\n",
              "      <td>0 минут 2 секунд</td>\n",
              "    </tr>\n",
              "    <tr>\n",
              "      <th>3</th>\n",
              "      <td>RandomForestClassifier</td>\n",
              "      <td>GridSearchCV</td>\n",
              "      <td>0.8092</td>\n",
              "      <td>{'max_depth': 17, 'min_samples_leaf': 1, 'n_estimators': 170}</td>\n",
              "      <td>3 минут 28 секунд</td>\n",
              "    </tr>\n",
              "    <tr>\n",
              "      <th>9</th>\n",
              "      <td>RandomForestClassifier</td>\n",
              "      <td>HyperOpt (CV)</td>\n",
              "      <td>0.8093</td>\n",
              "      <td>{'max_depth': 15, 'min_samples_leaf': 2, 'n_estimators': 119}</td>\n",
              "      <td>4 минут 32 секунд</td>\n",
              "    </tr>\n",
              "    <tr>\n",
              "      <th>5</th>\n",
              "      <td>RandomForestClassifier</td>\n",
              "      <td>HalvingGridSearchCV</td>\n",
              "      <td>0.8132</td>\n",
              "      <td>{'max_depth': 32, 'min_samples_leaf': 1, 'n_estimators': 140}</td>\n",
              "      <td>1 минут 47 секунд</td>\n",
              "    </tr>\n",
              "  </tbody>\n",
              "</table>\n",
              "</div>\n",
              "    <div class=\"colab-df-buttons\">\n",
              "\n",
              "  <div class=\"colab-df-container\">\n",
              "    <button class=\"colab-df-convert\" onclick=\"convertToInteractive('df-9229422d-e4a7-467f-8850-b5e45fdce275')\"\n",
              "            title=\"Convert this dataframe to an interactive table.\"\n",
              "            style=\"display:none;\">\n",
              "\n",
              "  <svg xmlns=\"http://www.w3.org/2000/svg\" height=\"24px\" viewBox=\"0 -960 960 960\">\n",
              "    <path d=\"M120-120v-720h720v720H120Zm60-500h600v-160H180v160Zm220 220h160v-160H400v160Zm0 220h160v-160H400v160ZM180-400h160v-160H180v160Zm440 0h160v-160H620v160ZM180-180h160v-160H180v160Zm440 0h160v-160H620v160Z\"/>\n",
              "  </svg>\n",
              "    </button>\n",
              "\n",
              "  <style>\n",
              "    .colab-df-container {\n",
              "      display:flex;\n",
              "      gap: 12px;\n",
              "    }\n",
              "\n",
              "    .colab-df-convert {\n",
              "      background-color: #E8F0FE;\n",
              "      border: none;\n",
              "      border-radius: 50%;\n",
              "      cursor: pointer;\n",
              "      display: none;\n",
              "      fill: #1967D2;\n",
              "      height: 32px;\n",
              "      padding: 0 0 0 0;\n",
              "      width: 32px;\n",
              "    }\n",
              "\n",
              "    .colab-df-convert:hover {\n",
              "      background-color: #E2EBFA;\n",
              "      box-shadow: 0px 1px 2px rgba(60, 64, 67, 0.3), 0px 1px 3px 1px rgba(60, 64, 67, 0.15);\n",
              "      fill: #174EA6;\n",
              "    }\n",
              "\n",
              "    .colab-df-buttons div {\n",
              "      margin-bottom: 4px;\n",
              "    }\n",
              "\n",
              "    [theme=dark] .colab-df-convert {\n",
              "      background-color: #3B4455;\n",
              "      fill: #D2E3FC;\n",
              "    }\n",
              "\n",
              "    [theme=dark] .colab-df-convert:hover {\n",
              "      background-color: #434B5C;\n",
              "      box-shadow: 0px 1px 3px 1px rgba(0, 0, 0, 0.15);\n",
              "      filter: drop-shadow(0px 1px 2px rgba(0, 0, 0, 0.3));\n",
              "      fill: #FFFFFF;\n",
              "    }\n",
              "  </style>\n",
              "\n",
              "    <script>\n",
              "      const buttonEl =\n",
              "        document.querySelector('#df-9229422d-e4a7-467f-8850-b5e45fdce275 button.colab-df-convert');\n",
              "      buttonEl.style.display =\n",
              "        google.colab.kernel.accessAllowed ? 'block' : 'none';\n",
              "\n",
              "      async function convertToInteractive(key) {\n",
              "        const element = document.querySelector('#df-9229422d-e4a7-467f-8850-b5e45fdce275');\n",
              "        const dataTable =\n",
              "          await google.colab.kernel.invokeFunction('convertToInteractive',\n",
              "                                                    [key], {});\n",
              "        if (!dataTable) return;\n",
              "\n",
              "        const docLinkHtml = 'Like what you see? Visit the ' +\n",
              "          '<a target=\"_blank\" href=https://colab.research.google.com/notebooks/data_table.ipynb>data table notebook</a>'\n",
              "          + ' to learn more about interactive tables.';\n",
              "        element.innerHTML = '';\n",
              "        dataTable['output_type'] = 'display_data';\n",
              "        await google.colab.output.renderOutput(dataTable, element);\n",
              "        const docLink = document.createElement('div');\n",
              "        docLink.innerHTML = docLinkHtml;\n",
              "        element.appendChild(docLink);\n",
              "      }\n",
              "    </script>\n",
              "  </div>\n",
              "\n",
              "\n",
              "<div id=\"df-60ad5959-77e3-4534-95b4-27a602359d45\">\n",
              "  <button class=\"colab-df-quickchart\" onclick=\"quickchart('df-60ad5959-77e3-4534-95b4-27a602359d45')\"\n",
              "            title=\"Suggest charts.\"\n",
              "            style=\"display:none;\">\n",
              "\n",
              "<svg xmlns=\"http://www.w3.org/2000/svg\" height=\"24px\"viewBox=\"0 0 24 24\"\n",
              "     width=\"24px\">\n",
              "    <g>\n",
              "        <path d=\"M19 3H5c-1.1 0-2 .9-2 2v14c0 1.1.9 2 2 2h14c1.1 0 2-.9 2-2V5c0-1.1-.9-2-2-2zM9 17H7v-7h2v7zm4 0h-2V7h2v10zm4 0h-2v-4h2v4z\"/>\n",
              "    </g>\n",
              "</svg>\n",
              "  </button>\n",
              "\n",
              "<style>\n",
              "  .colab-df-quickchart {\n",
              "      --bg-color: #E8F0FE;\n",
              "      --fill-color: #1967D2;\n",
              "      --hover-bg-color: #E2EBFA;\n",
              "      --hover-fill-color: #174EA6;\n",
              "      --disabled-fill-color: #AAA;\n",
              "      --disabled-bg-color: #DDD;\n",
              "  }\n",
              "\n",
              "  [theme=dark] .colab-df-quickchart {\n",
              "      --bg-color: #3B4455;\n",
              "      --fill-color: #D2E3FC;\n",
              "      --hover-bg-color: #434B5C;\n",
              "      --hover-fill-color: #FFFFFF;\n",
              "      --disabled-bg-color: #3B4455;\n",
              "      --disabled-fill-color: #666;\n",
              "  }\n",
              "\n",
              "  .colab-df-quickchart {\n",
              "    background-color: var(--bg-color);\n",
              "    border: none;\n",
              "    border-radius: 50%;\n",
              "    cursor: pointer;\n",
              "    display: none;\n",
              "    fill: var(--fill-color);\n",
              "    height: 32px;\n",
              "    padding: 0;\n",
              "    width: 32px;\n",
              "  }\n",
              "\n",
              "  .colab-df-quickchart:hover {\n",
              "    background-color: var(--hover-bg-color);\n",
              "    box-shadow: 0 1px 2px rgba(60, 64, 67, 0.3), 0 1px 3px 1px rgba(60, 64, 67, 0.15);\n",
              "    fill: var(--button-hover-fill-color);\n",
              "  }\n",
              "\n",
              "  .colab-df-quickchart-complete:disabled,\n",
              "  .colab-df-quickchart-complete:disabled:hover {\n",
              "    background-color: var(--disabled-bg-color);\n",
              "    fill: var(--disabled-fill-color);\n",
              "    box-shadow: none;\n",
              "  }\n",
              "\n",
              "  .colab-df-spinner {\n",
              "    border: 2px solid var(--fill-color);\n",
              "    border-color: transparent;\n",
              "    border-bottom-color: var(--fill-color);\n",
              "    animation:\n",
              "      spin 1s steps(1) infinite;\n",
              "  }\n",
              "\n",
              "  @keyframes spin {\n",
              "    0% {\n",
              "      border-color: transparent;\n",
              "      border-bottom-color: var(--fill-color);\n",
              "      border-left-color: var(--fill-color);\n",
              "    }\n",
              "    20% {\n",
              "      border-color: transparent;\n",
              "      border-left-color: var(--fill-color);\n",
              "      border-top-color: var(--fill-color);\n",
              "    }\n",
              "    30% {\n",
              "      border-color: transparent;\n",
              "      border-left-color: var(--fill-color);\n",
              "      border-top-color: var(--fill-color);\n",
              "      border-right-color: var(--fill-color);\n",
              "    }\n",
              "    40% {\n",
              "      border-color: transparent;\n",
              "      border-right-color: var(--fill-color);\n",
              "      border-top-color: var(--fill-color);\n",
              "    }\n",
              "    60% {\n",
              "      border-color: transparent;\n",
              "      border-right-color: var(--fill-color);\n",
              "    }\n",
              "    80% {\n",
              "      border-color: transparent;\n",
              "      border-right-color: var(--fill-color);\n",
              "      border-bottom-color: var(--fill-color);\n",
              "    }\n",
              "    90% {\n",
              "      border-color: transparent;\n",
              "      border-bottom-color: var(--fill-color);\n",
              "    }\n",
              "  }\n",
              "</style>\n",
              "\n",
              "  <script>\n",
              "    async function quickchart(key) {\n",
              "      const quickchartButtonEl =\n",
              "        document.querySelector('#' + key + ' button');\n",
              "      quickchartButtonEl.disabled = true;  // To prevent multiple clicks.\n",
              "      quickchartButtonEl.classList.add('colab-df-spinner');\n",
              "      try {\n",
              "        const charts = await google.colab.kernel.invokeFunction(\n",
              "            'suggestCharts', [key], {});\n",
              "      } catch (error) {\n",
              "        console.error('Error during call to suggestCharts:', error);\n",
              "      }\n",
              "      quickchartButtonEl.classList.remove('colab-df-spinner');\n",
              "      quickchartButtonEl.classList.add('colab-df-quickchart-complete');\n",
              "    }\n",
              "    (() => {\n",
              "      let quickchartButtonEl =\n",
              "        document.querySelector('#df-60ad5959-77e3-4534-95b4-27a602359d45 button');\n",
              "      quickchartButtonEl.style.display =\n",
              "        google.colab.kernel.accessAllowed ? 'block' : 'none';\n",
              "    })();\n",
              "  </script>\n",
              "</div>\n",
              "    </div>\n",
              "  </div>\n"
            ]
          },
          "metadata": {},
          "execution_count": 64
        }
      ],
      "source": [
        "pd.set_option('display.max_colwidth', None)\n",
        "score_table.sort_values(by=['name_model','test_f1'])\n"
      ]
    },
    {
      "cell_type": "code",
      "source": [
        "# compression_opts = dict(method='zip', archive_name='hpo.csv')\n",
        "# path_file = './drive/MyDrive/DS/data/hpo.zip'\n",
        "# score_table.to_csv(path_file, index=False, compression=compression_opts)\n",
        "# score_table = pd.read_csv(path_file)"
      ],
      "metadata": {
        "id": "PULsW7nYHC08"
      },
      "id": "PULsW7nYHC08",
      "execution_count": 65,
      "outputs": []
    },
    {
      "cell_type": "code",
      "source": [
        "lr_data = score_table.query(\"name_model == 'Logistic Regression'\")\n",
        "rf_data = score_table.query(\"name_model == 'RandomForestClassifier'\")\n",
        "\n",
        "# График для RandomForest\n",
        "plt.figure(figsize=(10, 6))\n",
        "sns.lineplot(data=rf_data, x='optimization', y='test_f1', label='RandomForest', marker='o')\n",
        "\n",
        "# График для LogisticRegression\n",
        "sns.lineplot(data=lr_data, x='optimization', y='test_f1', label='LogisticRegression', marker='o')\n",
        "\n",
        "# Внешний вид графика\n",
        "plt.title('Кривые оценки F1 для RandomForest и LogisticRegression')\n",
        "plt.xlabel('Оптимизация')\n",
        "plt.ylabel('Оценка F1')\n",
        "plt.xticks(rotation=45)\n",
        "plt.grid(True)\n",
        "plt.legend()\n",
        "\n",
        "plt.show()"
      ],
      "metadata": {
        "id": "f4DaX--Q5dOY",
        "colab": {
          "base_uri": "https://localhost:8080/",
          "height": 687
        },
        "outputId": "4a7634ed-e9f3-4352-c984-243d96e8b874"
      },
      "id": "f4DaX--Q5dOY",
      "execution_count": 66,
      "outputs": [
        {
          "output_type": "display_data",
          "data": {
            "text/plain": [
              "<Figure size 1000x600 with 1 Axes>"
            ],
            "image/png": "[encoded data removed]"
          },
          "metadata": {}
        }
      ]
    },
    {
      "cell_type": "code",
      "source": [
        "score_table.loc[0, 'name_model']"
      ],
      "metadata": {
        "colab": {
          "base_uri": "https://localhost:8080/",
          "height": 36
        },
        "id": "X-goDvpkRhjP",
        "outputId": "aa7872b9-d4d4-4894-8755-fcbb098614bc"
      },
      "id": "X-goDvpkRhjP",
      "execution_count": 57,
      "outputs": [
        {
          "output_type": "execute_result",
          "data": {
            "text/plain": [
              "'Logistic Regression'"
            ],
            "application/vnd.google.colaboratory.intrinsic+json": {
              "type": "string"
            }
          },
          "metadata": {},
          "execution_count": 57
        }
      ]
    },
    {
      "cell_type": "markdown",
      "source": [
        "#### Вывод : Классификатор RandomForestClassifier выдает лучшие характеристики по предсказанию по сравнению с логистической регрессией. Разброс лучших параметров возможно либо из-за ограничения MAX_ITER, либо расширить поиск диапазона гиперпараметров"
      ],
      "metadata": {
        "id": "Y14LaAKs7q3U"
      },
      "id": "Y14LaAKs7q3U"
    }
  ],
  "metadata": {
    "colab": {
      "provenance": [],
      "include_colab_link": true
    },
    "kernelspec": {
      "display_name": "Python 3.8.13 64-bit",
      "language": "python",
      "name": "python3"
    },
    "language_info": {
      "codemirror_mode": {
        "name": "ipython",
        "version": 3
      },
      "file_extension": ".py",
      "mimetype": "text/x-python",
      "name": "python",
      "nbconvert_exporter": "python",
      "pygments_lexer": "ipython3",
      "version": "3.8.13"
    },
    "vscode": {
      "interpreter": {
        "hash": "2469a70536e4d2335a2ea8907942d0699c37342a371ac185bdb5b0aa6f073890"
      }
    }
  },
  "nbformat": 4,
  "nbformat_minor": 5
}